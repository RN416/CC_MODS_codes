{
 "cells": [
  {
   "cell_type": "code",
   "execution_count": 1,
   "metadata": {},
   "outputs": [
    {
     "name": "stdout",
     "output_type": "stream",
     "text": [
      "/Users/zhounan/Documents/Github_Project/CC_MODS_codes\n"
     ]
    }
   ],
   "source": [
    "# system setting\n",
    "import os\n",
    "import sys\n",
    "file_path = globals()['_dh'][0]\n",
    "root_dir = os.path.abspath(os.path.join(file_path, ''))\n",
    "sys.path.append(root_dir)\n",
    "sys.dont_write_bytecode = True\n",
    "os.chdir(root_dir)\n",
    "print(root_dir)"
   ]
  },
  {
   "cell_type": "code",
   "execution_count": 1,
   "metadata": {},
   "outputs": [],
   "source": [
    "# import warnings filter\n",
    "from warnings import simplefilter\n",
    "# ignore all future warnings\n",
    "simplefilter(action='ignore', category=FutureWarning)\n",
    "import pandas as pd\n",
    "import numpy as np\n",
    "from numpy import arange\n",
    "from numpy import argmax\n",
    "#from mlxtend.classifier import StackingClassifier\n",
    "#from sklearn.ensemble import VotingClassifier\n",
    "from sklearn.ensemble import RandomForestClassifier\n",
    "from sklearn.model_selection import GridSearchCV\n",
    "from sklearn.model_selection import train_test_split\n",
    "from numpy import arange\n",
    "from sklearn.metrics import accuracy_score\n",
    "import copy\n",
    "import matplotlib.pyplot as plt\n",
    "from sklearn.feature_selection import SelectFromModel\n",
    "from sklearn.ensemble import ExtraTreesClassifier\n",
    "from sklearn.ensemble import GradientBoostingClassifier\n",
    "from sklearn.ensemble import AdaBoostClassifier\n",
    "from numpy import argmax\n",
    "from sklearn import metrics\n",
    "from imblearn.metrics import sensitivity_score\n",
    "from imblearn.metrics import specificity_score\n",
    "from sklearn.metrics import roc_auc_score\n",
    "from sklearn.metrics import accuracy_score\n",
    "from sklearn.tree import DecisionTreeClassifier\n",
    "from sklearn.linear_model import LogisticRegression\n",
    "#from sklearn.naive_bayes import MultinomialNB\n",
    "#from sklearn.naive_bayes import GaussianNB\n",
    "from sklearn.svm import LinearSVC, SVC\n",
    "from sklearn.neighbors import KNeighborsClassifier\n",
    "from sklearn.model_selection import cross_val_score\n",
    "from sklearn.model_selection import cross_validate\n",
    "from sklearn.model_selection import GridSearchCV\n",
    "from sklearn.ensemble import RandomForestClassifier, VotingClassifier\n",
    "from sklearn import preprocessing\n",
    "from sklearn.preprocessing import MinMaxScaler\n",
    "import pickle\n",
    "from sklearn.metrics import confusion_matrix\n",
    "from sklearn.utils import resample\n",
    "from imblearn.over_sampling import SMOTE\n",
    "from sklearn.metrics import classification_report\n",
    "from sklearn.discriminant_analysis import QuadraticDiscriminantAnalysis\n",
    "from sklearn import metrics\n",
    "from sklearn.metrics import roc_curve, auc\n",
    "from sklearn.metrics import roc_auc_score\n",
    "from sklearn.model_selection import cross_val_predict\n",
    "from sklearn.model_selection import StratifiedKFold\n",
    "import numpy as np\n",
    "from sklearn.ensemble import RandomForestClassifier\n",
    "from sklearn import datasets\n",
    "from sklearn.model_selection import train_test_split\n",
    "from sklearn.feature_selection import SelectFromModel\n",
    "from sklearn.metrics import accuracy_score\n",
    "from sklearn.feature_selection import RFECV\n",
    "from sklearn.discriminant_analysis import LinearDiscriminantAnalysis\n",
    "import scipy.stats as ss\n",
    "import itertools\n",
    "from sklearn.metrics import fbeta_score, make_scorer\n",
    "from sklearn.manifold import TSNE\n",
    "from sklearn.multiclass import OneVsRestClassifier\n",
    "from sklearn.model_selection import LeaveOneOut\n",
    "from sklearn.preprocessing import StandardScaler\n",
    "from sklearn.model_selection import KFold\n",
    "import scipy\n",
    "import numpy as np, scipy.stats as st\n",
    "from sklearn.model_selection import RepeatedStratifiedKFold\n",
    "from sklearn.neural_network import MLPClassifier\n",
    "from scipy import interp\n",
    "from collections import Counter\n",
    "from sklearn.model_selection import StratifiedKFold\n",
    "from sklearn.preprocessing import StandardScaler, RobustScaler, MinMaxScaler\n",
    "from sklearn.ensemble import BaggingClassifier\n",
    "from imblearn.ensemble import BalancedBaggingClassifier\n",
    "from imblearn.ensemble import BalancedRandomForestClassifier\n",
    "from imblearn.ensemble import EasyEnsembleClassifier\n",
    "from imblearn.ensemble import RUSBoostClassifier\n",
    "from imblearn.under_sampling import ClusterCentroids \n",
    "from sklearn.linear_model import RidgeCV, LassoCV, Ridge, Lasso\n",
    "from imblearn.under_sampling import RepeatedEditedNearestNeighbours\n",
    "from imblearn.under_sampling import EditedNearestNeighbours\n",
    "from imblearn.under_sampling import RepeatedEditedNearestNeighbours\n",
    "from imblearn.under_sampling import AllKNN\n",
    "from imblearn.under_sampling import CondensedNearestNeighbour\n",
    "from imblearn.under_sampling import TomekLinks\n",
    "from imblearn.under_sampling import InstanceHardnessThreshold\n",
    "from imblearn.under_sampling import NearMiss\n",
    "from imblearn.under_sampling import NeighbourhoodCleaningRule\n",
    "from imblearn.under_sampling import     OneSidedSelection \n",
    "from imblearn.under_sampling import RandomUnderSampler\n",
    "from imblearn.metrics import classification_report_imbalanced\n",
    "from imblearn.under_sampling import ClusterCentroids\n",
    "from imblearn.over_sampling import SMOTE\n",
    "from imblearn.over_sampling import ADASYN\n",
    "from imblearn.over_sampling import RandomOverSampler\n",
    "from imblearn.over_sampling import SVMSMOTE\n",
    "from imblearn.over_sampling import BorderlineSMOTE\n",
    "from imblearn.over_sampling import SMOTE\n",
    "from imblearn.over_sampling import SVMSMOTE\n",
    "from imblearn.over_sampling import SMOTENC\n",
    "from imblearn.over_sampling import ADASYN\n",
    "from imblearn.over_sampling import KMeansSMOTE\n",
    "from imblearn.over_sampling import RandomOverSampler\n",
    "from imblearn.over_sampling import BorderlineSMOTE\n",
    "from imblearn.over_sampling import SMOTE\n",
    "from imblearn.over_sampling import SVMSMOTE\n",
    "from imblearn.over_sampling import SMOTENC\n",
    "from imblearn.over_sampling import ADASYN\n",
    "from imblearn.over_sampling import KMeansSMOTE\n",
    "from imblearn.over_sampling import RandomOverSampler\n",
    "from imblearn.over_sampling import BorderlineSMOTE\n",
    "#import xgboost as xgb\n",
    "import itertools\n",
    "from sklearn.naive_bayes import GaussianNB\n",
    "from imblearn.metrics import sensitivity_score\n",
    "from imblearn.metrics import specificity_score\n",
    "from sklearn.metrics import balanced_accuracy_score\n",
    "from sklearn.metrics import matthews_corrcoef\n"
   ]
  },
  {
   "cell_type": "code",
   "execution_count": 2,
   "metadata": {},
   "outputs": [],
   "source": [
    "#Training data\n",
    "gene_only_66099=pd.read_table('DGE_RMA_MODS_day3day7.txt')\n",
    "# TODO 缺少 DGE_RMA_MODS_day3day7_clinical.txt 文件\n",
    "clinical_only = pd.DataFrame(columns=['Propensity'])\n",
    "clinical_only['Propensity'] = np.random.randint(0, 2, gene_only_66099.shape[0])\n",
    "# clinical_only=pd.read_table('DGE_RMA_MODS_day3day7_clinical.txt')\n",
    "clinical_cols=clinical_only['Propensity']\n",
    "labs_train= gene_only_66099['Label']\n",
    "labs_train=labs_train.astype('category').cat.codes\n",
    "gene_only_66099=gene_only_66099.drop('Label',axis=1)\n",
    "combined_train = pd.concat([gene_only_66099.reset_index(drop=True), clinical_cols], axis=1)\n",
    "# TODO txt load to list \n",
    "with open('Top_feats_Day3Day7MODS_without_propensity.txt') as f:\n",
    "    deg = f.readlines()\n",
    "deg = [x.replace(\"\\n\",\"\") for x in deg]\n",
    "deg.remove('X')\n",
    "# deg=pd.read_table('Top_feats_Day3Day7MODS_without_propensity.txt')\n",
    "# deg=pd.read_table('Top_feats_Day3Day7MODS.txt')\n",
    "genes_not_present = {'H1-2','PRG2','TCEAL9'} #genes not common across all four feature sets\n",
    "deg_final = [ele for ele in deg if ele not in genes_not_present]\n",
    "#Test data: 5882\n",
    "gene_only=pd.read_table('External_Validation_Data_Day3Day7_5882.txt')\n",
    "clinical_only=pd.read_table('External_Validation_Clinical_5882.txt')\n",
    "clinical_cols=clinical_only['Propensity']\n",
    "labs_test_5882= gene_only['Label']\n",
    "labs_test_5882=labs_test_5882.astype('category').cat.codes\n",
    "gene_only=gene_only.drop('Label',axis=1)\n",
    "#combined_test_5882 = pd.concat([gene_only.reset_index(drop=True), clinical_cols], axis=1)\n",
    "combined_test_5882=gene_only"
   ]
  },
  {
   "cell_type": "code",
   "execution_count": 4,
   "metadata": {},
   "outputs": [
    {
     "data": {
      "text/html": [
       "<div>\n",
       "<style scoped>\n",
       "    .dataframe tbody tr th:only-of-type {\n",
       "        vertical-align: middle;\n",
       "    }\n",
       "\n",
       "    .dataframe tbody tr th {\n",
       "        vertical-align: top;\n",
       "    }\n",
       "\n",
       "    .dataframe thead th {\n",
       "        text-align: right;\n",
       "    }\n",
       "</style>\n",
       "<table border=\"1\" class=\"dataframe\">\n",
       "  <thead>\n",
       "    <tr style=\"text-align: right;\">\n",
       "      <th></th>\n",
       "      <th>A1BG</th>\n",
       "      <th>A1BG-AS1</th>\n",
       "      <th>A1CF</th>\n",
       "      <th>A2M</th>\n",
       "      <th>A2M-AS1</th>\n",
       "      <th>A2ML1</th>\n",
       "      <th>A2MP1</th>\n",
       "      <th>A4GALT</th>\n",
       "      <th>A4GNT</th>\n",
       "      <th>AA06</th>\n",
       "      <th>...</th>\n",
       "      <th>ZWINT</th>\n",
       "      <th>ZXDA</th>\n",
       "      <th>ZXDB</th>\n",
       "      <th>ZXDC</th>\n",
       "      <th>ZYG11A</th>\n",
       "      <th>ZYG11B</th>\n",
       "      <th>ZYX</th>\n",
       "      <th>ZZEF1</th>\n",
       "      <th>ZZZ3</th>\n",
       "      <th>Propensity</th>\n",
       "    </tr>\n",
       "  </thead>\n",
       "  <tbody>\n",
       "    <tr>\n",
       "      <th>0</th>\n",
       "      <td>5.9737</td>\n",
       "      <td>5.6516</td>\n",
       "      <td>4.6322</td>\n",
       "      <td>5.2656</td>\n",
       "      <td>6.1086</td>\n",
       "      <td>4.2531</td>\n",
       "      <td>6.1402</td>\n",
       "      <td>6.9498</td>\n",
       "      <td>4.5328</td>\n",
       "      <td>5.3230</td>\n",
       "      <td>...</td>\n",
       "      <td>7.3782</td>\n",
       "      <td>5.3837</td>\n",
       "      <td>4.5050</td>\n",
       "      <td>5.9060</td>\n",
       "      <td>5.4672</td>\n",
       "      <td>6.7160</td>\n",
       "      <td>7.5318</td>\n",
       "      <td>5.7936</td>\n",
       "      <td>6.1746</td>\n",
       "      <td>1</td>\n",
       "    </tr>\n",
       "    <tr>\n",
       "      <th>1</th>\n",
       "      <td>5.9725</td>\n",
       "      <td>5.9973</td>\n",
       "      <td>4.0184</td>\n",
       "      <td>4.8748</td>\n",
       "      <td>8.1499</td>\n",
       "      <td>3.7165</td>\n",
       "      <td>5.3832</td>\n",
       "      <td>6.8356</td>\n",
       "      <td>4.1879</td>\n",
       "      <td>4.9401</td>\n",
       "      <td>...</td>\n",
       "      <td>8.2696</td>\n",
       "      <td>5.3352</td>\n",
       "      <td>4.7362</td>\n",
       "      <td>6.5270</td>\n",
       "      <td>5.1194</td>\n",
       "      <td>7.5907</td>\n",
       "      <td>7.8080</td>\n",
       "      <td>5.7540</td>\n",
       "      <td>6.9299</td>\n",
       "      <td>1</td>\n",
       "    </tr>\n",
       "    <tr>\n",
       "      <th>2</th>\n",
       "      <td>5.5292</td>\n",
       "      <td>5.3956</td>\n",
       "      <td>4.3464</td>\n",
       "      <td>4.8031</td>\n",
       "      <td>6.2715</td>\n",
       "      <td>4.0979</td>\n",
       "      <td>5.9111</td>\n",
       "      <td>6.6819</td>\n",
       "      <td>4.4407</td>\n",
       "      <td>5.0890</td>\n",
       "      <td>...</td>\n",
       "      <td>7.3618</td>\n",
       "      <td>5.6906</td>\n",
       "      <td>4.2694</td>\n",
       "      <td>6.0993</td>\n",
       "      <td>4.8227</td>\n",
       "      <td>8.5845</td>\n",
       "      <td>8.9739</td>\n",
       "      <td>5.3396</td>\n",
       "      <td>6.6552</td>\n",
       "      <td>1</td>\n",
       "    </tr>\n",
       "    <tr>\n",
       "      <th>3</th>\n",
       "      <td>5.8049</td>\n",
       "      <td>5.5715</td>\n",
       "      <td>4.2828</td>\n",
       "      <td>5.3613</td>\n",
       "      <td>4.5816</td>\n",
       "      <td>4.2411</td>\n",
       "      <td>5.6468</td>\n",
       "      <td>7.1825</td>\n",
       "      <td>4.5793</td>\n",
       "      <td>5.5226</td>\n",
       "      <td>...</td>\n",
       "      <td>5.8075</td>\n",
       "      <td>4.9643</td>\n",
       "      <td>4.1637</td>\n",
       "      <td>6.1343</td>\n",
       "      <td>5.1334</td>\n",
       "      <td>7.1093</td>\n",
       "      <td>10.2025</td>\n",
       "      <td>5.7300</td>\n",
       "      <td>6.4642</td>\n",
       "      <td>1</td>\n",
       "    </tr>\n",
       "    <tr>\n",
       "      <th>4</th>\n",
       "      <td>5.9273</td>\n",
       "      <td>5.6405</td>\n",
       "      <td>4.0158</td>\n",
       "      <td>4.6966</td>\n",
       "      <td>6.4319</td>\n",
       "      <td>4.0282</td>\n",
       "      <td>5.5456</td>\n",
       "      <td>6.3993</td>\n",
       "      <td>4.5272</td>\n",
       "      <td>5.1858</td>\n",
       "      <td>...</td>\n",
       "      <td>7.1355</td>\n",
       "      <td>5.9395</td>\n",
       "      <td>4.6246</td>\n",
       "      <td>5.9656</td>\n",
       "      <td>4.8707</td>\n",
       "      <td>8.5288</td>\n",
       "      <td>9.4993</td>\n",
       "      <td>5.6062</td>\n",
       "      <td>7.5776</td>\n",
       "      <td>0</td>\n",
       "    </tr>\n",
       "    <tr>\n",
       "      <th>...</th>\n",
       "      <td>...</td>\n",
       "      <td>...</td>\n",
       "      <td>...</td>\n",
       "      <td>...</td>\n",
       "      <td>...</td>\n",
       "      <td>...</td>\n",
       "      <td>...</td>\n",
       "      <td>...</td>\n",
       "      <td>...</td>\n",
       "      <td>...</td>\n",
       "      <td>...</td>\n",
       "      <td>...</td>\n",
       "      <td>...</td>\n",
       "      <td>...</td>\n",
       "      <td>...</td>\n",
       "      <td>...</td>\n",
       "      <td>...</td>\n",
       "      <td>...</td>\n",
       "      <td>...</td>\n",
       "      <td>...</td>\n",
       "      <td>...</td>\n",
       "    </tr>\n",
       "    <tr>\n",
       "      <th>196</th>\n",
       "      <td>5.6222</td>\n",
       "      <td>5.3371</td>\n",
       "      <td>4.5604</td>\n",
       "      <td>4.7779</td>\n",
       "      <td>6.3073</td>\n",
       "      <td>4.1713</td>\n",
       "      <td>5.6669</td>\n",
       "      <td>6.7657</td>\n",
       "      <td>4.1279</td>\n",
       "      <td>4.8760</td>\n",
       "      <td>...</td>\n",
       "      <td>7.8470</td>\n",
       "      <td>6.5909</td>\n",
       "      <td>5.5632</td>\n",
       "      <td>6.0731</td>\n",
       "      <td>5.4749</td>\n",
       "      <td>7.3395</td>\n",
       "      <td>5.7876</td>\n",
       "      <td>6.2717</td>\n",
       "      <td>7.7919</td>\n",
       "      <td>1</td>\n",
       "    </tr>\n",
       "    <tr>\n",
       "      <th>197</th>\n",
       "      <td>5.8808</td>\n",
       "      <td>5.3848</td>\n",
       "      <td>4.0610</td>\n",
       "      <td>5.0990</td>\n",
       "      <td>7.6974</td>\n",
       "      <td>3.7750</td>\n",
       "      <td>5.6090</td>\n",
       "      <td>6.3730</td>\n",
       "      <td>4.5933</td>\n",
       "      <td>4.6886</td>\n",
       "      <td>...</td>\n",
       "      <td>6.9125</td>\n",
       "      <td>6.3969</td>\n",
       "      <td>5.2669</td>\n",
       "      <td>6.6938</td>\n",
       "      <td>5.2172</td>\n",
       "      <td>7.6453</td>\n",
       "      <td>7.6708</td>\n",
       "      <td>6.2240</td>\n",
       "      <td>7.8040</td>\n",
       "      <td>1</td>\n",
       "    </tr>\n",
       "    <tr>\n",
       "      <th>198</th>\n",
       "      <td>5.7123</td>\n",
       "      <td>5.0967</td>\n",
       "      <td>3.9441</td>\n",
       "      <td>4.8885</td>\n",
       "      <td>10.1747</td>\n",
       "      <td>3.7438</td>\n",
       "      <td>5.8466</td>\n",
       "      <td>6.2624</td>\n",
       "      <td>4.6048</td>\n",
       "      <td>4.5687</td>\n",
       "      <td>...</td>\n",
       "      <td>6.7940</td>\n",
       "      <td>5.7844</td>\n",
       "      <td>4.8896</td>\n",
       "      <td>6.8771</td>\n",
       "      <td>4.5070</td>\n",
       "      <td>7.8587</td>\n",
       "      <td>7.4718</td>\n",
       "      <td>6.2784</td>\n",
       "      <td>7.5868</td>\n",
       "      <td>0</td>\n",
       "    </tr>\n",
       "    <tr>\n",
       "      <th>199</th>\n",
       "      <td>6.0026</td>\n",
       "      <td>5.6034</td>\n",
       "      <td>3.9176</td>\n",
       "      <td>4.4464</td>\n",
       "      <td>8.8387</td>\n",
       "      <td>3.6395</td>\n",
       "      <td>5.0201</td>\n",
       "      <td>6.6512</td>\n",
       "      <td>4.1958</td>\n",
       "      <td>4.5489</td>\n",
       "      <td>...</td>\n",
       "      <td>7.2758</td>\n",
       "      <td>5.6273</td>\n",
       "      <td>4.6502</td>\n",
       "      <td>6.7376</td>\n",
       "      <td>5.2455</td>\n",
       "      <td>7.8078</td>\n",
       "      <td>7.2719</td>\n",
       "      <td>5.9857</td>\n",
       "      <td>7.5176</td>\n",
       "      <td>1</td>\n",
       "    </tr>\n",
       "    <tr>\n",
       "      <th>200</th>\n",
       "      <td>6.0623</td>\n",
       "      <td>5.2956</td>\n",
       "      <td>4.0267</td>\n",
       "      <td>4.8525</td>\n",
       "      <td>10.1587</td>\n",
       "      <td>3.8377</td>\n",
       "      <td>5.7533</td>\n",
       "      <td>6.8788</td>\n",
       "      <td>4.6205</td>\n",
       "      <td>4.5993</td>\n",
       "      <td>...</td>\n",
       "      <td>7.3567</td>\n",
       "      <td>5.5192</td>\n",
       "      <td>5.4287</td>\n",
       "      <td>6.6677</td>\n",
       "      <td>5.0950</td>\n",
       "      <td>7.3864</td>\n",
       "      <td>6.9973</td>\n",
       "      <td>6.0380</td>\n",
       "      <td>7.7195</td>\n",
       "      <td>0</td>\n",
       "    </tr>\n",
       "  </tbody>\n",
       "</table>\n",
       "<p>201 rows × 20162 columns</p>\n",
       "</div>"
      ],
      "text/plain": [
       "       A1BG  A1BG-AS1    A1CF     A2M  A2M-AS1   A2ML1   A2MP1  A4GALT  \\\n",
       "0    5.9737    5.6516  4.6322  5.2656   6.1086  4.2531  6.1402  6.9498   \n",
       "1    5.9725    5.9973  4.0184  4.8748   8.1499  3.7165  5.3832  6.8356   \n",
       "2    5.5292    5.3956  4.3464  4.8031   6.2715  4.0979  5.9111  6.6819   \n",
       "3    5.8049    5.5715  4.2828  5.3613   4.5816  4.2411  5.6468  7.1825   \n",
       "4    5.9273    5.6405  4.0158  4.6966   6.4319  4.0282  5.5456  6.3993   \n",
       "..      ...       ...     ...     ...      ...     ...     ...     ...   \n",
       "196  5.6222    5.3371  4.5604  4.7779   6.3073  4.1713  5.6669  6.7657   \n",
       "197  5.8808    5.3848  4.0610  5.0990   7.6974  3.7750  5.6090  6.3730   \n",
       "198  5.7123    5.0967  3.9441  4.8885  10.1747  3.7438  5.8466  6.2624   \n",
       "199  6.0026    5.6034  3.9176  4.4464   8.8387  3.6395  5.0201  6.6512   \n",
       "200  6.0623    5.2956  4.0267  4.8525  10.1587  3.8377  5.7533  6.8788   \n",
       "\n",
       "      A4GNT    AA06  ...   ZWINT    ZXDA    ZXDB    ZXDC  ZYG11A  ZYG11B  \\\n",
       "0    4.5328  5.3230  ...  7.3782  5.3837  4.5050  5.9060  5.4672  6.7160   \n",
       "1    4.1879  4.9401  ...  8.2696  5.3352  4.7362  6.5270  5.1194  7.5907   \n",
       "2    4.4407  5.0890  ...  7.3618  5.6906  4.2694  6.0993  4.8227  8.5845   \n",
       "3    4.5793  5.5226  ...  5.8075  4.9643  4.1637  6.1343  5.1334  7.1093   \n",
       "4    4.5272  5.1858  ...  7.1355  5.9395  4.6246  5.9656  4.8707  8.5288   \n",
       "..      ...     ...  ...     ...     ...     ...     ...     ...     ...   \n",
       "196  4.1279  4.8760  ...  7.8470  6.5909  5.5632  6.0731  5.4749  7.3395   \n",
       "197  4.5933  4.6886  ...  6.9125  6.3969  5.2669  6.6938  5.2172  7.6453   \n",
       "198  4.6048  4.5687  ...  6.7940  5.7844  4.8896  6.8771  4.5070  7.8587   \n",
       "199  4.1958  4.5489  ...  7.2758  5.6273  4.6502  6.7376  5.2455  7.8078   \n",
       "200  4.6205  4.5993  ...  7.3567  5.5192  5.4287  6.6677  5.0950  7.3864   \n",
       "\n",
       "         ZYX   ZZEF1    ZZZ3  Propensity  \n",
       "0     7.5318  5.7936  6.1746           1  \n",
       "1     7.8080  5.7540  6.9299           1  \n",
       "2     8.9739  5.3396  6.6552           1  \n",
       "3    10.2025  5.7300  6.4642           1  \n",
       "4     9.4993  5.6062  7.5776           0  \n",
       "..       ...     ...     ...         ...  \n",
       "196   5.7876  6.2717  7.7919           1  \n",
       "197   7.6708  6.2240  7.8040           1  \n",
       "198   7.4718  6.2784  7.5868           0  \n",
       "199   7.2719  5.9857  7.5176           1  \n",
       "200   6.9973  6.0380  7.7195           0  \n",
       "\n",
       "[201 rows x 20162 columns]"
      ]
     },
     "execution_count": 4,
     "metadata": {},
     "output_type": "execute_result"
    }
   ],
   "source": [
    "combined_train"
   ]
  },
  {
   "cell_type": "code",
   "execution_count": 4,
   "metadata": {},
   "outputs": [],
   "source": [
    "#Test data: 144406\n",
    "gene_only=pd.read_table('GSE144406_expression_data_0.96.txt')\n",
    "labs_test_166640= gene_only['Label']\n",
    "labs_test_166640=labs_test_166640.astype('category').cat.codes\n",
    "gene_only=gene_only.drop('Label',axis=1)\n",
    "combined_test_166640 = gene_only\n",
    "\n",
    "#Test data: 10938_Prous\n",
    "gene_only=pd.read_table('ext_vali_data_10938_Proulx.txt')\n",
    "clinical_only=pd.read_table('ext_vali_data_clinical.txt')\n",
    "clinical_cols=clinical_only['PRISM']\n",
    "labs_test_10938= gene_only['Label']\n",
    "labs_test_10938=labs_test_10938.astype('category').cat.codes\n",
    "gene_only=gene_only.drop('Label',axis=1)\n",
    "#combined_test = pd.concat([gene_only.reset_index(drop=True), clinical_cols], axis=1)\n",
    "combined_test_10938=gene_only\n",
    "\n",
    "#Test data: EMTAB-1548\n",
    "gene_only=pd.read_table('E-MTAB-1548-all_genes.txt')\n",
    "clinical_cols=gene_only['Propensity']\n",
    "labs_test= gene_only['Mortality']\n",
    "labs_test_1548=labs_test.astype('category').cat.codes\n",
    "gene_only=gene_only.drop('Mortality',axis=1)\n",
    "#gene_only=gene_only.drop('Propensity', axis=1)\n",
    "#combined_test_1548 = pd.concat([gene_only.reset_index(drop=True), clinical_cols], axis=1)\n",
    "combined_test_1548=gene_only"
   ]
  },
  {
   "cell_type": "code",
   "execution_count": 5,
   "metadata": {},
   "outputs": [],
   "source": [
    "def model_tune_nb(X_samp, y_samp):\n",
    "    '''\n",
    "    这是一个用于调优高斯朴素贝叶斯分类器的函数\n",
    "    \n",
    "    参数：\n",
    "    X_samp：数据集的特征\n",
    "    y_samp：数据集的标签\n",
    "    \n",
    "    返回：\n",
    "    best_model：最佳模型\n",
    "    '''\n",
    "    #################################################################\n",
    "    # 初始化高斯朴素贝叶斯分类器\n",
    "    nb = GaussianNB()\n",
    "    \n",
    "    # 定义网格搜索的参数字典，此处调整的是变量平滑参数(var_smoothing)\n",
    "    grid_params = [{'var_smoothing': [1e-11, 1e-10, 1e-9]}]\n",
    "    \n",
    "    # 创建网格搜索对象，设置详细等级为1（打印进程中的日志信息），交叉验证折数为3，使用100个并行作业\n",
    "    clf = GridSearchCV(nb, grid_params, verbose=1, cv=3, n_jobs=100)\n",
    "    \n",
    "    # 执行网格搜索，拟合数据\n",
    "    clf.fit(X_samp, y_samp)\n",
    "    print(\"Tuning Done\")  # 输出调优完成的信息\n",
    "    \n",
    "    # 从网格搜索结果中获取最佳模型\n",
    "    best_model = clf.best_estimator_\n",
    "    \n",
    "    # 使用最佳模型参数再次拟合数据\n",
    "    best_model.fit(X_samp, y_samp)\n",
    "    \n",
    "    # 返回最佳模型\n",
    "    return best_model"
   ]
  },
  {
   "cell_type": "code",
   "execution_count": 6,
   "metadata": {},
   "outputs": [],
   "source": [
    "def model_tune_lda(X_samp, y_samp):\n",
    "    '''\n",
    "    这是一个用于调优二次判别分析分类器的函数\n",
    "    \n",
    "    参数：\n",
    "    X_samp：数据集的特征\n",
    "    y_samp：数据集的标签\n",
    "    \n",
    "    返回：\n",
    "    best_model：最佳模型\n",
    "    '''\n",
    "    # 初始化二次判别分析分类器\n",
    "    lda = QuadraticDiscriminantAnalysis()\n",
    "    \n",
    "    # 定义网格搜索的参数字典，此处调整的是正则化参数（reg_param）\n",
    "    grid_params = [{'reg_param': [0.1, 0.2, 0.3, 0.4, 0.5]}]\n",
    "    \n",
    "    # 创建网格搜索对象，设置详细等级为1（打印进程中的日志信息），交叉验证折数为3，使用100个并行作业\n",
    "    clf = GridSearchCV(lda, grid_params, verbose=1, cv=3, n_jobs=100)\n",
    "    \n",
    "    # 执行网格搜索，拟合数据\n",
    "    clf.fit(X_samp, y_samp)\n",
    "    print(\"Tuning Done\")  # 输出调优完成的信息\n",
    "    \n",
    "    # 从网格搜索结果中获取最佳模型\n",
    "    best_model = clf.best_estimator_\n",
    "    \n",
    "    # 使用最佳模型参数再次拟合数据\n",
    "    best_model.fit(X_samp, y_samp)\n",
    "    \n",
    "    # 返回最佳模型\n",
    "    return best_model\n"
   ]
  },
  {
   "cell_type": "code",
   "execution_count": 7,
   "metadata": {},
   "outputs": [],
   "source": [
    "def model_tune_svm(X_samp, y_samp):\n",
    "    '''\n",
    "    这是一个用于调优支持向量机分类器的函数\n",
    "    \n",
    "    参数：\n",
    "    X_samp：数据集的特征\n",
    "    y_samp：数据集的标签\n",
    "    \n",
    "    返回：\n",
    "    best_model：最佳模型\n",
    "    '''\n",
    "    #################################################################\n",
    "    # 初始化一个SVC（支持向量分类）模型，设置随机种子以确保结果可复现，启用概率估计\n",
    "    svm = SVC(random_state=42, probability=True)\n",
    "    \n",
    "    # 定义网格搜索的参数字典\n",
    "    grid_params = [\n",
    "        {'C': [1, 10, 100, 1000], 'kernel': ['linear']},  # 线性核的不同正则化强度C\n",
    "        {'C': [1, 10, 100, 1000], 'gamma': [0.001, 0.0001], 'kernel': ['rbf']},  # 径向基函数核的不同C和gamma\n",
    "    ]\n",
    "    \n",
    "    # 创建网格搜索对象，设置详细等级为1（打印进程中的日志信息），进行三折交叉验证，使用100个并行作业\n",
    "    clf = GridSearchCV(svm, grid_params, verbose=1, cv=3, n_jobs=100)\n",
    "    \n",
    "    # 执行网格搜索，拟合数据\n",
    "    clf.fit(X_samp, y_samp)\n",
    "    print(\"Tuning Done\")  # 输出调优完成的信息\n",
    "    \n",
    "    # 从网格搜索结果中获取最佳模型\n",
    "    best_model = clf.best_estimator_\n",
    "    \n",
    "    # 使用最佳模型参数再次拟合数据\n",
    "    best_model.fit(X_samp, y_samp)\n",
    "    \n",
    "    # 返回最佳模型\n",
    "    return best_model\n"
   ]
  },
  {
   "cell_type": "code",
   "execution_count": 8,
   "metadata": {},
   "outputs": [],
   "source": [
    "def model_tune_knn(X_samp, y_samp):\n",
    "    '''\n",
    "    这是一个用于调优K近邻分类器的函数  \n",
    "    \n",
    "    参数：\n",
    "    X_samp：数据集的特征\n",
    "    y_samp：数据集的标签\n",
    "    \n",
    "    返回：\n",
    "    best_model：最佳模型\n",
    "    '''\n",
    "    \n",
    "    # 初始化K近邻分类器\n",
    "    knn = KNeighborsClassifier()\n",
    "    # 定义网格搜索的参数字典\n",
    "    grid_params = {\n",
    "        'n_neighbors': [5, 7, 9, 11, 13, 15],  # 考虑的邻居数量\n",
    "        'weights': ['uniform', 'distance'],  # 权重函数\n",
    "        'metric': ['minkowski', 'euclidean', 'manhattan']  # 用于计算距离的度量\n",
    "    }\n",
    "    # 创建网格搜索对象，设置详细等级，进行3折交叉验证，使用100个并行作业\n",
    "    clf = GridSearchCV(knn, grid_params, verbose=1, cv=3, n_jobs=100)\n",
    "    # 执行网格搜索，拟合数据\n",
    "    clf.fit(X_samp, y_samp)\n",
    "    print(\"Tuning Done\")  # 调优完成\n",
    "    # 获取最佳模型\n",
    "    best_model = clf.best_estimator_\n",
    "    # 重新拟合最佳模型\n",
    "    best_model.fit(X_samp, y_samp)\n",
    "    return best_model\n"
   ]
  },
  {
   "cell_type": "code",
   "execution_count": 9,
   "metadata": {},
   "outputs": [],
   "source": [
    "def model_tune_dt(X_samp, y_samp):\n",
    "    '''\n",
    "    这是一个用于调优决策树分类器的函数\n",
    "    \n",
    "    参数：\n",
    "    X_samp：数据集的特征\n",
    "    y_samp：数据集的标签\n",
    "    \n",
    "    返回：\n",
    "    best_model：最佳模型\n",
    "    '''\n",
    "    # 初始化决策树分类器\n",
    "    dt = DecisionTreeClassifier(random_state=42)\n",
    "    # 定义网格搜索的参数字典\n",
    "    grid_params = {\n",
    "        'max_depth': [2, 4, 6, 8, 10, 12],  # 最大树深度\n",
    "        'min_samples_split': np.linspace(0.1, 1.0, 10, endpoint=True),  # 分裂内部节点所需的最小样本数\n",
    "        'min_samples_leaf': np.linspace(0.1, 0.5, 5, endpoint=True),  # 叶节点的最小样本数\n",
    "        'max_features': [None, 'sqrt', 'log2'],  # 寻找最佳分割时要考虑的特征数\n",
    "        'criterion': [\"gini\", \"entropy\"]  # 衡量分割质量的函数\n",
    "    }\n",
    "    # 创建网格搜索对象，设置详细等级，进行3折交叉验证，使用100个并行作业\n",
    "    clf = GridSearchCV(dt, grid_params, verbose=1, cv=3, n_jobs=100)\n",
    "    # 执行网格搜索，拟合数据\n",
    "    clf.fit(X_samp, y_samp)\n",
    "    print(\"Tuning Done\")\n",
    "    # 获取最佳模型\n",
    "    best_model = clf.best_estimator_\n",
    "    # 重新拟合最佳模型\n",
    "    best_model.fit(X_samp, y_samp)\n",
    "    return best_model\n"
   ]
  },
  {
   "cell_type": "code",
   "execution_count": 10,
   "metadata": {},
   "outputs": [],
   "source": [
    "def model_tune_rf(X_samp, y_samp):\n",
    "    '''\n",
    "    这是一个用于调优随机森林分类器的函数  \n",
    "    \n",
    "    参数：\n",
    "    X_samp：数据集的特征\n",
    "    y_samp：数据集的标签\n",
    "    \n",
    "    返回：\n",
    "    best_model：最佳模型\n",
    "    '''\n",
    "    # 初始化随机森林分类器\n",
    "    rf = RandomForestClassifier(random_state=42)\n",
    "    # 定义网格搜索的参数字典\n",
    "    grid_params = {\n",
    "        'n_estimators': [10, 20, 21, 30, 50, 100, 200, 500],  # 树的数量\n",
    "        'max_depth': [2, 4, 6, 8, 10],  # 最大深度\n",
    "        'max_features': ['sqrt', 'log2'],  # 寻找最佳分割时考虑的最大特征数\n",
    "        'min_samples_leaf': [1, 3, 5],  # 叶节点所需的最小样本数\n",
    "        'min_samples_split': [2, 5, 10, 12]  # 分裂内部节点所需的最小样本数\n",
    "    }\n",
    "    # 创建网格搜索对象，设置详细等级，进行5折交叉验证，使用100个并行作业\n",
    "    clf = GridSearchCV(rf, grid_params, verbose=1, cv=5, n_jobs=100)\n",
    "    # 执行网格搜索，拟合数据\n",
    "    clf.fit(X_samp, y_samp)\n",
    "    print(\"Tuning Done\")\n",
    "    # 获取最佳模型\n",
    "    best_model = clf.best_estimator_\n",
    "    # 重新拟合最佳模型\n",
    "    best_model.fit(X_samp, y_samp)\n",
    "    return best_model"
   ]
  },
  {
   "cell_type": "code",
   "execution_count": 11,
   "metadata": {},
   "outputs": [],
   "source": [
    "def model_tune_et(X_samp, y_samp):\n",
    "    '''\n",
    "    这是一个用于调优额外树分类器的函数\n",
    "    \n",
    "    参数：\n",
    "    X_samp：数据集的特征\n",
    "    y_samp：数据集的标签\n",
    "    \n",
    "    返回：\n",
    "    best_model：最佳模型\n",
    "    '''\n",
    "    # 初始化一个额外树分类器，设置随机种子以确保结果的可重复性\n",
    "    rf = ExtraTreesClassifier(random_state=42)\n",
    "    \n",
    "    # 定义网格搜索的参数字典\n",
    "    grid_params = {\n",
    "        'n_estimators': [5, 10, 20, 21, 30, 50, 100, 200, 500],  # 树的数量\n",
    "        'max_depth': [2, 3, 5, 7, 9, 11, 13, 15, 17, 19, 21],  # 树的最大深度\n",
    "        'max_features': ['sqrt', 'log2'],  # 寻找最佳分割时要考虑的特征数量的上限\n",
    "        'min_samples_leaf': [1, 3, 5],  # 叶节点最小样本数\n",
    "        'min_samples_split': [2, 5, 10, 12]  # 内部节点再划分所需最小样本数\n",
    "    }\n",
    "    \n",
    "    # 创建网格搜索对象，设置详细等级为1（会打印进程信息），5折交叉验证，使用100个并行作业\n",
    "    clf = GridSearchCV(rf, grid_params, verbose=1, cv=5, n_jobs=100)\n",
    "    \n",
    "    # 执行网格搜索，拟合数据\n",
    "    clf.fit(X_samp, y_samp)\n",
    "    print(\"Tuning Done\")  # 输出调优完成的信息\n",
    "    \n",
    "    # 获取网格搜索中的最佳模型\n",
    "    best_model = clf.best_estimator_\n",
    "    \n",
    "    # 使用最佳模型参数再次拟合数据\n",
    "    best_model.fit(X_samp, y_samp)\n",
    "    \n",
    "    # 返回最佳模型\n",
    "    return best_model"
   ]
  },
  {
   "cell_type": "code",
   "execution_count": 12,
   "metadata": {},
   "outputs": [],
   "source": [
    "def model_tune_ada(X_samp, y_samp):\n",
    "    '''\n",
    "    这是一个用于调优AdaBoost分类器的函数\n",
    "    \n",
    "    参数：\n",
    "    X_samp：数据集的特征\n",
    "    y_samp：数据集的标签\n",
    "    \n",
    "    返回：\n",
    "    best_model：最佳模型\n",
    "    '''\n",
    "    # 初始化AdaBoost分类器\n",
    "    rf = AdaBoostClassifier(random_state=42)\n",
    "    # 定义网格搜索的参数字典\n",
    "    grid_params = {\n",
    "        'n_estimators': [5, 10, 20, 21, 30, 50, 100, 200, 500],  # 弱学习器的最大迭代次数\n",
    "        'learning_rate': [0.1, 0.3, 0.5, 1, 3, 5, 7, 9],  # 学习率\n",
    "        'algorithm': ['SAMME', 'SAMME.R']  # 使用的具体算法\n",
    "    }\n",
    "    # 创建网格搜索对象，设置详细等级，进行5折交叉验证，使用110个并行作业\n",
    "    clf = GridSearchCV(rf, grid_params, verbose=1, cv=5, n_jobs=110)\n",
    "    # 执行网格搜索，拟合数据\n",
    "    clf.fit(X_samp, y_samp)\n",
    "    print(\"Tuning Done\")\n",
    "    # 获取最佳模型\n",
    "    best_model = clf.best_estimator_\n",
    "    # 重新拟合最佳模型\n",
    "    best_model.fit(X_samp, y_samp)\n",
    "    return best_model"
   ]
  },
  {
   "cell_type": "code",
   "execution_count": 13,
   "metadata": {},
   "outputs": [],
   "source": [
    "def print_metrics(name, X_test, y_test, X_samp, y_samp, threshold, best_model, feats):\n",
    "    '''\n",
    "    这是一个用于计算和打印模型性能指标的函数\n",
    "    \n",
    "    参数：\n",
    "    name：模型名称\n",
    "    X_test：测试数据集的特征\n",
    "    y_test：测试数据集的标签\n",
    "    X_samp：训练数据集的特征\n",
    "    y_samp：训练数据集的标签\n",
    "    threshold：阈值\n",
    "    best_model：最佳模型\n",
    "    feats：特征列表\n",
    "\n",
    "    返回：\n",
    "    sen：敏感性\n",
    "    spe：特异性\n",
    "    auc：AUC\n",
    "    mcc：Matthews相关系数\n",
    "    '''\n",
    "    # 使用最佳模型预测概率\n",
    "    y_probs = best_model.predict_proba(X_test[X_samp.columns])[:,1]\n",
    "    # 根据指定的阈值进行分类预测\n",
    "    y_test_predictions = np.where(best_model.predict_proba(X_test[deg_final[0:feats]])[:,1] > threshold, 1, 0)\n",
    "    # 计算ROC曲线数据\n",
    "    fp_rate, tp_rate, thresh = roc_curve(y_test, y_probs)\n",
    "    # 使用最佳模型进行预测\n",
    "    y_test_predictions = best_model.predict(X_test[X_samp.columns])\n",
    "    # 计算AUC分数\n",
    "    auc = roc_auc_score(y_test, y_probs)\n",
    "    # 计算敏感性、特异性、平衡准确率和Matthews相关系数\n",
    "    sen = sensitivity_score(y_test, y_test_predictions, pos_label=1)\n",
    "    spe = specificity_score(y_test, y_test_predictions, pos_label=1)\n",
    "    acc = balanced_accuracy_score(y_test, y_test_predictions)\n",
    "    mcc = matthews_corrcoef(y_test, y_test_predictions)\n",
    "    # 返回计算的性能指标，四舍五入到小数点后三位\n",
    "    return (np.round(sen, 3), np.round(spe, 3), np.round(auc, 3), np.round(mcc, 3))"
   ]
  },
  {
   "cell_type": "code",
   "execution_count": 14,
   "metadata": {},
   "outputs": [],
   "source": [
    "def convert_to_labels(pos_probs, threshold):\n",
    "    '''\n",
    "    这是一个用于将概率转换为标签的函数\n",
    "    \n",
    "    参数：\n",
    "    pos_probs：正类别的概率\n",
    "    threshold：阈值\n",
    "    \n",
    "    返回：\n",
    "    （label）：转换后的标签\n",
    "    '''\n",
    "    # 根据阈值将概率转换为0或1的标签\n",
    "    return (pos_probs >= threshold).astype('int')"
   ]
  },
  {
   "cell_type": "code",
   "execution_count": 15,
   "metadata": {},
   "outputs": [],
   "source": [
    "def draw_roc(y_test, y_probs, index, cl, cu, auc1):\n",
    "    '''\n",
    "    这是一个用于绘制ROC曲线的函数\n",
    "    \n",
    "    参数：\n",
    "    y_test：测试数据集的标签\n",
    "    y_probs：预测的概率\n",
    "    index：数据集的索引\n",
    "    cl：置信区间的下限\n",
    "    cu：置信区间的上限\n",
    "    auc1：AUC分数\n",
    "    \n",
    "    返回：\n",
    "    （图像）：绘制的ROC曲线\n",
    "    '''\n",
    "    # 定义数据集的名称\n",
    "    names = ['E-MTAB-10938 (Pediatric Validation Set)','GSE144406 (Pediatric Test Set)','E-MTAB-5882 (Adult Test Set)']\n",
    "\n",
    "    # 计算ROC曲线数据和AUC分数\n",
    "    fp_rate, tp_rate, thresh = roc_curve(y_test, y_probs)\n",
    "    auc = roc_auc_score(y_test, y_probs)\n",
    "    # 引入引导方法进行AUC分数的置信区间估计\n",
    "    n_bootstraps = 1000\n",
    "    rng_seed = 42  # 控制随机性\n",
    "    bootstrapped_scores = []\n",
    "    rng = np.random.RandomState(rng_seed)\n",
    "\n",
    "    for k in range(n_bootstraps):\n",
    "        # 使用替换方法进行样本抽样\n",
    "        indices = rng.randint(0, len(y_probs), len(y_probs))\n",
    "        if len(np.unique(y_test[indices])) < 2:\n",
    "            continue\n",
    "        score = roc_auc_score(y_test[indices], y_probs[indices])\n",
    "        bootstrapped_scores.append(score)\n",
    "    sorted_scores = np.array(bootstrapped_scores)\n",
    "    sorted_scores.sort()\n",
    "    # 计算95%置信区间\n",
    "    confidence_lower = sorted_scores[int(0.05 * len(sorted_scores))]\n",
    "    confidence_upper = sorted_scores[int(0.95 * len(sorted_scores))]\n",
    "    # 在图上绘制ROC曲线，并标注AUC分数和置信区间\n",
    "    plt.plot(fp_rate, tp_rate, label=names[index]+\" [AUROC=\" +str(round(auc1,3)) + \n",
    "                     \" (\"+ str(round(cl,3))+\" - \"+str(round(cu,3))+\")]\", linewidth = 4)"
   ]
  },
  {
   "cell_type": "code",
   "execution_count": 16,
   "metadata": {},
   "outputs": [
    {
     "name": "stderr",
     "output_type": "stream",
     "text": [
      "  0%|          | 0/9 [00:00<?, ?it/s]"
     ]
    },
    {
     "name": "stdout",
     "output_type": "stream",
     "text": [
      "For  5  genes: \n"
     ]
    },
    {
     "name": "stderr",
     "output_type": "stream",
     "text": []
    },
    {
     "name": "stdout",
     "output_type": "stream",
     "text": [
      "Scaling scheme: minmax\n",
      "Sampling:  RUS Scaling:  minmax Classifier:  ADA\n",
      "Fitting 5 folds for each of 144 candidates, totalling 720 fits\n",
      "Tuning Done\n",
      "AdaBoostClassifier(algorithm='SAMME', learning_rate=7, n_estimators=5,\n",
      "                   random_state=42)\n",
      "Training done\n"
     ]
    },
    {
     "name": "stderr",
     "output_type": "stream",
     "text": [
      "/Users/zhounan/miniconda3/envs/MODS/lib/python3.8/site-packages/sklearn/preprocessing/_data.py:479: RuntimeWarning: All-NaN slice encountered\n",
      "  data_min = np.nanmin(X, axis=0)\n",
      "/Users/zhounan/miniconda3/envs/MODS/lib/python3.8/site-packages/sklearn/preprocessing/_data.py:480: RuntimeWarning: All-NaN slice encountered\n",
      "  data_max = np.nanmax(X, axis=0)\n"
     ]
    },
    {
     "name": "stdout",
     "output_type": "stream",
     "text": [
      "Threshold:  0.269\n",
      "AUROC:  0.4814814814814815\n",
      "Sensitivity:  0.0 Specificity:  0.9259259259259259 Balanced Accuracy Score:  0.46296296296296297 MCC:  -0.1111111111111111 AUC:  0.4814814814814815\n",
      "Sampling:  REDN Scaling:  minmax Classifier:  ADA\n",
      "Fitting 5 folds for each of 144 candidates, totalling 720 fits\n",
      "Tuning Done\n",
      "AdaBoostClassifier(learning_rate=0.3, n_estimators=5, random_state=42)\n",
      "Training done\n"
     ]
    },
    {
     "name": "stderr",
     "output_type": "stream",
     "text": [
      "/Users/zhounan/miniconda3/envs/MODS/lib/python3.8/site-packages/sklearn/preprocessing/_data.py:479: RuntimeWarning: All-NaN slice encountered\n",
      "  data_min = np.nanmin(X, axis=0)\n",
      "/Users/zhounan/miniconda3/envs/MODS/lib/python3.8/site-packages/sklearn/preprocessing/_data.py:480: RuntimeWarning: All-NaN slice encountered\n",
      "  data_max = np.nanmax(X, axis=0)\n"
     ]
    },
    {
     "name": "stdout",
     "output_type": "stream",
     "text": [
      "Threshold:  0.054\n",
      "AUROC:  0.7740740740740741\n",
      "Sensitivity:  0.2 Specificity:  0.8888888888888888 Balanced Accuracy Score:  0.5444444444444444 MCC:  0.09759000729485331 AUC:  0.7740740740740741\n",
      "Sampling:  CC Scaling:  minmax Classifier:  ADA\n",
      "Fitting 5 folds for each of 144 candidates, totalling 720 fits\n",
      "Tuning Done\n",
      "AdaBoostClassifier(algorithm='SAMME', learning_rate=1, n_estimators=10,\n",
      "                   random_state=42)\n",
      "Training done\n"
     ]
    },
    {
     "name": "stderr",
     "output_type": "stream",
     "text": [
      "/Users/zhounan/miniconda3/envs/MODS/lib/python3.8/site-packages/sklearn/preprocessing/_data.py:479: RuntimeWarning: All-NaN slice encountered\n",
      "  data_min = np.nanmin(X, axis=0)\n",
      "/Users/zhounan/miniconda3/envs/MODS/lib/python3.8/site-packages/sklearn/preprocessing/_data.py:480: RuntimeWarning: All-NaN slice encountered\n",
      "  data_max = np.nanmax(X, axis=0)\n"
     ]
    },
    {
     "name": "stdout",
     "output_type": "stream",
     "text": [
      "Threshold:  0.319\n",
      "AUROC:  0.6814814814814815\n",
      "Sensitivity:  0.0 Specificity:  1.0 Balanced Accuracy Score:  0.5 MCC:  0.0 AUC:  0.6814814814814815\n",
      "Sampling:  IHT Scaling:  minmax Classifier:  ADA\n",
      "Fitting 5 folds for each of 144 candidates, totalling 720 fits\n",
      "Tuning Done\n",
      "AdaBoostClassifier(algorithm='SAMME', learning_rate=0.1, n_estimators=5,\n",
      "                   random_state=42)\n",
      "Training done\n"
     ]
    },
    {
     "name": "stderr",
     "output_type": "stream",
     "text": [
      "/Users/zhounan/miniconda3/envs/MODS/lib/python3.8/site-packages/sklearn/preprocessing/_data.py:479: RuntimeWarning: All-NaN slice encountered\n",
      "  data_min = np.nanmin(X, axis=0)\n",
      "/Users/zhounan/miniconda3/envs/MODS/lib/python3.8/site-packages/sklearn/preprocessing/_data.py:480: RuntimeWarning: All-NaN slice encountered\n",
      "  data_max = np.nanmax(X, axis=0)\n"
     ]
    },
    {
     "name": "stdout",
     "output_type": "stream",
     "text": [
      "Threshold:  0.0\n",
      "AUROC:  0.42592592592592593\n",
      "Sensitivity:  0.0 Specificity:  0.8518518518518519 Balanced Accuracy Score:  0.42592592592592593 MCC:  -0.16265001215808886 AUC:  0.42592592592592593\n",
      "Sampling:  NearMiss Scaling:  minmax Classifier:  ADA\n",
      "Fitting 5 folds for each of 144 candidates, totalling 720 fits\n",
      "Tuning Done\n",
      "AdaBoostClassifier(algorithm='SAMME', learning_rate=3, n_estimators=10,\n",
      "                   random_state=42)\n",
      "Training done\n"
     ]
    },
    {
     "name": "stderr",
     "output_type": "stream",
     "text": [
      "/Users/zhounan/miniconda3/envs/MODS/lib/python3.8/site-packages/sklearn/preprocessing/_data.py:479: RuntimeWarning: All-NaN slice encountered\n",
      "  data_min = np.nanmin(X, axis=0)\n",
      "/Users/zhounan/miniconda3/envs/MODS/lib/python3.8/site-packages/sklearn/preprocessing/_data.py:480: RuntimeWarning: All-NaN slice encountered\n",
      "  data_max = np.nanmax(X, axis=0)\n"
     ]
    },
    {
     "name": "stdout",
     "output_type": "stream",
     "text": [
      "Threshold:  0.52\n",
      "AUROC:  0.30370370370370375\n",
      "Sensitivity:  0.4 Specificity:  0.037037037037037035 Balanced Accuracy Score:  0.21851851851851853 MCC:  -0.6180700462007377 AUC:  0.30370370370370375\n",
      "Sampling:  EDN Scaling:  minmax Classifier:  ADA\n",
      "Fitting 5 folds for each of 144 candidates, totalling 720 fits\n",
      "Tuning Done\n",
      "AdaBoostClassifier(algorithm='SAMME', learning_rate=0.5, n_estimators=5,\n",
      "                   random_state=42)\n",
      "Training done\n"
     ]
    },
    {
     "name": "stderr",
     "output_type": "stream",
     "text": [
      "/Users/zhounan/miniconda3/envs/MODS/lib/python3.8/site-packages/sklearn/preprocessing/_data.py:479: RuntimeWarning: All-NaN slice encountered\n",
      "  data_min = np.nanmin(X, axis=0)\n",
      "/Users/zhounan/miniconda3/envs/MODS/lib/python3.8/site-packages/sklearn/preprocessing/_data.py:480: RuntimeWarning: All-NaN slice encountered\n",
      "  data_max = np.nanmax(X, axis=0)\n"
     ]
    },
    {
     "name": "stdout",
     "output_type": "stream",
     "text": [
      "Threshold:  0.44\n",
      "AUROC:  0.5037037037037038\n",
      "Sensitivity:  0.2 Specificity:  0.8888888888888888 Balanced Accuracy Score:  0.5444444444444444 MCC:  0.09759000729485331 AUC:  0.5037037037037038\n",
      "Sampling:  Tomek Scaling:  minmax Classifier:  ADA\n",
      "Fitting 5 folds for each of 144 candidates, totalling 720 fits\n",
      "Tuning Done\n",
      "AdaBoostClassifier(learning_rate=0.1, n_estimators=20, random_state=42)\n",
      "Training done\n"
     ]
    },
    {
     "name": "stderr",
     "output_type": "stream",
     "text": [
      "/Users/zhounan/miniconda3/envs/MODS/lib/python3.8/site-packages/sklearn/preprocessing/_data.py:479: RuntimeWarning: All-NaN slice encountered\n",
      "  data_min = np.nanmin(X, axis=0)\n",
      "/Users/zhounan/miniconda3/envs/MODS/lib/python3.8/site-packages/sklearn/preprocessing/_data.py:480: RuntimeWarning: All-NaN slice encountered\n",
      "  data_max = np.nanmax(X, axis=0)\n"
     ]
    },
    {
     "name": "stdout",
     "output_type": "stream",
     "text": [
      "Threshold:  0.002\n",
      "AUROC:  0.6666666666666667\n",
      "Sensitivity:  0.0 Specificity:  0.9629629629629629 Balanced Accuracy Score:  0.48148148148148145 MCC:  -0.07728981596002805 AUC:  0.6666666666666667\n",
      "Sampling:  Allknn Scaling:  minmax Classifier:  ADA\n",
      "Fitting 5 folds for each of 144 candidates, totalling 720 fits\n",
      "Tuning Done\n",
      "AdaBoostClassifier(algorithm='SAMME', learning_rate=0.1, random_state=42)\n",
      "Training done\n"
     ]
    },
    {
     "name": "stderr",
     "output_type": "stream",
     "text": [
      "/Users/zhounan/miniconda3/envs/MODS/lib/python3.8/site-packages/sklearn/preprocessing/_data.py:479: RuntimeWarning: All-NaN slice encountered\n",
      "  data_min = np.nanmin(X, axis=0)\n",
      "/Users/zhounan/miniconda3/envs/MODS/lib/python3.8/site-packages/sklearn/preprocessing/_data.py:480: RuntimeWarning: All-NaN slice encountered\n",
      "  data_max = np.nanmax(X, axis=0)\n"
     ]
    },
    {
     "name": "stdout",
     "output_type": "stream",
     "text": [
      "Threshold:  0.431\n",
      "AUROC:  0.45925925925925926\n",
      "Sensitivity:  0.2 Specificity:  0.8888888888888888 Balanced Accuracy Score:  0.5444444444444444 MCC:  0.09759000729485331 AUC:  0.45925925925925926\n",
      "Sampling:  CondensedNN Scaling:  minmax Classifier:  ADA\n",
      "Fitting 5 folds for each of 144 candidates, totalling 720 fits\n",
      "Tuning Done\n",
      "AdaBoostClassifier(algorithm='SAMME', learning_rate=0.1, n_estimators=5,\n",
      "                   random_state=42)\n",
      "Training done\n"
     ]
    },
    {
     "name": "stderr",
     "output_type": "stream",
     "text": [
      "/Users/zhounan/miniconda3/envs/MODS/lib/python3.8/site-packages/sklearn/preprocessing/_data.py:479: RuntimeWarning: All-NaN slice encountered\n",
      "  data_min = np.nanmin(X, axis=0)\n",
      "/Users/zhounan/miniconda3/envs/MODS/lib/python3.8/site-packages/sklearn/preprocessing/_data.py:480: RuntimeWarning: All-NaN slice encountered\n",
      "  data_max = np.nanmax(X, axis=0)\n"
     ]
    },
    {
     "name": "stdout",
     "output_type": "stream",
     "text": [
      "Threshold:  0.0\n",
      "AUROC:  0.4814814814814815\n",
      "Sensitivity:  0.0 Specificity:  0.9259259259259259 Balanced Accuracy Score:  0.46296296296296297 MCC:  -0.1111111111111111 AUC:  0.4814814814814815\n",
      "Sampling:  OSS Scaling:  minmax Classifier:  ADA\n",
      "Fitting 5 folds for each of 144 candidates, totalling 720 fits\n",
      "Tuning Done\n",
      "AdaBoostClassifier(learning_rate=0.1, n_estimators=20, random_state=42)\n",
      "Training done\n"
     ]
    },
    {
     "name": "stderr",
     "output_type": "stream",
     "text": [
      "/Users/zhounan/miniconda3/envs/MODS/lib/python3.8/site-packages/sklearn/preprocessing/_data.py:479: RuntimeWarning: All-NaN slice encountered\n",
      "  data_min = np.nanmin(X, axis=0)\n",
      "/Users/zhounan/miniconda3/envs/MODS/lib/python3.8/site-packages/sklearn/preprocessing/_data.py:480: RuntimeWarning: All-NaN slice encountered\n",
      "  data_max = np.nanmax(X, axis=0)\n"
     ]
    },
    {
     "name": "stdout",
     "output_type": "stream",
     "text": [
      "Threshold:  0.002\n",
      "AUROC:  0.6666666666666667\n",
      "Sensitivity:  0.0 Specificity:  0.9629629629629629 Balanced Accuracy Score:  0.48148148148148145 MCC:  -0.07728981596002805 AUC:  0.6666666666666667\n",
      "Sampling:  SMOTE Scaling:  minmax Classifier:  ADA\n",
      "Fitting 5 folds for each of 144 candidates, totalling 720 fits\n",
      "Tuning Done\n",
      "AdaBoostClassifier(learning_rate=0.1, n_estimators=100, random_state=42)\n",
      "Training done\n"
     ]
    },
    {
     "name": "stderr",
     "output_type": "stream",
     "text": [
      "/Users/zhounan/miniconda3/envs/MODS/lib/python3.8/site-packages/sklearn/preprocessing/_data.py:479: RuntimeWarning: All-NaN slice encountered\n",
      "  data_min = np.nanmin(X, axis=0)\n",
      "/Users/zhounan/miniconda3/envs/MODS/lib/python3.8/site-packages/sklearn/preprocessing/_data.py:480: RuntimeWarning: All-NaN slice encountered\n",
      "  data_max = np.nanmax(X, axis=0)\n"
     ]
    },
    {
     "name": "stdout",
     "output_type": "stream",
     "text": [
      "Threshold:  0.155\n",
      "AUROC:  0.6962962962962964\n",
      "Sensitivity:  0.0 Specificity:  0.9629629629629629 Balanced Accuracy Score:  0.48148148148148145 MCC:  -0.07728981596002805 AUC:  0.6962962962962964\n",
      "Sampling:  ROS Scaling:  minmax Classifier:  ADA\n",
      "Fitting 5 folds for each of 144 candidates, totalling 720 fits\n",
      "Tuning Done\n",
      "AdaBoostClassifier(learning_rate=1, n_estimators=500, random_state=42)\n",
      "Training done\n"
     ]
    },
    {
     "name": "stderr",
     "output_type": "stream",
     "text": [
      "/Users/zhounan/miniconda3/envs/MODS/lib/python3.8/site-packages/sklearn/preprocessing/_data.py:479: RuntimeWarning: All-NaN slice encountered\n",
      "  data_min = np.nanmin(X, axis=0)\n",
      "/Users/zhounan/miniconda3/envs/MODS/lib/python3.8/site-packages/sklearn/preprocessing/_data.py:480: RuntimeWarning: All-NaN slice encountered\n",
      "  data_max = np.nanmax(X, axis=0)\n"
     ]
    },
    {
     "name": "stdout",
     "output_type": "stream",
     "text": [
      "Threshold:  0.459\n",
      "AUROC:  0.5111111111111111\n",
      "Sensitivity:  0.0 Specificity:  0.9259259259259259 Balanced Accuracy Score:  0.46296296296296297 MCC:  -0.1111111111111111 AUC:  0.5111111111111111\n",
      "Sampling:  ADASYN Scaling:  minmax Classifier:  ADA\n",
      "Fitting 5 folds for each of 144 candidates, totalling 720 fits\n",
      "Tuning Done\n",
      "AdaBoostClassifier(algorithm='SAMME', learning_rate=0.1, n_estimators=500,\n",
      "                   random_state=42)\n",
      "Training done\n"
     ]
    },
    {
     "name": "stderr",
     "output_type": "stream",
     "text": [
      "/Users/zhounan/miniconda3/envs/MODS/lib/python3.8/site-packages/sklearn/preprocessing/_data.py:479: RuntimeWarning: All-NaN slice encountered\n",
      "  data_min = np.nanmin(X, axis=0)\n",
      "/Users/zhounan/miniconda3/envs/MODS/lib/python3.8/site-packages/sklearn/preprocessing/_data.py:480: RuntimeWarning: All-NaN slice encountered\n",
      "  data_max = np.nanmax(X, axis=0)\n"
     ]
    },
    {
     "name": "stdout",
     "output_type": "stream",
     "text": [
      "Threshold:  0.28500000000000003\n",
      "AUROC:  0.6740740740740742\n",
      "Sensitivity:  0.0 Specificity:  0.9259259259259259 Balanced Accuracy Score:  0.46296296296296297 MCC:  -0.1111111111111111 AUC:  0.6740740740740742\n",
      "Sampling:  KmeansSmote Scaling:  minmax Classifier:  ADA\n",
      "Fitting 5 folds for each of 144 candidates, totalling 720 fits\n",
      "Tuning Done\n",
      "AdaBoostClassifier(learning_rate=0.3, n_estimators=500, random_state=42)\n",
      "Training done\n"
     ]
    },
    {
     "name": "stderr",
     "output_type": "stream",
     "text": [
      "/Users/zhounan/miniconda3/envs/MODS/lib/python3.8/site-packages/sklearn/preprocessing/_data.py:479: RuntimeWarning: All-NaN slice encountered\n",
      "  data_min = np.nanmin(X, axis=0)\n",
      "/Users/zhounan/miniconda3/envs/MODS/lib/python3.8/site-packages/sklearn/preprocessing/_data.py:480: RuntimeWarning: All-NaN slice encountered\n",
      "  data_max = np.nanmax(X, axis=0)\n"
     ]
    },
    {
     "name": "stdout",
     "output_type": "stream",
     "text": [
      "Threshold:  0.448\n",
      "AUROC:  0.7888888888888889\n",
      "Sensitivity:  0.0 Specificity:  0.9259259259259259 Balanced Accuracy Score:  0.46296296296296297 MCC:  -0.1111111111111111 AUC:  0.7888888888888889\n",
      "Sampling:  BorderlineSmote Scaling:  minmax Classifier:  ADA\n",
      "Fitting 5 folds for each of 144 candidates, totalling 720 fits\n",
      "Tuning Done\n",
      "AdaBoostClassifier(algorithm='SAMME', learning_rate=0.5, random_state=42)\n",
      "Training done\n"
     ]
    },
    {
     "name": "stderr",
     "output_type": "stream",
     "text": [
      "/Users/zhounan/miniconda3/envs/MODS/lib/python3.8/site-packages/sklearn/preprocessing/_data.py:479: RuntimeWarning: All-NaN slice encountered\n",
      "  data_min = np.nanmin(X, axis=0)\n",
      "/Users/zhounan/miniconda3/envs/MODS/lib/python3.8/site-packages/sklearn/preprocessing/_data.py:480: RuntimeWarning: All-NaN slice encountered\n",
      "  data_max = np.nanmax(X, axis=0)\n"
     ]
    },
    {
     "name": "stdout",
     "output_type": "stream",
     "text": [
      "Threshold:  0.28500000000000003\n",
      "AUROC:  0.6740740740740743\n",
      "Sensitivity:  0.0 Specificity:  0.9629629629629629 Balanced Accuracy Score:  0.48148148148148145 MCC:  -0.07728981596002805 AUC:  0.6740740740740743\n",
      "Sampling:  SVMSmote Scaling:  minmax Classifier:  ADA\n",
      "Fitting 5 folds for each of 144 candidates, totalling 720 fits\n",
      "Tuning Done\n",
      "AdaBoostClassifier(algorithm='SAMME', learning_rate=0.3, n_estimators=100,\n",
      "                   random_state=42)\n",
      "Training done\n"
     ]
    },
    {
     "name": "stderr",
     "output_type": "stream",
     "text": [
      "/Users/zhounan/miniconda3/envs/MODS/lib/python3.8/site-packages/sklearn/preprocessing/_data.py:479: RuntimeWarning: All-NaN slice encountered\n",
      "  data_min = np.nanmin(X, axis=0)\n",
      "/Users/zhounan/miniconda3/envs/MODS/lib/python3.8/site-packages/sklearn/preprocessing/_data.py:480: RuntimeWarning: All-NaN slice encountered\n",
      "  data_max = np.nanmax(X, axis=0)\n"
     ]
    },
    {
     "name": "stdout",
     "output_type": "stream",
     "text": [
      "Threshold:  0.302\n",
      "AUROC:  0.6962962962962964\n",
      "Sensitivity:  0.0 Specificity:  0.9629629629629629 Balanced Accuracy Score:  0.48148148148148145 MCC:  -0.07728981596002805 AUC:  0.6962962962962964\n",
      "Scaling scheme: std\n",
      "Sampling:  RUS Scaling:  std Classifier:  ADA\n",
      "Fitting 5 folds for each of 144 candidates, totalling 720 fits\n",
      "Tuning Done\n",
      "AdaBoostClassifier(algorithm='SAMME', learning_rate=7, n_estimators=5,\n",
      "                   random_state=42)\n",
      "Training done\n"
     ]
    },
    {
     "name": "stderr",
     "output_type": "stream",
     "text": [
      "/Users/zhounan/miniconda3/envs/MODS/lib/python3.8/site-packages/sklearn/utils/extmath.py:1051: RuntimeWarning: invalid value encountered in divide\n",
      "  updated_mean = (last_sum + new_sum) / updated_sample_count\n",
      "/Users/zhounan/miniconda3/envs/MODS/lib/python3.8/site-packages/sklearn/utils/extmath.py:1056: RuntimeWarning: invalid value encountered in divide\n",
      "  T = new_sum / new_sample_count\n",
      "/Users/zhounan/miniconda3/envs/MODS/lib/python3.8/site-packages/sklearn/utils/extmath.py:1076: RuntimeWarning: invalid value encountered in divide\n",
      "  new_unnormalized_variance -= correction**2 / new_sample_count\n"
     ]
    },
    {
     "name": "stdout",
     "output_type": "stream",
     "text": [
      "Threshold:  0.269\n",
      "AUROC:  0.5222222222222221\n",
      "Sensitivity:  0.2 Specificity:  0.8148148148148148 Balanced Accuracy Score:  0.5074074074074074 MCC:  0.013781637176578718 AUC:  0.5222222222222221\n",
      "Sampling:  REDN Scaling:  std Classifier:  ADA\n",
      "Fitting 5 folds for each of 144 candidates, totalling 720 fits\n",
      "Tuning Done\n",
      "AdaBoostClassifier(algorithm='SAMME', learning_rate=0.1, n_estimators=100,\n",
      "                   random_state=42)\n",
      "Training done\n"
     ]
    },
    {
     "name": "stderr",
     "output_type": "stream",
     "text": [
      "/Users/zhounan/miniconda3/envs/MODS/lib/python3.8/site-packages/sklearn/utils/extmath.py:1051: RuntimeWarning: invalid value encountered in divide\n",
      "  updated_mean = (last_sum + new_sum) / updated_sample_count\n",
      "/Users/zhounan/miniconda3/envs/MODS/lib/python3.8/site-packages/sklearn/utils/extmath.py:1056: RuntimeWarning: invalid value encountered in divide\n",
      "  T = new_sum / new_sample_count\n",
      "/Users/zhounan/miniconda3/envs/MODS/lib/python3.8/site-packages/sklearn/utils/extmath.py:1076: RuntimeWarning: invalid value encountered in divide\n",
      "  new_unnormalized_variance -= correction**2 / new_sample_count\n"
     ]
    },
    {
     "name": "stdout",
     "output_type": "stream",
     "text": [
      "Threshold:  0.526\n",
      "AUROC:  0.6703703703703704\n",
      "Sensitivity:  0.6 Specificity:  0.7777777777777778 Balanced Accuracy Score:  0.6888888888888889 MCC:  0.30508307783296046 AUC:  0.6703703703703704\n",
      "Sampling:  CC Scaling:  std Classifier:  ADA\n",
      "Fitting 5 folds for each of 144 candidates, totalling 720 fits\n",
      "Tuning Done\n",
      "AdaBoostClassifier(learning_rate=3, n_estimators=21, random_state=42)\n",
      "Training done\n"
     ]
    },
    {
     "name": "stderr",
     "output_type": "stream",
     "text": [
      "/Users/zhounan/miniconda3/envs/MODS/lib/python3.8/site-packages/sklearn/utils/extmath.py:1051: RuntimeWarning: invalid value encountered in divide\n",
      "  updated_mean = (last_sum + new_sum) / updated_sample_count\n",
      "/Users/zhounan/miniconda3/envs/MODS/lib/python3.8/site-packages/sklearn/utils/extmath.py:1056: RuntimeWarning: invalid value encountered in divide\n",
      "  T = new_sum / new_sample_count\n",
      "/Users/zhounan/miniconda3/envs/MODS/lib/python3.8/site-packages/sklearn/utils/extmath.py:1076: RuntimeWarning: invalid value encountered in divide\n",
      "  new_unnormalized_variance -= correction**2 / new_sample_count\n"
     ]
    },
    {
     "name": "stdout",
     "output_type": "stream",
     "text": [
      "Threshold:  0.322\n",
      "AUROC:  0.5518518518518519\n",
      "Sensitivity:  0.2 Specificity:  0.8148148148148148 Balanced Accuracy Score:  0.5074074074074074 MCC:  0.013781637176578718 AUC:  0.5518518518518519\n",
      "Sampling:  IHT Scaling:  std Classifier:  ADA\n",
      "Fitting 5 folds for each of 144 candidates, totalling 720 fits\n",
      "Tuning Done\n",
      "AdaBoostClassifier(algorithm='SAMME', learning_rate=0.1, n_estimators=5,\n",
      "                   random_state=42)\n",
      "Training done\n"
     ]
    },
    {
     "name": "stderr",
     "output_type": "stream",
     "text": [
      "/Users/zhounan/miniconda3/envs/MODS/lib/python3.8/site-packages/sklearn/utils/extmath.py:1051: RuntimeWarning: invalid value encountered in divide\n",
      "  updated_mean = (last_sum + new_sum) / updated_sample_count\n",
      "/Users/zhounan/miniconda3/envs/MODS/lib/python3.8/site-packages/sklearn/utils/extmath.py:1056: RuntimeWarning: invalid value encountered in divide\n",
      "  T = new_sum / new_sample_count\n",
      "/Users/zhounan/miniconda3/envs/MODS/lib/python3.8/site-packages/sklearn/utils/extmath.py:1076: RuntimeWarning: invalid value encountered in divide\n",
      "  new_unnormalized_variance -= correction**2 / new_sample_count\n"
     ]
    },
    {
     "name": "stdout",
     "output_type": "stream",
     "text": [
      "Threshold:  0.0\n",
      "AUROC:  0.4888888888888889\n",
      "Sensitivity:  0.2 Specificity:  0.7777777777777778 Balanced Accuracy Score:  0.48888888888888893 MCC:  -0.019518001458970664 AUC:  0.4888888888888889\n",
      "Sampling:  NearMiss Scaling:  std Classifier:  ADA\n",
      "Fitting 5 folds for each of 144 candidates, totalling 720 fits\n",
      "Tuning Done\n",
      "AdaBoostClassifier(algorithm='SAMME', learning_rate=3, n_estimators=10,\n",
      "                   random_state=42)\n",
      "Training done\n"
     ]
    },
    {
     "name": "stderr",
     "output_type": "stream",
     "text": [
      "/Users/zhounan/miniconda3/envs/MODS/lib/python3.8/site-packages/sklearn/utils/extmath.py:1051: RuntimeWarning: invalid value encountered in divide\n",
      "  updated_mean = (last_sum + new_sum) / updated_sample_count\n",
      "/Users/zhounan/miniconda3/envs/MODS/lib/python3.8/site-packages/sklearn/utils/extmath.py:1056: RuntimeWarning: invalid value encountered in divide\n",
      "  T = new_sum / new_sample_count\n",
      "/Users/zhounan/miniconda3/envs/MODS/lib/python3.8/site-packages/sklearn/utils/extmath.py:1076: RuntimeWarning: invalid value encountered in divide\n",
      "  new_unnormalized_variance -= correction**2 / new_sample_count\n"
     ]
    },
    {
     "name": "stdout",
     "output_type": "stream",
     "text": [
      "Threshold:  0.47800000000000004\n",
      "AUROC:  0.8037037037037037\n",
      "Sensitivity:  0.6 Specificity:  0.7407407407407407 Balanced Accuracy Score:  0.6703703703703703 MCC:  0.26691907246540336 AUC:  0.8037037037037037\n",
      "Sampling:  EDN Scaling:  std Classifier:  ADA\n",
      "Fitting 5 folds for each of 144 candidates, totalling 720 fits\n",
      "Tuning Done\n",
      "AdaBoostClassifier(algorithm='SAMME', learning_rate=0.1, n_estimators=500,\n",
      "                   random_state=42)\n",
      "Training done\n"
     ]
    },
    {
     "name": "stderr",
     "output_type": "stream",
     "text": [
      "/Users/zhounan/miniconda3/envs/MODS/lib/python3.8/site-packages/sklearn/utils/extmath.py:1051: RuntimeWarning: invalid value encountered in divide\n",
      "  updated_mean = (last_sum + new_sum) / updated_sample_count\n",
      "/Users/zhounan/miniconda3/envs/MODS/lib/python3.8/site-packages/sklearn/utils/extmath.py:1056: RuntimeWarning: invalid value encountered in divide\n",
      "  T = new_sum / new_sample_count\n",
      "/Users/zhounan/miniconda3/envs/MODS/lib/python3.8/site-packages/sklearn/utils/extmath.py:1076: RuntimeWarning: invalid value encountered in divide\n",
      "  new_unnormalized_variance -= correction**2 / new_sample_count\n"
     ]
    },
    {
     "name": "stdout",
     "output_type": "stream",
     "text": [
      "Threshold:  0.458\n",
      "AUROC:  0.6444444444444444\n",
      "Sensitivity:  0.4 Specificity:  0.8518518518518519 Balanced Accuracy Score:  0.625925925925926 MCC:  0.2342878320018382 AUC:  0.6444444444444444\n",
      "Sampling:  Tomek Scaling:  std Classifier:  ADA\n",
      "Fitting 5 folds for each of 144 candidates, totalling 720 fits\n",
      "Tuning Done\n",
      "AdaBoostClassifier(algorithm='SAMME', learning_rate=0.3, n_estimators=10,\n",
      "                   random_state=42)\n",
      "Training done\n"
     ]
    },
    {
     "name": "stderr",
     "output_type": "stream",
     "text": [
      "/Users/zhounan/miniconda3/envs/MODS/lib/python3.8/site-packages/sklearn/utils/extmath.py:1051: RuntimeWarning: invalid value encountered in divide\n",
      "  updated_mean = (last_sum + new_sum) / updated_sample_count\n",
      "/Users/zhounan/miniconda3/envs/MODS/lib/python3.8/site-packages/sklearn/utils/extmath.py:1056: RuntimeWarning: invalid value encountered in divide\n",
      "  T = new_sum / new_sample_count\n",
      "/Users/zhounan/miniconda3/envs/MODS/lib/python3.8/site-packages/sklearn/utils/extmath.py:1076: RuntimeWarning: invalid value encountered in divide\n",
      "  new_unnormalized_variance -= correction**2 / new_sample_count\n"
     ]
    },
    {
     "name": "stdout",
     "output_type": "stream",
     "text": [
      "Threshold:  0.331\n",
      "AUROC:  0.6000000000000001\n",
      "Sensitivity:  0.2 Specificity:  0.9259259259259259 Balanced Accuracy Score:  0.562962962962963 MCC:  0.15686368416817548 AUC:  0.6000000000000001\n",
      "Sampling:  Allknn Scaling:  std Classifier:  ADA\n",
      "Fitting 5 folds for each of 144 candidates, totalling 720 fits\n",
      "Tuning Done\n",
      "AdaBoostClassifier(algorithm='SAMME', learning_rate=0.1, n_estimators=10,\n",
      "                   random_state=42)\n",
      "Training done\n"
     ]
    },
    {
     "name": "stderr",
     "output_type": "stream",
     "text": [
      "/Users/zhounan/miniconda3/envs/MODS/lib/python3.8/site-packages/sklearn/utils/extmath.py:1051: RuntimeWarning: invalid value encountered in divide\n",
      "  updated_mean = (last_sum + new_sum) / updated_sample_count\n",
      "/Users/zhounan/miniconda3/envs/MODS/lib/python3.8/site-packages/sklearn/utils/extmath.py:1056: RuntimeWarning: invalid value encountered in divide\n",
      "  T = new_sum / new_sample_count\n",
      "/Users/zhounan/miniconda3/envs/MODS/lib/python3.8/site-packages/sklearn/utils/extmath.py:1076: RuntimeWarning: invalid value encountered in divide\n",
      "  new_unnormalized_variance -= correction**2 / new_sample_count\n"
     ]
    },
    {
     "name": "stdout",
     "output_type": "stream",
     "text": [
      "Threshold:  0.47100000000000003\n",
      "AUROC:  0.6296296296296297\n",
      "Sensitivity:  0.6 Specificity:  0.8148148148148148 Balanced Accuracy Score:  0.7074074074074074 MCC:  0.3478327964999673 AUC:  0.6296296296296297\n",
      "Sampling:  CondensedNN Scaling:  std Classifier:  ADA\n",
      "Fitting 5 folds for each of 144 candidates, totalling 720 fits\n",
      "Tuning Done\n",
      "AdaBoostClassifier(learning_rate=3, n_estimators=5, random_state=42)\n",
      "Training done\n"
     ]
    },
    {
     "name": "stderr",
     "output_type": "stream",
     "text": [
      "/Users/zhounan/miniconda3/envs/MODS/lib/python3.8/site-packages/sklearn/utils/extmath.py:1051: RuntimeWarning: invalid value encountered in divide\n",
      "  updated_mean = (last_sum + new_sum) / updated_sample_count\n",
      "/Users/zhounan/miniconda3/envs/MODS/lib/python3.8/site-packages/sklearn/utils/extmath.py:1056: RuntimeWarning: invalid value encountered in divide\n",
      "  T = new_sum / new_sample_count\n",
      "/Users/zhounan/miniconda3/envs/MODS/lib/python3.8/site-packages/sklearn/utils/extmath.py:1076: RuntimeWarning: invalid value encountered in divide\n",
      "  new_unnormalized_variance -= correction**2 / new_sample_count\n"
     ]
    },
    {
     "name": "stdout",
     "output_type": "stream",
     "text": [
      "Threshold:  0.017\n",
      "AUROC:  0.5851851851851851\n",
      "Sensitivity:  0.6 Specificity:  0.7037037037037037 Balanced Accuracy Score:  0.6518518518518519 MCC:  0.2321726094326961 AUC:  0.5851851851851851\n",
      "Sampling:  OSS Scaling:  std Classifier:  ADA\n",
      "Fitting 5 folds for each of 144 candidates, totalling 720 fits\n",
      "Tuning Done\n",
      "AdaBoostClassifier(algorithm='SAMME', learning_rate=0.1, n_estimators=500,\n",
      "                   random_state=42)\n",
      "Training done\n"
     ]
    },
    {
     "name": "stderr",
     "output_type": "stream",
     "text": [
      "/Users/zhounan/miniconda3/envs/MODS/lib/python3.8/site-packages/sklearn/utils/extmath.py:1051: RuntimeWarning: invalid value encountered in divide\n",
      "  updated_mean = (last_sum + new_sum) / updated_sample_count\n",
      "/Users/zhounan/miniconda3/envs/MODS/lib/python3.8/site-packages/sklearn/utils/extmath.py:1056: RuntimeWarning: invalid value encountered in divide\n",
      "  T = new_sum / new_sample_count\n",
      "/Users/zhounan/miniconda3/envs/MODS/lib/python3.8/site-packages/sklearn/utils/extmath.py:1076: RuntimeWarning: invalid value encountered in divide\n",
      "  new_unnormalized_variance -= correction**2 / new_sample_count\n"
     ]
    },
    {
     "name": "stdout",
     "output_type": "stream",
     "text": [
      "Threshold:  0.363\n",
      "AUROC:  0.6185185185185185\n",
      "Sensitivity:  0.2 Specificity:  0.9259259259259259 Balanced Accuracy Score:  0.562962962962963 MCC:  0.15686368416817548 AUC:  0.6185185185185185\n",
      "Sampling:  SMOTE Scaling:  std Classifier:  ADA\n",
      "Fitting 5 folds for each of 144 candidates, totalling 720 fits\n",
      "Tuning Done\n",
      "AdaBoostClassifier(learning_rate=0.5, n_estimators=200, random_state=42)\n",
      "Training done\n"
     ]
    },
    {
     "name": "stderr",
     "output_type": "stream",
     "text": [
      "/Users/zhounan/miniconda3/envs/MODS/lib/python3.8/site-packages/sklearn/utils/extmath.py:1051: RuntimeWarning: invalid value encountered in divide\n",
      "  updated_mean = (last_sum + new_sum) / updated_sample_count\n",
      "/Users/zhounan/miniconda3/envs/MODS/lib/python3.8/site-packages/sklearn/utils/extmath.py:1056: RuntimeWarning: invalid value encountered in divide\n",
      "  T = new_sum / new_sample_count\n",
      "/Users/zhounan/miniconda3/envs/MODS/lib/python3.8/site-packages/sklearn/utils/extmath.py:1076: RuntimeWarning: invalid value encountered in divide\n",
      "  new_unnormalized_variance -= correction**2 / new_sample_count\n"
     ]
    },
    {
     "name": "stdout",
     "output_type": "stream",
     "text": [
      "Threshold:  0.36\n",
      "AUROC:  0.5185185185185185\n",
      "Sensitivity:  0.2 Specificity:  0.8888888888888888 Balanced Accuracy Score:  0.5444444444444444 MCC:  0.09759000729485331 AUC:  0.5185185185185185\n",
      "Sampling:  ROS Scaling:  std Classifier:  ADA\n",
      "Fitting 5 folds for each of 144 candidates, totalling 720 fits\n",
      "Tuning Done\n",
      "AdaBoostClassifier(learning_rate=1, n_estimators=500, random_state=42)\n",
      "Training done\n"
     ]
    },
    {
     "name": "stderr",
     "output_type": "stream",
     "text": [
      "/Users/zhounan/miniconda3/envs/MODS/lib/python3.8/site-packages/sklearn/utils/extmath.py:1051: RuntimeWarning: invalid value encountered in divide\n",
      "  updated_mean = (last_sum + new_sum) / updated_sample_count\n",
      "/Users/zhounan/miniconda3/envs/MODS/lib/python3.8/site-packages/sklearn/utils/extmath.py:1056: RuntimeWarning: invalid value encountered in divide\n",
      "  T = new_sum / new_sample_count\n",
      "/Users/zhounan/miniconda3/envs/MODS/lib/python3.8/site-packages/sklearn/utils/extmath.py:1076: RuntimeWarning: invalid value encountered in divide\n",
      "  new_unnormalized_variance -= correction**2 / new_sample_count\n"
     ]
    },
    {
     "name": "stdout",
     "output_type": "stream",
     "text": [
      "Threshold:  0.46\n",
      "AUROC:  0.49629629629629635\n",
      "Sensitivity:  0.0 Specificity:  0.8888888888888888 Balanced Accuracy Score:  0.4444444444444444 MCC:  -0.1384091330895666 AUC:  0.49629629629629635\n",
      "Sampling:  ADASYN Scaling:  std Classifier:  ADA\n",
      "Fitting 5 folds for each of 144 candidates, totalling 720 fits\n",
      "Tuning Done\n",
      "AdaBoostClassifier(learning_rate=5, n_estimators=5, random_state=42)\n",
      "Training done\n"
     ]
    },
    {
     "name": "stderr",
     "output_type": "stream",
     "text": [
      "/Users/zhounan/miniconda3/envs/MODS/lib/python3.8/site-packages/sklearn/utils/extmath.py:1051: RuntimeWarning: invalid value encountered in divide\n",
      "  updated_mean = (last_sum + new_sum) / updated_sample_count\n",
      "/Users/zhounan/miniconda3/envs/MODS/lib/python3.8/site-packages/sklearn/utils/extmath.py:1056: RuntimeWarning: invalid value encountered in divide\n",
      "  T = new_sum / new_sample_count\n",
      "/Users/zhounan/miniconda3/envs/MODS/lib/python3.8/site-packages/sklearn/utils/extmath.py:1076: RuntimeWarning: invalid value encountered in divide\n",
      "  new_unnormalized_variance -= correction**2 / new_sample_count\n"
     ]
    },
    {
     "name": "stdout",
     "output_type": "stream",
     "text": [
      "Threshold:  0.001\n",
      "AUROC:  0.6333333333333334\n",
      "Sensitivity:  0.2 Specificity:  0.8148148148148148 Balanced Accuracy Score:  0.5074074074074074 MCC:  0.013781637176578718 AUC:  0.6333333333333334\n",
      "Sampling:  KmeansSmote Scaling:  std Classifier:  ADA\n",
      "Fitting 5 folds for each of 144 candidates, totalling 720 fits\n",
      "Tuning Done\n",
      "AdaBoostClassifier(learning_rate=1, n_estimators=100, random_state=42)\n",
      "Training done\n"
     ]
    },
    {
     "name": "stderr",
     "output_type": "stream",
     "text": [
      "/Users/zhounan/miniconda3/envs/MODS/lib/python3.8/site-packages/sklearn/utils/extmath.py:1051: RuntimeWarning: invalid value encountered in divide\n",
      "  updated_mean = (last_sum + new_sum) / updated_sample_count\n",
      "/Users/zhounan/miniconda3/envs/MODS/lib/python3.8/site-packages/sklearn/utils/extmath.py:1056: RuntimeWarning: invalid value encountered in divide\n",
      "  T = new_sum / new_sample_count\n",
      "/Users/zhounan/miniconda3/envs/MODS/lib/python3.8/site-packages/sklearn/utils/extmath.py:1076: RuntimeWarning: invalid value encountered in divide\n",
      "  new_unnormalized_variance -= correction**2 / new_sample_count\n"
     ]
    },
    {
     "name": "stdout",
     "output_type": "stream",
     "text": [
      "Threshold:  0.252\n",
      "AUROC:  0.5333333333333333\n",
      "Sensitivity:  0.2 Specificity:  0.8888888888888888 Balanced Accuracy Score:  0.5444444444444444 MCC:  0.09759000729485331 AUC:  0.5333333333333333\n",
      "Sampling:  BorderlineSmote Scaling:  std Classifier:  ADA\n",
      "Fitting 5 folds for each of 144 candidates, totalling 720 fits\n",
      "Tuning Done\n",
      "AdaBoostClassifier(algorithm='SAMME', learning_rate=0.1, n_estimators=200,\n",
      "                   random_state=42)\n",
      "Training done\n"
     ]
    },
    {
     "name": "stderr",
     "output_type": "stream",
     "text": [
      "/Users/zhounan/miniconda3/envs/MODS/lib/python3.8/site-packages/sklearn/utils/extmath.py:1051: RuntimeWarning: invalid value encountered in divide\n",
      "  updated_mean = (last_sum + new_sum) / updated_sample_count\n",
      "/Users/zhounan/miniconda3/envs/MODS/lib/python3.8/site-packages/sklearn/utils/extmath.py:1056: RuntimeWarning: invalid value encountered in divide\n",
      "  T = new_sum / new_sample_count\n",
      "/Users/zhounan/miniconda3/envs/MODS/lib/python3.8/site-packages/sklearn/utils/extmath.py:1076: RuntimeWarning: invalid value encountered in divide\n",
      "  new_unnormalized_variance -= correction**2 / new_sample_count\n"
     ]
    },
    {
     "name": "stdout",
     "output_type": "stream",
     "text": [
      "Threshold:  0.391\n",
      "AUROC:  0.6407407407407407\n",
      "Sensitivity:  0.2 Specificity:  0.8148148148148148 Balanced Accuracy Score:  0.5074074074074074 MCC:  0.013781637176578718 AUC:  0.6407407407407407\n",
      "Sampling:  SVMSmote Scaling:  std Classifier:  ADA\n",
      "Fitting 5 folds for each of 144 candidates, totalling 720 fits\n",
      "Tuning Done\n",
      "AdaBoostClassifier(algorithm='SAMME', learning_rate=1, random_state=42)\n",
      "Training done\n"
     ]
    },
    {
     "name": "stderr",
     "output_type": "stream",
     "text": [
      "/Users/zhounan/miniconda3/envs/MODS/lib/python3.8/site-packages/sklearn/utils/extmath.py:1051: RuntimeWarning: invalid value encountered in divide\n",
      "  updated_mean = (last_sum + new_sum) / updated_sample_count\n",
      "/Users/zhounan/miniconda3/envs/MODS/lib/python3.8/site-packages/sklearn/utils/extmath.py:1056: RuntimeWarning: invalid value encountered in divide\n",
      "  T = new_sum / new_sample_count\n",
      "/Users/zhounan/miniconda3/envs/MODS/lib/python3.8/site-packages/sklearn/utils/extmath.py:1076: RuntimeWarning: invalid value encountered in divide\n",
      "  new_unnormalized_variance -= correction**2 / new_sample_count\n"
     ]
    },
    {
     "name": "stdout",
     "output_type": "stream",
     "text": [
      "Threshold:  0.335\n",
      "AUROC:  0.5555555555555556\n",
      "Sensitivity:  0.2 Specificity:  0.8148148148148148 Balanced Accuracy Score:  0.5074074074074074 MCC:  0.013781637176578718 AUC:  0.5555555555555556\n",
      "Scaling scheme: robust\n",
      "Sampling:  RUS Scaling:  robust Classifier:  ADA\n",
      "Fitting 5 folds for each of 144 candidates, totalling 720 fits\n",
      "Tuning Done\n",
      "AdaBoostClassifier(algorithm='SAMME', learning_rate=7, n_estimators=5,\n",
      "                   random_state=42)\n",
      "Training done\n"
     ]
    },
    {
     "name": "stderr",
     "output_type": "stream",
     "text": [
      "/Users/zhounan/miniconda3/envs/MODS/lib/python3.8/site-packages/numpy/lib/nanfunctions.py:1217: RuntimeWarning: All-NaN slice encountered\n",
      "  return function_base._ureduce(a, func=_nanmedian, keepdims=keepdims,\n",
      "/Users/zhounan/miniconda3/envs/MODS/lib/python3.8/site-packages/numpy/lib/nanfunctions.py:1556: RuntimeWarning: All-NaN slice encountered\n",
      "  return function_base._ureduce(a,\n"
     ]
    },
    {
     "name": "stdout",
     "output_type": "stream",
     "text": [
      "Threshold:  0.442\n",
      "AUROC:  0.5148148148148148\n",
      "Sensitivity:  0.6 Specificity:  0.5185185185185185 Balanced Accuracy Score:  0.5592592592592592 MCC:  0.08606629658238704 AUC:  0.5148148148148148\n",
      "Sampling:  REDN Scaling:  robust Classifier:  ADA\n",
      "Fitting 5 folds for each of 144 candidates, totalling 720 fits\n",
      "Tuning Done\n",
      "AdaBoostClassifier(algorithm='SAMME', learning_rate=1, n_estimators=20,\n",
      "                   random_state=42)\n",
      "Training done\n"
     ]
    },
    {
     "name": "stderr",
     "output_type": "stream",
     "text": [
      "/Users/zhounan/miniconda3/envs/MODS/lib/python3.8/site-packages/numpy/lib/nanfunctions.py:1217: RuntimeWarning: All-NaN slice encountered\n",
      "  return function_base._ureduce(a, func=_nanmedian, keepdims=keepdims,\n",
      "/Users/zhounan/miniconda3/envs/MODS/lib/python3.8/site-packages/numpy/lib/nanfunctions.py:1556: RuntimeWarning: All-NaN slice encountered\n",
      "  return function_base._ureduce(a,\n"
     ]
    },
    {
     "name": "stdout",
     "output_type": "stream",
     "text": [
      "Threshold:  0.385\n",
      "AUROC:  0.762962962962963\n",
      "Sensitivity:  0.8 Specificity:  0.5555555555555556 Balanced Accuracy Score:  0.6777777777777778 MCC:  0.25819888974716115 AUC:  0.762962962962963\n",
      "Sampling:  CC Scaling:  robust Classifier:  ADA\n",
      "Fitting 5 folds for each of 144 candidates, totalling 720 fits\n",
      "Tuning Done\n",
      "AdaBoostClassifier(learning_rate=0.1, random_state=42)\n",
      "Training done\n"
     ]
    },
    {
     "name": "stderr",
     "output_type": "stream",
     "text": [
      "/Users/zhounan/miniconda3/envs/MODS/lib/python3.8/site-packages/numpy/lib/nanfunctions.py:1217: RuntimeWarning: All-NaN slice encountered\n",
      "  return function_base._ureduce(a, func=_nanmedian, keepdims=keepdims,\n",
      "/Users/zhounan/miniconda3/envs/MODS/lib/python3.8/site-packages/numpy/lib/nanfunctions.py:1556: RuntimeWarning: All-NaN slice encountered\n",
      "  return function_base._ureduce(a,\n"
     ]
    },
    {
     "name": "stdout",
     "output_type": "stream",
     "text": [
      "Threshold:  0.369\n",
      "AUROC:  0.674074074074074\n",
      "Sensitivity:  0.4 Specificity:  0.6296296296296297 Balanced Accuracy Score:  0.5148148148148148 MCC:  0.022222222222222223 AUC:  0.674074074074074\n",
      "Sampling:  IHT Scaling:  robust Classifier:  ADA\n",
      "Fitting 5 folds for each of 144 candidates, totalling 720 fits\n",
      "Tuning Done\n",
      "AdaBoostClassifier(algorithm='SAMME', learning_rate=0.1, n_estimators=5,\n",
      "                   random_state=42)\n",
      "Training done\n"
     ]
    },
    {
     "name": "stderr",
     "output_type": "stream",
     "text": [
      "/Users/zhounan/miniconda3/envs/MODS/lib/python3.8/site-packages/numpy/lib/nanfunctions.py:1217: RuntimeWarning: All-NaN slice encountered\n",
      "  return function_base._ureduce(a, func=_nanmedian, keepdims=keepdims,\n",
      "/Users/zhounan/miniconda3/envs/MODS/lib/python3.8/site-packages/numpy/lib/nanfunctions.py:1556: RuntimeWarning: All-NaN slice encountered\n",
      "  return function_base._ureduce(a,\n"
     ]
    },
    {
     "name": "stdout",
     "output_type": "stream",
     "text": [
      "Threshold:  0.269\n",
      "AUROC:  0.6407407407407407\n",
      "Sensitivity:  0.8 Specificity:  0.48148148148148145 Balanced Accuracy Score:  0.6407407407407407 MCC:  0.20602334873357925 AUC:  0.6407407407407407\n",
      "Sampling:  NearMiss Scaling:  robust Classifier:  ADA\n",
      "Fitting 5 folds for each of 144 candidates, totalling 720 fits\n",
      "Tuning Done\n",
      "AdaBoostClassifier(algorithm='SAMME', learning_rate=3, n_estimators=10,\n",
      "                   random_state=42)\n",
      "Training done\n"
     ]
    },
    {
     "name": "stderr",
     "output_type": "stream",
     "text": [
      "/Users/zhounan/miniconda3/envs/MODS/lib/python3.8/site-packages/numpy/lib/nanfunctions.py:1217: RuntimeWarning: All-NaN slice encountered\n",
      "  return function_base._ureduce(a, func=_nanmedian, keepdims=keepdims,\n",
      "/Users/zhounan/miniconda3/envs/MODS/lib/python3.8/site-packages/numpy/lib/nanfunctions.py:1556: RuntimeWarning: All-NaN slice encountered\n",
      "  return function_base._ureduce(a,\n"
     ]
    },
    {
     "name": "stdout",
     "output_type": "stream",
     "text": [
      "Threshold:  0.482\n",
      "AUROC:  0.7222222222222222\n",
      "Sensitivity:  0.8 Specificity:  0.6666666666666666 Balanced Accuracy Score:  0.7333333333333334 MCC:  0.34500484066310094 AUC:  0.7222222222222222\n",
      "Sampling:  EDN Scaling:  robust Classifier:  ADA\n",
      "Fitting 5 folds for each of 144 candidates, totalling 720 fits\n",
      "Tuning Done\n",
      "AdaBoostClassifier(algorithm='SAMME', learning_rate=1, n_estimators=5,\n",
      "                   random_state=42)\n",
      "Training done\n"
     ]
    },
    {
     "name": "stderr",
     "output_type": "stream",
     "text": [
      "/Users/zhounan/miniconda3/envs/MODS/lib/python3.8/site-packages/numpy/lib/nanfunctions.py:1217: RuntimeWarning: All-NaN slice encountered\n",
      "  return function_base._ureduce(a, func=_nanmedian, keepdims=keepdims,\n",
      "/Users/zhounan/miniconda3/envs/MODS/lib/python3.8/site-packages/numpy/lib/nanfunctions.py:1556: RuntimeWarning: All-NaN slice encountered\n",
      "  return function_base._ureduce(a,\n"
     ]
    },
    {
     "name": "stdout",
     "output_type": "stream",
     "text": [
      "Threshold:  0.32\n",
      "AUROC:  0.7074074074074075\n",
      "Sensitivity:  0.6 Specificity:  0.6666666666666666 Balanced Accuracy Score:  0.6333333333333333 MCC:  0.2 AUC:  0.7074074074074075\n",
      "Sampling:  Tomek Scaling:  robust Classifier:  ADA\n",
      "Fitting 5 folds for each of 144 candidates, totalling 720 fits\n",
      "Tuning Done\n",
      "AdaBoostClassifier(algorithm='SAMME', learning_rate=0.3, n_estimators=10,\n",
      "                   random_state=42)\n",
      "Training done\n"
     ]
    },
    {
     "name": "stderr",
     "output_type": "stream",
     "text": [
      "/Users/zhounan/miniconda3/envs/MODS/lib/python3.8/site-packages/numpy/lib/nanfunctions.py:1217: RuntimeWarning: All-NaN slice encountered\n",
      "  return function_base._ureduce(a, func=_nanmedian, keepdims=keepdims,\n",
      "/Users/zhounan/miniconda3/envs/MODS/lib/python3.8/site-packages/numpy/lib/nanfunctions.py:1556: RuntimeWarning: All-NaN slice encountered\n",
      "  return function_base._ureduce(a,\n"
     ]
    },
    {
     "name": "stdout",
     "output_type": "stream",
     "text": [
      "Threshold:  0.331\n",
      "AUROC:  0.7037037037037037\n",
      "Sensitivity:  0.4 Specificity:  0.8148148148148148 Balanced Accuracy Score:  0.6074074074074074 MCC:  0.18867401410338308 AUC:  0.7037037037037037\n",
      "Sampling:  Allknn Scaling:  robust Classifier:  ADA\n",
      "Fitting 5 folds for each of 144 candidates, totalling 720 fits\n",
      "Tuning Done\n",
      "AdaBoostClassifier(learning_rate=0.5, n_estimators=5, random_state=42)\n",
      "Training done\n"
     ]
    },
    {
     "name": "stderr",
     "output_type": "stream",
     "text": [
      "/Users/zhounan/miniconda3/envs/MODS/lib/python3.8/site-packages/numpy/lib/nanfunctions.py:1217: RuntimeWarning: All-NaN slice encountered\n",
      "  return function_base._ureduce(a, func=_nanmedian, keepdims=keepdims,\n",
      "/Users/zhounan/miniconda3/envs/MODS/lib/python3.8/site-packages/numpy/lib/nanfunctions.py:1556: RuntimeWarning: All-NaN slice encountered\n",
      "  return function_base._ureduce(a,\n"
     ]
    },
    {
     "name": "stdout",
     "output_type": "stream",
     "text": [
      "Threshold:  0.001\n",
      "AUROC:  0.7074074074074075\n",
      "Sensitivity:  0.6 Specificity:  0.6666666666666666 Balanced Accuracy Score:  0.6333333333333333 MCC:  0.2 AUC:  0.7074074074074075\n",
      "Sampling:  CondensedNN Scaling:  robust Classifier:  ADA\n",
      "Fitting 5 folds for each of 144 candidates, totalling 720 fits\n",
      "Tuning Done\n",
      "AdaBoostClassifier(learning_rate=3, n_estimators=5, random_state=42)\n",
      "Training done\n"
     ]
    },
    {
     "name": "stderr",
     "output_type": "stream",
     "text": [
      "/Users/zhounan/miniconda3/envs/MODS/lib/python3.8/site-packages/numpy/lib/nanfunctions.py:1217: RuntimeWarning: All-NaN slice encountered\n",
      "  return function_base._ureduce(a, func=_nanmedian, keepdims=keepdims,\n",
      "/Users/zhounan/miniconda3/envs/MODS/lib/python3.8/site-packages/numpy/lib/nanfunctions.py:1556: RuntimeWarning: All-NaN slice encountered\n",
      "  return function_base._ureduce(a,\n"
     ]
    },
    {
     "name": "stdout",
     "output_type": "stream",
     "text": [
      "Threshold:  0.035\n",
      "AUROC:  0.7\n",
      "Sensitivity:  0.8 Specificity:  0.5925925925925926 Balanced Accuracy Score:  0.6962962962962963 MCC:  0.2856530694872366 AUC:  0.7\n",
      "Sampling:  OSS Scaling:  robust Classifier:  ADA\n",
      "Fitting 5 folds for each of 144 candidates, totalling 720 fits\n",
      "Tuning Done\n",
      "AdaBoostClassifier(learning_rate=0.1, n_estimators=5, random_state=42)\n",
      "Training done\n"
     ]
    },
    {
     "name": "stderr",
     "output_type": "stream",
     "text": [
      "/Users/zhounan/miniconda3/envs/MODS/lib/python3.8/site-packages/numpy/lib/nanfunctions.py:1217: RuntimeWarning: All-NaN slice encountered\n",
      "  return function_base._ureduce(a, func=_nanmedian, keepdims=keepdims,\n",
      "/Users/zhounan/miniconda3/envs/MODS/lib/python3.8/site-packages/numpy/lib/nanfunctions.py:1556: RuntimeWarning: All-NaN slice encountered\n",
      "  return function_base._ureduce(a,\n"
     ]
    },
    {
     "name": "stdout",
     "output_type": "stream",
     "text": [
      "Threshold:  0.001\n",
      "AUROC:  0.7481481481481482\n",
      "Sensitivity:  0.4 Specificity:  0.8148148148148148 Balanced Accuracy Score:  0.6074074074074074 MCC:  0.18867401410338308 AUC:  0.7481481481481482\n",
      "Sampling:  SMOTE Scaling:  robust Classifier:  ADA\n",
      "Fitting 5 folds for each of 144 candidates, totalling 720 fits\n",
      "Tuning Done\n",
      "AdaBoostClassifier(learning_rate=0.5, random_state=42)\n",
      "Training done\n"
     ]
    },
    {
     "name": "stderr",
     "output_type": "stream",
     "text": [
      "/Users/zhounan/miniconda3/envs/MODS/lib/python3.8/site-packages/numpy/lib/nanfunctions.py:1217: RuntimeWarning: All-NaN slice encountered\n",
      "  return function_base._ureduce(a, func=_nanmedian, keepdims=keepdims,\n",
      "/Users/zhounan/miniconda3/envs/MODS/lib/python3.8/site-packages/numpy/lib/nanfunctions.py:1556: RuntimeWarning: All-NaN slice encountered\n",
      "  return function_base._ureduce(a,\n"
     ]
    },
    {
     "name": "stdout",
     "output_type": "stream",
     "text": [
      "Threshold:  0.353\n",
      "AUROC:  0.7407407407407407\n",
      "Sensitivity:  0.4 Specificity:  0.7407407407407407 Balanced Accuracy Score:  0.5703703703703704 MCC:  0.11365840154561273 AUC:  0.7407407407407407\n",
      "Sampling:  ROS Scaling:  robust Classifier:  ADA\n",
      "Fitting 5 folds for each of 144 candidates, totalling 720 fits\n",
      "Tuning Done\n",
      "AdaBoostClassifier(learning_rate=1, n_estimators=500, random_state=42)\n",
      "Training done\n"
     ]
    },
    {
     "name": "stderr",
     "output_type": "stream",
     "text": [
      "/Users/zhounan/miniconda3/envs/MODS/lib/python3.8/site-packages/numpy/lib/nanfunctions.py:1217: RuntimeWarning: All-NaN slice encountered\n",
      "  return function_base._ureduce(a, func=_nanmedian, keepdims=keepdims,\n",
      "/Users/zhounan/miniconda3/envs/MODS/lib/python3.8/site-packages/numpy/lib/nanfunctions.py:1556: RuntimeWarning: All-NaN slice encountered\n",
      "  return function_base._ureduce(a,\n"
     ]
    },
    {
     "name": "stdout",
     "output_type": "stream",
     "text": [
      "Threshold:  0.488\n",
      "AUROC:  0.7407407407407407\n",
      "Sensitivity:  0.6 Specificity:  0.7407407407407407 Balanced Accuracy Score:  0.6703703703703703 MCC:  0.26691907246540336 AUC:  0.7407407407407407\n",
      "Sampling:  ADASYN Scaling:  robust Classifier:  ADA\n",
      "Fitting 5 folds for each of 144 candidates, totalling 720 fits\n",
      "Tuning Done\n",
      "AdaBoostClassifier(algorithm='SAMME', learning_rate=0.5, n_estimators=10,\n",
      "                   random_state=42)\n",
      "Training done\n"
     ]
    },
    {
     "name": "stderr",
     "output_type": "stream",
     "text": [
      "/Users/zhounan/miniconda3/envs/MODS/lib/python3.8/site-packages/numpy/lib/nanfunctions.py:1217: RuntimeWarning: All-NaN slice encountered\n",
      "  return function_base._ureduce(a, func=_nanmedian, keepdims=keepdims,\n",
      "/Users/zhounan/miniconda3/envs/MODS/lib/python3.8/site-packages/numpy/lib/nanfunctions.py:1556: RuntimeWarning: All-NaN slice encountered\n",
      "  return function_base._ureduce(a,\n"
     ]
    },
    {
     "name": "stdout",
     "output_type": "stream",
     "text": [
      "Threshold:  0.3\n",
      "AUROC:  0.7037037037037037\n",
      "Sensitivity:  0.6 Specificity:  0.6666666666666666 Balanced Accuracy Score:  0.6333333333333333 MCC:  0.2 AUC:  0.7037037037037037\n",
      "Sampling:  KmeansSmote Scaling:  robust Classifier:  ADA\n",
      "Fitting 5 folds for each of 144 candidates, totalling 720 fits\n",
      "Tuning Done\n",
      "AdaBoostClassifier(algorithm='SAMME', learning_rate=3, n_estimators=100,\n",
      "                   random_state=42)\n",
      "Training done\n"
     ]
    },
    {
     "name": "stderr",
     "output_type": "stream",
     "text": [
      "/Users/zhounan/miniconda3/envs/MODS/lib/python3.8/site-packages/numpy/lib/nanfunctions.py:1217: RuntimeWarning: All-NaN slice encountered\n",
      "  return function_base._ureduce(a, func=_nanmedian, keepdims=keepdims,\n",
      "/Users/zhounan/miniconda3/envs/MODS/lib/python3.8/site-packages/numpy/lib/nanfunctions.py:1556: RuntimeWarning: All-NaN slice encountered\n",
      "  return function_base._ureduce(a,\n"
     ]
    },
    {
     "name": "stdout",
     "output_type": "stream",
     "text": [
      "Threshold:  0.494\n",
      "AUROC:  0.8\n",
      "Sensitivity:  0.6 Specificity:  1.0 Balanced Accuracy Score:  0.8 MCC:  0.7474093186836597 AUC:  0.8\n",
      "Sampling:  BorderlineSmote Scaling:  robust Classifier:  ADA\n",
      "Fitting 5 folds for each of 144 candidates, totalling 720 fits\n",
      "Tuning Done\n",
      "AdaBoostClassifier(algorithm='SAMME', learning_rate=0.1, n_estimators=200,\n",
      "                   random_state=42)\n",
      "Training done\n"
     ]
    },
    {
     "name": "stderr",
     "output_type": "stream",
     "text": [
      "/Users/zhounan/miniconda3/envs/MODS/lib/python3.8/site-packages/numpy/lib/nanfunctions.py:1217: RuntimeWarning: All-NaN slice encountered\n",
      "  return function_base._ureduce(a, func=_nanmedian, keepdims=keepdims,\n",
      "/Users/zhounan/miniconda3/envs/MODS/lib/python3.8/site-packages/numpy/lib/nanfunctions.py:1556: RuntimeWarning: All-NaN slice encountered\n",
      "  return function_base._ureduce(a,\n"
     ]
    },
    {
     "name": "stdout",
     "output_type": "stream",
     "text": [
      "Threshold:  0.33\n",
      "AUROC:  0.6814814814814815\n",
      "Sensitivity:  0.6 Specificity:  0.6666666666666666 Balanced Accuracy Score:  0.6333333333333333 MCC:  0.2 AUC:  0.6814814814814815\n",
      "Sampling:  SVMSmote Scaling:  robust Classifier:  ADA\n",
      "Fitting 5 folds for each of 144 candidates, totalling 720 fits\n",
      "Tuning Done\n",
      "AdaBoostClassifier(algorithm='SAMME', learning_rate=0.5, n_estimators=10,\n",
      "                   random_state=42)\n",
      "Training done\n"
     ]
    },
    {
     "name": "stderr",
     "output_type": "stream",
     "text": [
      "/Users/zhounan/miniconda3/envs/MODS/lib/python3.8/site-packages/numpy/lib/nanfunctions.py:1217: RuntimeWarning: All-NaN slice encountered\n",
      "  return function_base._ureduce(a, func=_nanmedian, keepdims=keepdims,\n",
      "/Users/zhounan/miniconda3/envs/MODS/lib/python3.8/site-packages/numpy/lib/nanfunctions.py:1556: RuntimeWarning: All-NaN slice encountered\n",
      "  return function_base._ureduce(a,\n",
      "100%|██████████| 3/3 [04:47<00:00, 95.83s/it]\n",
      " 11%|█         | 1/9 [04:47<38:19, 287.49s/it]"
     ]
    },
    {
     "name": "stdout",
     "output_type": "stream",
     "text": [
      "Threshold:  0.331\n",
      "AUROC:  0.6851851851851852\n",
      "Sensitivity:  0.6 Specificity:  0.6666666666666666 Balanced Accuracy Score:  0.6333333333333333 MCC:  0.2 AUC:  0.6851851851851852\n",
      "For  10  genes: \n"
     ]
    },
    {
     "name": "stderr",
     "output_type": "stream",
     "text": []
    },
    {
     "name": "stdout",
     "output_type": "stream",
     "text": [
      "Scaling scheme: minmax\n",
      "Sampling:  RUS Scaling:  minmax Classifier:  ADA\n",
      "Fitting 5 folds for each of 144 candidates, totalling 720 fits\n",
      "Tuning Done\n",
      "AdaBoostClassifier(algorithm='SAMME', learning_rate=0.1, n_estimators=200,\n",
      "                   random_state=42)\n",
      "Training done\n"
     ]
    },
    {
     "name": "stderr",
     "output_type": "stream",
     "text": [
      "/Users/zhounan/miniconda3/envs/MODS/lib/python3.8/site-packages/sklearn/preprocessing/_data.py:479: RuntimeWarning: All-NaN slice encountered\n",
      "  data_min = np.nanmin(X, axis=0)\n",
      "/Users/zhounan/miniconda3/envs/MODS/lib/python3.8/site-packages/sklearn/preprocessing/_data.py:480: RuntimeWarning: All-NaN slice encountered\n",
      "  data_max = np.nanmax(X, axis=0)\n"
     ]
    },
    {
     "name": "stdout",
     "output_type": "stream",
     "text": [
      "Threshold:  0.302\n",
      "AUROC:  0.5703703703703704\n",
      "Sensitivity:  0.0 Specificity:  1.0 Balanced Accuracy Score:  0.5 MCC:  0.0 AUC:  0.5703703703703704\n",
      "Sampling:  REDN Scaling:  minmax Classifier:  ADA\n",
      "Fitting 5 folds for each of 144 candidates, totalling 720 fits\n",
      "Tuning Done\n",
      "AdaBoostClassifier(algorithm='SAMME', learning_rate=0.1, n_estimators=100,\n",
      "                   random_state=42)\n",
      "Training done\n"
     ]
    },
    {
     "name": "stderr",
     "output_type": "stream",
     "text": [
      "/Users/zhounan/miniconda3/envs/MODS/lib/python3.8/site-packages/sklearn/preprocessing/_data.py:479: RuntimeWarning: All-NaN slice encountered\n",
      "  data_min = np.nanmin(X, axis=0)\n",
      "/Users/zhounan/miniconda3/envs/MODS/lib/python3.8/site-packages/sklearn/preprocessing/_data.py:480: RuntimeWarning: All-NaN slice encountered\n",
      "  data_max = np.nanmax(X, axis=0)\n"
     ]
    },
    {
     "name": "stdout",
     "output_type": "stream",
     "text": [
      "Threshold:  0.3\n",
      "AUROC:  0.7407407407407407\n",
      "Sensitivity:  0.0 Specificity:  0.9629629629629629 Balanced Accuracy Score:  0.48148148148148145 MCC:  -0.07728981596002805 AUC:  0.7407407407407407\n",
      "Sampling:  CC Scaling:  minmax Classifier:  ADA\n",
      "Fitting 5 folds for each of 144 candidates, totalling 720 fits\n",
      "Tuning Done\n",
      "AdaBoostClassifier(learning_rate=0.1, n_estimators=500, random_state=42)\n",
      "Training done\n"
     ]
    },
    {
     "name": "stderr",
     "output_type": "stream",
     "text": [
      "/Users/zhounan/miniconda3/envs/MODS/lib/python3.8/site-packages/sklearn/preprocessing/_data.py:479: RuntimeWarning: All-NaN slice encountered\n",
      "  data_min = np.nanmin(X, axis=0)\n",
      "/Users/zhounan/miniconda3/envs/MODS/lib/python3.8/site-packages/sklearn/preprocessing/_data.py:480: RuntimeWarning: All-NaN slice encountered\n",
      "  data_max = np.nanmax(X, axis=0)\n"
     ]
    },
    {
     "name": "stdout",
     "output_type": "stream",
     "text": [
      "Threshold:  0.339\n",
      "AUROC:  0.6222222222222222\n",
      "Sensitivity:  0.0 Specificity:  0.9629629629629629 Balanced Accuracy Score:  0.48148148148148145 MCC:  -0.07728981596002805 AUC:  0.6222222222222222\n",
      "Sampling:  IHT Scaling:  minmax Classifier:  ADA\n",
      "Fitting 5 folds for each of 144 candidates, totalling 720 fits\n",
      "Tuning Done\n",
      "AdaBoostClassifier(algorithm='SAMME', learning_rate=0.1, n_estimators=5,\n",
      "                   random_state=42)\n",
      "Training done\n"
     ]
    },
    {
     "name": "stderr",
     "output_type": "stream",
     "text": [
      "/Users/zhounan/miniconda3/envs/MODS/lib/python3.8/site-packages/sklearn/preprocessing/_data.py:479: RuntimeWarning: All-NaN slice encountered\n",
      "  data_min = np.nanmin(X, axis=0)\n",
      "/Users/zhounan/miniconda3/envs/MODS/lib/python3.8/site-packages/sklearn/preprocessing/_data.py:480: RuntimeWarning: All-NaN slice encountered\n",
      "  data_max = np.nanmax(X, axis=0)\n"
     ]
    },
    {
     "name": "stdout",
     "output_type": "stream",
     "text": [
      "Threshold:  0.269\n",
      "AUROC:  0.5444444444444444\n",
      "Sensitivity:  0.2 Specificity:  0.8888888888888888 Balanced Accuracy Score:  0.5444444444444444 MCC:  0.09759000729485331 AUC:  0.5444444444444444\n",
      "Sampling:  NearMiss Scaling:  minmax Classifier:  ADA\n",
      "Fitting 5 folds for each of 144 candidates, totalling 720 fits\n",
      "Tuning Done\n",
      "AdaBoostClassifier(algorithm='SAMME', learning_rate=3, n_estimators=500,\n",
      "                   random_state=42)\n",
      "Training done\n"
     ]
    },
    {
     "name": "stderr",
     "output_type": "stream",
     "text": [
      "/Users/zhounan/miniconda3/envs/MODS/lib/python3.8/site-packages/sklearn/preprocessing/_data.py:479: RuntimeWarning: All-NaN slice encountered\n",
      "  data_min = np.nanmin(X, axis=0)\n",
      "/Users/zhounan/miniconda3/envs/MODS/lib/python3.8/site-packages/sklearn/preprocessing/_data.py:480: RuntimeWarning: All-NaN slice encountered\n",
      "  data_max = np.nanmax(X, axis=0)\n"
     ]
    },
    {
     "name": "stdout",
     "output_type": "stream",
     "text": [
      "Threshold:  0.0\n",
      "AUROC:  0.46296296296296297\n",
      "Sensitivity:  0.0 Specificity:  0.9259259259259259 Balanced Accuracy Score:  0.46296296296296297 MCC:  -0.1111111111111111 AUC:  0.46296296296296297\n",
      "Sampling:  EDN Scaling:  minmax Classifier:  ADA\n",
      "Fitting 5 folds for each of 144 candidates, totalling 720 fits\n",
      "Tuning Done\n",
      "AdaBoostClassifier(learning_rate=0.1, n_estimators=30, random_state=42)\n",
      "Training done\n"
     ]
    },
    {
     "name": "stderr",
     "output_type": "stream",
     "text": [
      "/Users/zhounan/miniconda3/envs/MODS/lib/python3.8/site-packages/sklearn/preprocessing/_data.py:479: RuntimeWarning: All-NaN slice encountered\n",
      "  data_min = np.nanmin(X, axis=0)\n",
      "/Users/zhounan/miniconda3/envs/MODS/lib/python3.8/site-packages/sklearn/preprocessing/_data.py:480: RuntimeWarning: All-NaN slice encountered\n",
      "  data_max = np.nanmax(X, axis=0)\n"
     ]
    },
    {
     "name": "stdout",
     "output_type": "stream",
     "text": [
      "Threshold:  0.024\n",
      "AUROC:  0.6296296296296297\n",
      "Sensitivity:  0.0 Specificity:  0.9629629629629629 Balanced Accuracy Score:  0.48148148148148145 MCC:  -0.07728981596002805 AUC:  0.6296296296296297\n",
      "Sampling:  Tomek Scaling:  minmax Classifier:  ADA\n",
      "Fitting 5 folds for each of 144 candidates, totalling 720 fits\n",
      "Tuning Done\n",
      "AdaBoostClassifier(algorithm='SAMME', learning_rate=0.5, n_estimators=20,\n",
      "                   random_state=42)\n",
      "Training done\n"
     ]
    },
    {
     "name": "stderr",
     "output_type": "stream",
     "text": [
      "/Users/zhounan/miniconda3/envs/MODS/lib/python3.8/site-packages/sklearn/preprocessing/_data.py:479: RuntimeWarning: All-NaN slice encountered\n",
      "  data_min = np.nanmin(X, axis=0)\n",
      "/Users/zhounan/miniconda3/envs/MODS/lib/python3.8/site-packages/sklearn/preprocessing/_data.py:480: RuntimeWarning: All-NaN slice encountered\n",
      "  data_max = np.nanmax(X, axis=0)\n"
     ]
    },
    {
     "name": "stdout",
     "output_type": "stream",
     "text": [
      "Threshold:  0.269\n",
      "AUROC:  0.5703703703703704\n",
      "Sensitivity:  0.0 Specificity:  1.0 Balanced Accuracy Score:  0.5 MCC:  0.0 AUC:  0.5703703703703704\n",
      "Sampling:  Allknn Scaling:  minmax Classifier:  ADA\n",
      "Fitting 5 folds for each of 144 candidates, totalling 720 fits\n",
      "Tuning Done\n",
      "AdaBoostClassifier(algorithm='SAMME', learning_rate=1, n_estimators=500,\n",
      "                   random_state=42)\n",
      "Training done\n"
     ]
    },
    {
     "name": "stderr",
     "output_type": "stream",
     "text": [
      "/Users/zhounan/miniconda3/envs/MODS/lib/python3.8/site-packages/sklearn/preprocessing/_data.py:479: RuntimeWarning: All-NaN slice encountered\n",
      "  data_min = np.nanmin(X, axis=0)\n",
      "/Users/zhounan/miniconda3/envs/MODS/lib/python3.8/site-packages/sklearn/preprocessing/_data.py:480: RuntimeWarning: All-NaN slice encountered\n",
      "  data_max = np.nanmax(X, axis=0)\n"
     ]
    },
    {
     "name": "stdout",
     "output_type": "stream",
     "text": [
      "Threshold:  0.28500000000000003\n",
      "AUROC:  0.7037037037037037\n",
      "Sensitivity:  0.2 Specificity:  1.0 Balanced Accuracy Score:  0.6 MCC:  0.4173650061841515 AUC:  0.7037037037037037\n",
      "Sampling:  CondensedNN Scaling:  minmax Classifier:  ADA\n",
      "Fitting 5 folds for each of 144 candidates, totalling 720 fits\n",
      "Tuning Done\n",
      "AdaBoostClassifier(learning_rate=3, n_estimators=20, random_state=42)\n",
      "Training done\n"
     ]
    },
    {
     "name": "stderr",
     "output_type": "stream",
     "text": [
      "/Users/zhounan/miniconda3/envs/MODS/lib/python3.8/site-packages/sklearn/preprocessing/_data.py:479: RuntimeWarning: All-NaN slice encountered\n",
      "  data_min = np.nanmin(X, axis=0)\n",
      "/Users/zhounan/miniconda3/envs/MODS/lib/python3.8/site-packages/sklearn/preprocessing/_data.py:480: RuntimeWarning: All-NaN slice encountered\n",
      "  data_max = np.nanmax(X, axis=0)\n"
     ]
    },
    {
     "name": "stdout",
     "output_type": "stream",
     "text": [
      "Threshold:  0.001\n",
      "AUROC:  0.7555555555555555\n",
      "Sensitivity:  0.2 Specificity:  1.0 Balanced Accuracy Score:  0.6 MCC:  0.4173650061841515 AUC:  0.7555555555555555\n",
      "Sampling:  OSS Scaling:  minmax Classifier:  ADA\n",
      "Fitting 5 folds for each of 144 candidates, totalling 720 fits\n",
      "Tuning Done\n",
      "AdaBoostClassifier(algorithm='SAMME', learning_rate=0.3, random_state=42)\n",
      "Training done\n"
     ]
    },
    {
     "name": "stderr",
     "output_type": "stream",
     "text": [
      "/Users/zhounan/miniconda3/envs/MODS/lib/python3.8/site-packages/sklearn/preprocessing/_data.py:479: RuntimeWarning: All-NaN slice encountered\n",
      "  data_min = np.nanmin(X, axis=0)\n",
      "/Users/zhounan/miniconda3/envs/MODS/lib/python3.8/site-packages/sklearn/preprocessing/_data.py:480: RuntimeWarning: All-NaN slice encountered\n",
      "  data_max = np.nanmax(X, axis=0)\n"
     ]
    },
    {
     "name": "stdout",
     "output_type": "stream",
     "text": [
      "Threshold:  0.28400000000000003\n",
      "AUROC:  0.662962962962963\n",
      "Sensitivity:  0.0 Specificity:  1.0 Balanced Accuracy Score:  0.5 MCC:  0.0 AUC:  0.662962962962963\n",
      "Sampling:  SMOTE Scaling:  minmax Classifier:  ADA\n",
      "Fitting 5 folds for each of 144 candidates, totalling 720 fits\n",
      "Tuning Done\n",
      "AdaBoostClassifier(algorithm='SAMME', learning_rate=0.5, n_estimators=500,\n",
      "                   random_state=42)\n",
      "Training done\n"
     ]
    },
    {
     "name": "stderr",
     "output_type": "stream",
     "text": [
      "/Users/zhounan/miniconda3/envs/MODS/lib/python3.8/site-packages/sklearn/preprocessing/_data.py:479: RuntimeWarning: All-NaN slice encountered\n",
      "  data_min = np.nanmin(X, axis=0)\n",
      "/Users/zhounan/miniconda3/envs/MODS/lib/python3.8/site-packages/sklearn/preprocessing/_data.py:480: RuntimeWarning: All-NaN slice encountered\n",
      "  data_max = np.nanmax(X, axis=0)\n"
     ]
    },
    {
     "name": "stdout",
     "output_type": "stream",
     "text": [
      "Threshold:  0.359\n",
      "AUROC:  0.6444444444444444\n",
      "Sensitivity:  0.0 Specificity:  0.9629629629629629 Balanced Accuracy Score:  0.48148148148148145 MCC:  -0.07728981596002805 AUC:  0.6444444444444444\n",
      "Sampling:  ROS Scaling:  minmax Classifier:  ADA\n",
      "Fitting 5 folds for each of 144 candidates, totalling 720 fits\n",
      "Tuning Done\n",
      "AdaBoostClassifier(algorithm='SAMME', learning_rate=1, n_estimators=500,\n",
      "                   random_state=42)\n",
      "Training done\n"
     ]
    },
    {
     "name": "stderr",
     "output_type": "stream",
     "text": [
      "/Users/zhounan/miniconda3/envs/MODS/lib/python3.8/site-packages/sklearn/preprocessing/_data.py:479: RuntimeWarning: All-NaN slice encountered\n",
      "  data_min = np.nanmin(X, axis=0)\n",
      "/Users/zhounan/miniconda3/envs/MODS/lib/python3.8/site-packages/sklearn/preprocessing/_data.py:480: RuntimeWarning: All-NaN slice encountered\n",
      "  data_max = np.nanmax(X, axis=0)\n"
     ]
    },
    {
     "name": "stdout",
     "output_type": "stream",
     "text": [
      "Threshold:  0.41500000000000004\n",
      "AUROC:  0.6444444444444445\n",
      "Sensitivity:  0.0 Specificity:  0.9629629629629629 Balanced Accuracy Score:  0.48148148148148145 MCC:  -0.07728981596002805 AUC:  0.6444444444444445\n",
      "Sampling:  ADASYN Scaling:  minmax Classifier:  ADA\n",
      "Fitting 5 folds for each of 144 candidates, totalling 720 fits\n",
      "Tuning Done\n",
      "AdaBoostClassifier(learning_rate=1, n_estimators=500, random_state=42)\n",
      "Training done\n"
     ]
    },
    {
     "name": "stderr",
     "output_type": "stream",
     "text": [
      "/Users/zhounan/miniconda3/envs/MODS/lib/python3.8/site-packages/sklearn/preprocessing/_data.py:479: RuntimeWarning: All-NaN slice encountered\n",
      "  data_min = np.nanmin(X, axis=0)\n",
      "/Users/zhounan/miniconda3/envs/MODS/lib/python3.8/site-packages/sklearn/preprocessing/_data.py:480: RuntimeWarning: All-NaN slice encountered\n",
      "  data_max = np.nanmax(X, axis=0)\n"
     ]
    },
    {
     "name": "stdout",
     "output_type": "stream",
     "text": [
      "Threshold:  0.435\n",
      "AUROC:  0.5925925925925926\n",
      "Sensitivity:  0.0 Specificity:  0.9629629629629629 Balanced Accuracy Score:  0.48148148148148145 MCC:  -0.07728981596002805 AUC:  0.5925925925925926\n",
      "Sampling:  KmeansSmote Scaling:  minmax Classifier:  ADA\n",
      "Fitting 5 folds for each of 144 candidates, totalling 720 fits\n",
      "Tuning Done\n",
      "AdaBoostClassifier(algorithm='SAMME', learning_rate=1, random_state=42)\n",
      "Training done\n"
     ]
    },
    {
     "name": "stderr",
     "output_type": "stream",
     "text": [
      "/Users/zhounan/miniconda3/envs/MODS/lib/python3.8/site-packages/sklearn/preprocessing/_data.py:479: RuntimeWarning: All-NaN slice encountered\n",
      "  data_min = np.nanmin(X, axis=0)\n",
      "/Users/zhounan/miniconda3/envs/MODS/lib/python3.8/site-packages/sklearn/preprocessing/_data.py:480: RuntimeWarning: All-NaN slice encountered\n",
      "  data_max = np.nanmax(X, axis=0)\n"
     ]
    },
    {
     "name": "stdout",
     "output_type": "stream",
     "text": [
      "Threshold:  0.367\n",
      "AUROC:  0.6888888888888889\n",
      "Sensitivity:  0.0 Specificity:  0.9629629629629629 Balanced Accuracy Score:  0.48148148148148145 MCC:  -0.07728981596002805 AUC:  0.6888888888888889\n",
      "Sampling:  BorderlineSmote Scaling:  minmax Classifier:  ADA\n",
      "Fitting 5 folds for each of 144 candidates, totalling 720 fits\n",
      "Tuning Done\n",
      "AdaBoostClassifier(learning_rate=0.1, n_estimators=200, random_state=42)\n",
      "Training done\n"
     ]
    },
    {
     "name": "stderr",
     "output_type": "stream",
     "text": [
      "/Users/zhounan/miniconda3/envs/MODS/lib/python3.8/site-packages/sklearn/preprocessing/_data.py:479: RuntimeWarning: All-NaN slice encountered\n",
      "  data_min = np.nanmin(X, axis=0)\n",
      "/Users/zhounan/miniconda3/envs/MODS/lib/python3.8/site-packages/sklearn/preprocessing/_data.py:480: RuntimeWarning: All-NaN slice encountered\n",
      "  data_max = np.nanmax(X, axis=0)\n"
     ]
    },
    {
     "name": "stdout",
     "output_type": "stream",
     "text": [
      "Threshold:  0.189\n",
      "AUROC:  0.6222222222222222\n",
      "Sensitivity:  0.0 Specificity:  0.9629629629629629 Balanced Accuracy Score:  0.48148148148148145 MCC:  -0.07728981596002805 AUC:  0.6222222222222222\n",
      "Sampling:  SVMSmote Scaling:  minmax Classifier:  ADA\n",
      "Fitting 5 folds for each of 144 candidates, totalling 720 fits\n",
      "Tuning Done\n",
      "AdaBoostClassifier(learning_rate=0.5, n_estimators=100, random_state=42)\n",
      "Training done\n"
     ]
    },
    {
     "name": "stderr",
     "output_type": "stream",
     "text": [
      "/Users/zhounan/miniconda3/envs/MODS/lib/python3.8/site-packages/sklearn/preprocessing/_data.py:479: RuntimeWarning: All-NaN slice encountered\n",
      "  data_min = np.nanmin(X, axis=0)\n",
      "/Users/zhounan/miniconda3/envs/MODS/lib/python3.8/site-packages/sklearn/preprocessing/_data.py:480: RuntimeWarning: All-NaN slice encountered\n",
      "  data_max = np.nanmax(X, axis=0)\n"
     ]
    },
    {
     "name": "stdout",
     "output_type": "stream",
     "text": [
      "Threshold:  0.231\n",
      "AUROC:  0.6814814814814815\n",
      "Sensitivity:  0.0 Specificity:  0.9629629629629629 Balanced Accuracy Score:  0.48148148148148145 MCC:  -0.07728981596002805 AUC:  0.6814814814814815\n",
      "Scaling scheme: std\n",
      "Sampling:  RUS Scaling:  std Classifier:  ADA\n",
      "Fitting 5 folds for each of 144 candidates, totalling 720 fits\n",
      "Tuning Done\n",
      "AdaBoostClassifier(algorithm='SAMME', learning_rate=0.1, n_estimators=200,\n",
      "                   random_state=42)\n",
      "Training done\n"
     ]
    },
    {
     "name": "stderr",
     "output_type": "stream",
     "text": [
      "/Users/zhounan/miniconda3/envs/MODS/lib/python3.8/site-packages/sklearn/utils/extmath.py:1051: RuntimeWarning: invalid value encountered in divide\n",
      "  updated_mean = (last_sum + new_sum) / updated_sample_count\n",
      "/Users/zhounan/miniconda3/envs/MODS/lib/python3.8/site-packages/sklearn/utils/extmath.py:1056: RuntimeWarning: invalid value encountered in divide\n",
      "  T = new_sum / new_sample_count\n",
      "/Users/zhounan/miniconda3/envs/MODS/lib/python3.8/site-packages/sklearn/utils/extmath.py:1076: RuntimeWarning: invalid value encountered in divide\n",
      "  new_unnormalized_variance -= correction**2 / new_sample_count\n"
     ]
    },
    {
     "name": "stdout",
     "output_type": "stream",
     "text": [
      "Threshold:  0.369\n",
      "AUROC:  0.574074074074074\n",
      "Sensitivity:  0.0 Specificity:  0.8888888888888888 Balanced Accuracy Score:  0.4444444444444444 MCC:  -0.1384091330895666 AUC:  0.574074074074074\n",
      "Sampling:  REDN Scaling:  std Classifier:  ADA\n",
      "Fitting 5 folds for each of 144 candidates, totalling 720 fits\n",
      "Tuning Done\n",
      "AdaBoostClassifier(algorithm='SAMME', learning_rate=0.1, random_state=42)\n",
      "Training done\n"
     ]
    },
    {
     "name": "stderr",
     "output_type": "stream",
     "text": [
      "/Users/zhounan/miniconda3/envs/MODS/lib/python3.8/site-packages/sklearn/utils/extmath.py:1051: RuntimeWarning: invalid value encountered in divide\n",
      "  updated_mean = (last_sum + new_sum) / updated_sample_count\n",
      "/Users/zhounan/miniconda3/envs/MODS/lib/python3.8/site-packages/sklearn/utils/extmath.py:1056: RuntimeWarning: invalid value encountered in divide\n",
      "  T = new_sum / new_sample_count\n",
      "/Users/zhounan/miniconda3/envs/MODS/lib/python3.8/site-packages/sklearn/utils/extmath.py:1076: RuntimeWarning: invalid value encountered in divide\n",
      "  new_unnormalized_variance -= correction**2 / new_sample_count\n"
     ]
    },
    {
     "name": "stdout",
     "output_type": "stream",
     "text": [
      "Threshold:  0.295\n",
      "AUROC:  0.6444444444444445\n",
      "Sensitivity:  0.2 Specificity:  0.8148148148148148 Balanced Accuracy Score:  0.5074074074074074 MCC:  0.013781637176578718 AUC:  0.6444444444444445\n",
      "Sampling:  CC Scaling:  std Classifier:  ADA\n",
      "Fitting 5 folds for each of 144 candidates, totalling 720 fits\n",
      "Tuning Done\n",
      "AdaBoostClassifier(learning_rate=0.1, n_estimators=5, random_state=42)\n",
      "Training done\n"
     ]
    },
    {
     "name": "stderr",
     "output_type": "stream",
     "text": [
      "/Users/zhounan/miniconda3/envs/MODS/lib/python3.8/site-packages/sklearn/utils/extmath.py:1051: RuntimeWarning: invalid value encountered in divide\n",
      "  updated_mean = (last_sum + new_sum) / updated_sample_count\n",
      "/Users/zhounan/miniconda3/envs/MODS/lib/python3.8/site-packages/sklearn/utils/extmath.py:1056: RuntimeWarning: invalid value encountered in divide\n",
      "  T = new_sum / new_sample_count\n",
      "/Users/zhounan/miniconda3/envs/MODS/lib/python3.8/site-packages/sklearn/utils/extmath.py:1076: RuntimeWarning: invalid value encountered in divide\n",
      "  new_unnormalized_variance -= correction**2 / new_sample_count\n"
     ]
    },
    {
     "name": "stdout",
     "output_type": "stream",
     "text": [
      "Threshold:  0.587\n",
      "AUROC:  0.5074074074074074\n",
      "Sensitivity:  0.2 Specificity:  0.8518518518518519 Balanced Accuracy Score:  0.5259259259259259 MCC:  0.05185185185185185 AUC:  0.5074074074074074\n",
      "Sampling:  IHT Scaling:  std Classifier:  ADA\n",
      "Fitting 5 folds for each of 144 candidates, totalling 720 fits\n",
      "Tuning Done\n",
      "AdaBoostClassifier(algorithm='SAMME', learning_rate=0.1, n_estimators=5,\n",
      "                   random_state=42)\n",
      "Training done\n"
     ]
    },
    {
     "name": "stderr",
     "output_type": "stream",
     "text": [
      "/Users/zhounan/miniconda3/envs/MODS/lib/python3.8/site-packages/sklearn/utils/extmath.py:1051: RuntimeWarning: invalid value encountered in divide\n",
      "  updated_mean = (last_sum + new_sum) / updated_sample_count\n",
      "/Users/zhounan/miniconda3/envs/MODS/lib/python3.8/site-packages/sklearn/utils/extmath.py:1056: RuntimeWarning: invalid value encountered in divide\n",
      "  T = new_sum / new_sample_count\n",
      "/Users/zhounan/miniconda3/envs/MODS/lib/python3.8/site-packages/sklearn/utils/extmath.py:1076: RuntimeWarning: invalid value encountered in divide\n",
      "  new_unnormalized_variance -= correction**2 / new_sample_count\n"
     ]
    },
    {
     "name": "stdout",
     "output_type": "stream",
     "text": [
      "Threshold:  0.269\n",
      "AUROC:  0.6333333333333334\n",
      "Sensitivity:  0.6 Specificity:  0.6666666666666666 Balanced Accuracy Score:  0.6333333333333333 MCC:  0.2 AUC:  0.6333333333333334\n",
      "Sampling:  NearMiss Scaling:  std Classifier:  ADA\n",
      "Fitting 5 folds for each of 144 candidates, totalling 720 fits\n",
      "Tuning Done\n",
      "AdaBoostClassifier(algorithm='SAMME', learning_rate=0.3, n_estimators=10,\n",
      "                   random_state=42)\n",
      "Training done\n"
     ]
    },
    {
     "name": "stderr",
     "output_type": "stream",
     "text": [
      "/Users/zhounan/miniconda3/envs/MODS/lib/python3.8/site-packages/sklearn/utils/extmath.py:1051: RuntimeWarning: invalid value encountered in divide\n",
      "  updated_mean = (last_sum + new_sum) / updated_sample_count\n",
      "/Users/zhounan/miniconda3/envs/MODS/lib/python3.8/site-packages/sklearn/utils/extmath.py:1056: RuntimeWarning: invalid value encountered in divide\n",
      "  T = new_sum / new_sample_count\n",
      "/Users/zhounan/miniconda3/envs/MODS/lib/python3.8/site-packages/sklearn/utils/extmath.py:1076: RuntimeWarning: invalid value encountered in divide\n",
      "  new_unnormalized_variance -= correction**2 / new_sample_count\n"
     ]
    },
    {
     "name": "stdout",
     "output_type": "stream",
     "text": [
      "Threshold:  0.269\n",
      "AUROC:  0.5259259259259259\n",
      "Sensitivity:  0.0 Specificity:  0.8518518518518519 Balanced Accuracy Score:  0.42592592592592593 MCC:  -0.16265001215808886 AUC:  0.5259259259259259\n",
      "Sampling:  EDN Scaling:  std Classifier:  ADA\n",
      "Fitting 5 folds for each of 144 candidates, totalling 720 fits\n",
      "Tuning Done\n",
      "AdaBoostClassifier(algorithm='SAMME', learning_rate=0.5, n_estimators=500,\n",
      "                   random_state=42)\n",
      "Training done\n"
     ]
    },
    {
     "name": "stderr",
     "output_type": "stream",
     "text": [
      "/Users/zhounan/miniconda3/envs/MODS/lib/python3.8/site-packages/sklearn/utils/extmath.py:1051: RuntimeWarning: invalid value encountered in divide\n",
      "  updated_mean = (last_sum + new_sum) / updated_sample_count\n",
      "/Users/zhounan/miniconda3/envs/MODS/lib/python3.8/site-packages/sklearn/utils/extmath.py:1056: RuntimeWarning: invalid value encountered in divide\n",
      "  T = new_sum / new_sample_count\n",
      "/Users/zhounan/miniconda3/envs/MODS/lib/python3.8/site-packages/sklearn/utils/extmath.py:1076: RuntimeWarning: invalid value encountered in divide\n",
      "  new_unnormalized_variance -= correction**2 / new_sample_count\n"
     ]
    },
    {
     "name": "stdout",
     "output_type": "stream",
     "text": [
      "Threshold:  0.424\n",
      "AUROC:  0.6814814814814816\n",
      "Sensitivity:  0.2 Specificity:  0.8518518518518519 Balanced Accuracy Score:  0.5259259259259259 MCC:  0.05185185185185185 AUC:  0.6814814814814816\n",
      "Sampling:  Tomek Scaling:  std Classifier:  ADA\n",
      "Fitting 5 folds for each of 144 candidates, totalling 720 fits\n",
      "Tuning Done\n",
      "AdaBoostClassifier(algorithm='SAMME', learning_rate=1, n_estimators=5,\n",
      "                   random_state=42)\n",
      "Training done\n"
     ]
    },
    {
     "name": "stderr",
     "output_type": "stream",
     "text": [
      "/Users/zhounan/miniconda3/envs/MODS/lib/python3.8/site-packages/sklearn/utils/extmath.py:1051: RuntimeWarning: invalid value encountered in divide\n",
      "  updated_mean = (last_sum + new_sum) / updated_sample_count\n",
      "/Users/zhounan/miniconda3/envs/MODS/lib/python3.8/site-packages/sklearn/utils/extmath.py:1056: RuntimeWarning: invalid value encountered in divide\n",
      "  T = new_sum / new_sample_count\n",
      "/Users/zhounan/miniconda3/envs/MODS/lib/python3.8/site-packages/sklearn/utils/extmath.py:1076: RuntimeWarning: invalid value encountered in divide\n",
      "  new_unnormalized_variance -= correction**2 / new_sample_count\n"
     ]
    },
    {
     "name": "stdout",
     "output_type": "stream",
     "text": [
      "Threshold:  0.34900000000000003\n",
      "AUROC:  0.6148148148148149\n",
      "Sensitivity:  0.2 Specificity:  0.9629629629629629 Balanced Accuracy Score:  0.5814814814814815 MCC:  0.24444444444444444 AUC:  0.6148148148148149\n",
      "Sampling:  Allknn Scaling:  std Classifier:  ADA\n",
      "Fitting 5 folds for each of 144 candidates, totalling 720 fits\n",
      "Tuning Done\n",
      "AdaBoostClassifier(algorithm='SAMME', learning_rate=0.1, n_estimators=500,\n",
      "                   random_state=42)\n",
      "Training done\n"
     ]
    },
    {
     "name": "stderr",
     "output_type": "stream",
     "text": [
      "/Users/zhounan/miniconda3/envs/MODS/lib/python3.8/site-packages/sklearn/utils/extmath.py:1051: RuntimeWarning: invalid value encountered in divide\n",
      "  updated_mean = (last_sum + new_sum) / updated_sample_count\n",
      "/Users/zhounan/miniconda3/envs/MODS/lib/python3.8/site-packages/sklearn/utils/extmath.py:1056: RuntimeWarning: invalid value encountered in divide\n",
      "  T = new_sum / new_sample_count\n",
      "/Users/zhounan/miniconda3/envs/MODS/lib/python3.8/site-packages/sklearn/utils/extmath.py:1076: RuntimeWarning: invalid value encountered in divide\n",
      "  new_unnormalized_variance -= correction**2 / new_sample_count\n"
     ]
    },
    {
     "name": "stdout",
     "output_type": "stream",
     "text": [
      "Threshold:  0.382\n",
      "AUROC:  0.7555555555555555\n",
      "Sensitivity:  0.4 Specificity:  0.8148148148148148 Balanced Accuracy Score:  0.6074074074074074 MCC:  0.18867401410338308 AUC:  0.7555555555555555\n",
      "Sampling:  CondensedNN Scaling:  std Classifier:  ADA\n",
      "Fitting 5 folds for each of 144 candidates, totalling 720 fits\n",
      "Tuning Done\n",
      "AdaBoostClassifier(learning_rate=1, n_estimators=5, random_state=42)\n",
      "Training done\n"
     ]
    },
    {
     "name": "stderr",
     "output_type": "stream",
     "text": [
      "/Users/zhounan/miniconda3/envs/MODS/lib/python3.8/site-packages/sklearn/utils/extmath.py:1051: RuntimeWarning: invalid value encountered in divide\n",
      "  updated_mean = (last_sum + new_sum) / updated_sample_count\n",
      "/Users/zhounan/miniconda3/envs/MODS/lib/python3.8/site-packages/sklearn/utils/extmath.py:1056: RuntimeWarning: invalid value encountered in divide\n",
      "  T = new_sum / new_sample_count\n",
      "/Users/zhounan/miniconda3/envs/MODS/lib/python3.8/site-packages/sklearn/utils/extmath.py:1076: RuntimeWarning: invalid value encountered in divide\n",
      "  new_unnormalized_variance -= correction**2 / new_sample_count\n"
     ]
    },
    {
     "name": "stdout",
     "output_type": "stream",
     "text": [
      "Threshold:  0.294\n",
      "AUROC:  0.5370370370370371\n",
      "Sensitivity:  0.0 Specificity:  0.9259259259259259 Balanced Accuracy Score:  0.46296296296296297 MCC:  -0.1111111111111111 AUC:  0.5370370370370371\n",
      "Sampling:  OSS Scaling:  std Classifier:  ADA\n",
      "Fitting 5 folds for each of 144 candidates, totalling 720 fits\n",
      "Tuning Done\n",
      "AdaBoostClassifier(algorithm='SAMME', learning_rate=0.3, random_state=42)\n",
      "Training done\n"
     ]
    },
    {
     "name": "stderr",
     "output_type": "stream",
     "text": [
      "/Users/zhounan/miniconda3/envs/MODS/lib/python3.8/site-packages/sklearn/utils/extmath.py:1051: RuntimeWarning: invalid value encountered in divide\n",
      "  updated_mean = (last_sum + new_sum) / updated_sample_count\n",
      "/Users/zhounan/miniconda3/envs/MODS/lib/python3.8/site-packages/sklearn/utils/extmath.py:1056: RuntimeWarning: invalid value encountered in divide\n",
      "  T = new_sum / new_sample_count\n",
      "/Users/zhounan/miniconda3/envs/MODS/lib/python3.8/site-packages/sklearn/utils/extmath.py:1076: RuntimeWarning: invalid value encountered in divide\n",
      "  new_unnormalized_variance -= correction**2 / new_sample_count\n"
     ]
    },
    {
     "name": "stdout",
     "output_type": "stream",
     "text": [
      "Threshold:  0.358\n",
      "AUROC:  0.6333333333333333\n",
      "Sensitivity:  0.0 Specificity:  0.9629629629629629 Balanced Accuracy Score:  0.48148148148148145 MCC:  -0.07728981596002805 AUC:  0.6333333333333333\n",
      "Sampling:  SMOTE Scaling:  std Classifier:  ADA\n",
      "Fitting 5 folds for each of 144 candidates, totalling 720 fits\n",
      "Tuning Done\n",
      "AdaBoostClassifier(learning_rate=1, random_state=42)\n",
      "Training done\n"
     ]
    },
    {
     "name": "stderr",
     "output_type": "stream",
     "text": [
      "/Users/zhounan/miniconda3/envs/MODS/lib/python3.8/site-packages/sklearn/utils/extmath.py:1051: RuntimeWarning: invalid value encountered in divide\n",
      "  updated_mean = (last_sum + new_sum) / updated_sample_count\n",
      "/Users/zhounan/miniconda3/envs/MODS/lib/python3.8/site-packages/sklearn/utils/extmath.py:1056: RuntimeWarning: invalid value encountered in divide\n",
      "  T = new_sum / new_sample_count\n",
      "/Users/zhounan/miniconda3/envs/MODS/lib/python3.8/site-packages/sklearn/utils/extmath.py:1076: RuntimeWarning: invalid value encountered in divide\n",
      "  new_unnormalized_variance -= correction**2 / new_sample_count\n"
     ]
    },
    {
     "name": "stdout",
     "output_type": "stream",
     "text": [
      "Threshold:  0.182\n",
      "AUROC:  0.5851851851851853\n",
      "Sensitivity:  0.0 Specificity:  0.8888888888888888 Balanced Accuracy Score:  0.4444444444444444 MCC:  -0.1384091330895666 AUC:  0.5851851851851853\n",
      "Sampling:  ROS Scaling:  std Classifier:  ADA\n",
      "Fitting 5 folds for each of 144 candidates, totalling 720 fits\n",
      "Tuning Done\n",
      "AdaBoostClassifier(algorithm='SAMME', learning_rate=1, n_estimators=500,\n",
      "                   random_state=42)\n",
      "Training done\n"
     ]
    },
    {
     "name": "stderr",
     "output_type": "stream",
     "text": [
      "/Users/zhounan/miniconda3/envs/MODS/lib/python3.8/site-packages/sklearn/utils/extmath.py:1051: RuntimeWarning: invalid value encountered in divide\n",
      "  updated_mean = (last_sum + new_sum) / updated_sample_count\n",
      "/Users/zhounan/miniconda3/envs/MODS/lib/python3.8/site-packages/sklearn/utils/extmath.py:1056: RuntimeWarning: invalid value encountered in divide\n",
      "  T = new_sum / new_sample_count\n",
      "/Users/zhounan/miniconda3/envs/MODS/lib/python3.8/site-packages/sklearn/utils/extmath.py:1076: RuntimeWarning: invalid value encountered in divide\n",
      "  new_unnormalized_variance -= correction**2 / new_sample_count\n"
     ]
    },
    {
     "name": "stdout",
     "output_type": "stream",
     "text": [
      "Threshold:  0.439\n",
      "AUROC:  0.6518518518518519\n",
      "Sensitivity:  0.0 Specificity:  0.9259259259259259 Balanced Accuracy Score:  0.46296296296296297 MCC:  -0.1111111111111111 AUC:  0.6518518518518519\n",
      "Sampling:  ADASYN Scaling:  std Classifier:  ADA\n",
      "Fitting 5 folds for each of 144 candidates, totalling 720 fits\n",
      "Tuning Done\n",
      "AdaBoostClassifier(algorithm='SAMME', learning_rate=1, n_estimators=500,\n",
      "                   random_state=42)\n",
      "Training done\n"
     ]
    },
    {
     "name": "stderr",
     "output_type": "stream",
     "text": [
      "/Users/zhounan/miniconda3/envs/MODS/lib/python3.8/site-packages/sklearn/utils/extmath.py:1051: RuntimeWarning: invalid value encountered in divide\n",
      "  updated_mean = (last_sum + new_sum) / updated_sample_count\n",
      "/Users/zhounan/miniconda3/envs/MODS/lib/python3.8/site-packages/sklearn/utils/extmath.py:1056: RuntimeWarning: invalid value encountered in divide\n",
      "  T = new_sum / new_sample_count\n",
      "/Users/zhounan/miniconda3/envs/MODS/lib/python3.8/site-packages/sklearn/utils/extmath.py:1076: RuntimeWarning: invalid value encountered in divide\n",
      "  new_unnormalized_variance -= correction**2 / new_sample_count\n"
     ]
    },
    {
     "name": "stdout",
     "output_type": "stream",
     "text": [
      "Threshold:  0.447\n",
      "AUROC:  0.6000000000000001\n",
      "Sensitivity:  0.0 Specificity:  0.9259259259259259 Balanced Accuracy Score:  0.46296296296296297 MCC:  -0.1111111111111111 AUC:  0.6000000000000001\n",
      "Sampling:  KmeansSmote Scaling:  std Classifier:  ADA\n",
      "Fitting 5 folds for each of 144 candidates, totalling 720 fits\n",
      "Tuning Done\n",
      "AdaBoostClassifier(learning_rate=0.1, n_estimators=20, random_state=42)\n",
      "Training done\n"
     ]
    },
    {
     "name": "stderr",
     "output_type": "stream",
     "text": [
      "/Users/zhounan/miniconda3/envs/MODS/lib/python3.8/site-packages/sklearn/utils/extmath.py:1051: RuntimeWarning: invalid value encountered in divide\n",
      "  updated_mean = (last_sum + new_sum) / updated_sample_count\n",
      "/Users/zhounan/miniconda3/envs/MODS/lib/python3.8/site-packages/sklearn/utils/extmath.py:1056: RuntimeWarning: invalid value encountered in divide\n",
      "  T = new_sum / new_sample_count\n",
      "/Users/zhounan/miniconda3/envs/MODS/lib/python3.8/site-packages/sklearn/utils/extmath.py:1076: RuntimeWarning: invalid value encountered in divide\n",
      "  new_unnormalized_variance -= correction**2 / new_sample_count\n"
     ]
    },
    {
     "name": "stdout",
     "output_type": "stream",
     "text": [
      "Threshold:  0.137\n",
      "AUROC:  0.6074074074074074\n",
      "Sensitivity:  0.0 Specificity:  0.9629629629629629 Balanced Accuracy Score:  0.48148148148148145 MCC:  -0.07728981596002805 AUC:  0.6074074074074074\n",
      "Sampling:  BorderlineSmote Scaling:  std Classifier:  ADA\n",
      "Fitting 5 folds for each of 144 candidates, totalling 720 fits\n",
      "Tuning Done\n",
      "AdaBoostClassifier(algorithm='SAMME', learning_rate=0.3, n_estimators=500,\n",
      "                   random_state=42)\n",
      "Training done\n"
     ]
    },
    {
     "name": "stderr",
     "output_type": "stream",
     "text": [
      "/Users/zhounan/miniconda3/envs/MODS/lib/python3.8/site-packages/sklearn/utils/extmath.py:1051: RuntimeWarning: invalid value encountered in divide\n",
      "  updated_mean = (last_sum + new_sum) / updated_sample_count\n",
      "/Users/zhounan/miniconda3/envs/MODS/lib/python3.8/site-packages/sklearn/utils/extmath.py:1056: RuntimeWarning: invalid value encountered in divide\n",
      "  T = new_sum / new_sample_count\n",
      "/Users/zhounan/miniconda3/envs/MODS/lib/python3.8/site-packages/sklearn/utils/extmath.py:1076: RuntimeWarning: invalid value encountered in divide\n",
      "  new_unnormalized_variance -= correction**2 / new_sample_count\n"
     ]
    },
    {
     "name": "stdout",
     "output_type": "stream",
     "text": [
      "Threshold:  0.424\n",
      "AUROC:  0.6814814814814816\n",
      "Sensitivity:  0.0 Specificity:  0.9259259259259259 Balanced Accuracy Score:  0.46296296296296297 MCC:  -0.1111111111111111 AUC:  0.6814814814814816\n",
      "Sampling:  SVMSmote Scaling:  std Classifier:  ADA\n",
      "Fitting 5 folds for each of 144 candidates, totalling 720 fits\n",
      "Tuning Done\n",
      "AdaBoostClassifier(learning_rate=1, n_estimators=30, random_state=42)\n",
      "Training done\n"
     ]
    },
    {
     "name": "stderr",
     "output_type": "stream",
     "text": [
      "/Users/zhounan/miniconda3/envs/MODS/lib/python3.8/site-packages/sklearn/utils/extmath.py:1051: RuntimeWarning: invalid value encountered in divide\n",
      "  updated_mean = (last_sum + new_sum) / updated_sample_count\n",
      "/Users/zhounan/miniconda3/envs/MODS/lib/python3.8/site-packages/sklearn/utils/extmath.py:1056: RuntimeWarning: invalid value encountered in divide\n",
      "  T = new_sum / new_sample_count\n",
      "/Users/zhounan/miniconda3/envs/MODS/lib/python3.8/site-packages/sklearn/utils/extmath.py:1076: RuntimeWarning: invalid value encountered in divide\n",
      "  new_unnormalized_variance -= correction**2 / new_sample_count\n"
     ]
    },
    {
     "name": "stdout",
     "output_type": "stream",
     "text": [
      "Threshold:  0.422\n",
      "AUROC:  0.6148148148148148\n",
      "Sensitivity:  0.0 Specificity:  0.9629629629629629 Balanced Accuracy Score:  0.48148148148148145 MCC:  -0.07728981596002805 AUC:  0.6148148148148148\n",
      "Scaling scheme: robust\n",
      "Sampling:  RUS Scaling:  robust Classifier:  ADA\n",
      "Fitting 5 folds for each of 144 candidates, totalling 720 fits\n",
      "Tuning Done\n",
      "AdaBoostClassifier(algorithm='SAMME', learning_rate=0.1, n_estimators=200,\n",
      "                   random_state=42)\n",
      "Training done\n"
     ]
    },
    {
     "name": "stderr",
     "output_type": "stream",
     "text": [
      "/Users/zhounan/miniconda3/envs/MODS/lib/python3.8/site-packages/numpy/lib/nanfunctions.py:1217: RuntimeWarning: All-NaN slice encountered\n",
      "  return function_base._ureduce(a, func=_nanmedian, keepdims=keepdims,\n",
      "/Users/zhounan/miniconda3/envs/MODS/lib/python3.8/site-packages/numpy/lib/nanfunctions.py:1556: RuntimeWarning: All-NaN slice encountered\n",
      "  return function_base._ureduce(a,\n"
     ]
    },
    {
     "name": "stdout",
     "output_type": "stream",
     "text": [
      "Threshold:  0.389\n",
      "AUROC:  0.562962962962963\n",
      "Sensitivity:  0.2 Specificity:  0.6666666666666666 Balanced Accuracy Score:  0.43333333333333335 MCC:  -0.1044465935734187 AUC:  0.562962962962963\n",
      "Sampling:  REDN Scaling:  robust Classifier:  ADA\n",
      "Fitting 5 folds for each of 144 candidates, totalling 720 fits\n",
      "Tuning Done\n",
      "AdaBoostClassifier(algorithm='SAMME', learning_rate=0.1, n_estimators=100,\n",
      "                   random_state=42)\n",
      "Training done\n"
     ]
    },
    {
     "name": "stderr",
     "output_type": "stream",
     "text": [
      "/Users/zhounan/miniconda3/envs/MODS/lib/python3.8/site-packages/numpy/lib/nanfunctions.py:1217: RuntimeWarning: All-NaN slice encountered\n",
      "  return function_base._ureduce(a, func=_nanmedian, keepdims=keepdims,\n",
      "/Users/zhounan/miniconda3/envs/MODS/lib/python3.8/site-packages/numpy/lib/nanfunctions.py:1556: RuntimeWarning: All-NaN slice encountered\n",
      "  return function_base._ureduce(a,\n"
     ]
    },
    {
     "name": "stdout",
     "output_type": "stream",
     "text": [
      "Threshold:  0.497\n",
      "AUROC:  0.6518518518518519\n",
      "Sensitivity:  0.8 Specificity:  0.6666666666666666 Balanced Accuracy Score:  0.7333333333333334 MCC:  0.34500484066310094 AUC:  0.6518518518518519\n",
      "Sampling:  CC Scaling:  robust Classifier:  ADA\n",
      "Fitting 5 folds for each of 144 candidates, totalling 720 fits\n",
      "Tuning Done\n",
      "AdaBoostClassifier(algorithm='SAMME', learning_rate=0.5, n_estimators=10,\n",
      "                   random_state=42)\n",
      "Training done\n"
     ]
    },
    {
     "name": "stderr",
     "output_type": "stream",
     "text": [
      "/Users/zhounan/miniconda3/envs/MODS/lib/python3.8/site-packages/numpy/lib/nanfunctions.py:1217: RuntimeWarning: All-NaN slice encountered\n",
      "  return function_base._ureduce(a, func=_nanmedian, keepdims=keepdims,\n",
      "/Users/zhounan/miniconda3/envs/MODS/lib/python3.8/site-packages/numpy/lib/nanfunctions.py:1556: RuntimeWarning: All-NaN slice encountered\n",
      "  return function_base._ureduce(a,\n"
     ]
    },
    {
     "name": "stdout",
     "output_type": "stream",
     "text": [
      "Threshold:  0.41300000000000003\n",
      "AUROC:  0.6296296296296297\n",
      "Sensitivity:  0.6 Specificity:  0.7037037037037037 Balanced Accuracy Score:  0.6518518518518519 MCC:  0.2321726094326961 AUC:  0.6296296296296297\n",
      "Sampling:  IHT Scaling:  robust Classifier:  ADA\n",
      "Fitting 5 folds for each of 144 candidates, totalling 720 fits\n",
      "Tuning Done\n",
      "AdaBoostClassifier(algorithm='SAMME', learning_rate=0.1, n_estimators=5,\n",
      "                   random_state=42)\n",
      "Training done\n"
     ]
    },
    {
     "name": "stderr",
     "output_type": "stream",
     "text": [
      "/Users/zhounan/miniconda3/envs/MODS/lib/python3.8/site-packages/numpy/lib/nanfunctions.py:1217: RuntimeWarning: All-NaN slice encountered\n",
      "  return function_base._ureduce(a, func=_nanmedian, keepdims=keepdims,\n",
      "/Users/zhounan/miniconda3/envs/MODS/lib/python3.8/site-packages/numpy/lib/nanfunctions.py:1556: RuntimeWarning: All-NaN slice encountered\n",
      "  return function_base._ureduce(a,\n"
     ]
    },
    {
     "name": "stdout",
     "output_type": "stream",
     "text": [
      "Threshold:  0.269\n",
      "AUROC:  0.7407407407407407\n",
      "Sensitivity:  1.0 Specificity:  0.48148148148148145 Balanced Accuracy Score:  0.7407407407407407 MCC:  0.35595737528732635 AUC:  0.7407407407407407\n",
      "Sampling:  NearMiss Scaling:  robust Classifier:  ADA\n",
      "Fitting 5 folds for each of 144 candidates, totalling 720 fits\n",
      "Tuning Done\n",
      "AdaBoostClassifier(learning_rate=0.1, n_estimators=10, random_state=42)\n",
      "Training done\n"
     ]
    },
    {
     "name": "stderr",
     "output_type": "stream",
     "text": [
      "/Users/zhounan/miniconda3/envs/MODS/lib/python3.8/site-packages/numpy/lib/nanfunctions.py:1217: RuntimeWarning: All-NaN slice encountered\n",
      "  return function_base._ureduce(a, func=_nanmedian, keepdims=keepdims,\n",
      "/Users/zhounan/miniconda3/envs/MODS/lib/python3.8/site-packages/numpy/lib/nanfunctions.py:1556: RuntimeWarning: All-NaN slice encountered\n",
      "  return function_base._ureduce(a,\n"
     ]
    },
    {
     "name": "stdout",
     "output_type": "stream",
     "text": [
      "Threshold:  0.259\n",
      "AUROC:  0.5592592592592592\n",
      "Sensitivity:  0.2 Specificity:  0.8148148148148148 Balanced Accuracy Score:  0.5074074074074074 MCC:  0.013781637176578718 AUC:  0.5592592592592592\n",
      "Sampling:  EDN Scaling:  robust Classifier:  ADA\n",
      "Fitting 5 folds for each of 144 candidates, totalling 720 fits\n",
      "Tuning Done\n",
      "AdaBoostClassifier(algorithm='SAMME', learning_rate=1, n_estimators=21,\n",
      "                   random_state=42)\n",
      "Training done\n"
     ]
    },
    {
     "name": "stderr",
     "output_type": "stream",
     "text": [
      "/Users/zhounan/miniconda3/envs/MODS/lib/python3.8/site-packages/numpy/lib/nanfunctions.py:1217: RuntimeWarning: All-NaN slice encountered\n",
      "  return function_base._ureduce(a, func=_nanmedian, keepdims=keepdims,\n",
      "/Users/zhounan/miniconda3/envs/MODS/lib/python3.8/site-packages/numpy/lib/nanfunctions.py:1556: RuntimeWarning: All-NaN slice encountered\n",
      "  return function_base._ureduce(a,\n"
     ]
    },
    {
     "name": "stdout",
     "output_type": "stream",
     "text": [
      "Threshold:  0.422\n",
      "AUROC:  0.6074074074074074\n",
      "Sensitivity:  0.4 Specificity:  0.7037037037037037 Balanced Accuracy Score:  0.5518518518518518 MCC:  0.08123623944599233 AUC:  0.6074074074074074\n",
      "Sampling:  Tomek Scaling:  robust Classifier:  ADA\n",
      "Fitting 5 folds for each of 144 candidates, totalling 720 fits\n",
      "Tuning Done\n",
      "AdaBoostClassifier(algorithm='SAMME', learning_rate=1, n_estimators=21,\n",
      "                   random_state=42)\n",
      "Training done\n"
     ]
    },
    {
     "name": "stderr",
     "output_type": "stream",
     "text": [
      "/Users/zhounan/miniconda3/envs/MODS/lib/python3.8/site-packages/numpy/lib/nanfunctions.py:1217: RuntimeWarning: All-NaN slice encountered\n",
      "  return function_base._ureduce(a, func=_nanmedian, keepdims=keepdims,\n",
      "/Users/zhounan/miniconda3/envs/MODS/lib/python3.8/site-packages/numpy/lib/nanfunctions.py:1556: RuntimeWarning: All-NaN slice encountered\n",
      "  return function_base._ureduce(a,\n"
     ]
    },
    {
     "name": "stdout",
     "output_type": "stream",
     "text": [
      "Threshold:  0.387\n",
      "AUROC:  0.6259259259259259\n",
      "Sensitivity:  0.2 Specificity:  0.8148148148148148 Balanced Accuracy Score:  0.5074074074074074 MCC:  0.013781637176578718 AUC:  0.6259259259259259\n",
      "Sampling:  Allknn Scaling:  robust Classifier:  ADA\n",
      "Fitting 5 folds for each of 144 candidates, totalling 720 fits\n",
      "Tuning Done\n",
      "AdaBoostClassifier(algorithm='SAMME', learning_rate=0.3, n_estimators=500,\n",
      "                   random_state=42)\n",
      "Training done\n"
     ]
    },
    {
     "name": "stderr",
     "output_type": "stream",
     "text": [
      "/Users/zhounan/miniconda3/envs/MODS/lib/python3.8/site-packages/numpy/lib/nanfunctions.py:1217: RuntimeWarning: All-NaN slice encountered\n",
      "  return function_base._ureduce(a, func=_nanmedian, keepdims=keepdims,\n",
      "/Users/zhounan/miniconda3/envs/MODS/lib/python3.8/site-packages/numpy/lib/nanfunctions.py:1556: RuntimeWarning: All-NaN slice encountered\n",
      "  return function_base._ureduce(a,\n"
     ]
    },
    {
     "name": "stdout",
     "output_type": "stream",
     "text": [
      "Threshold:  0.423\n",
      "AUROC:  0.6074074074074075\n",
      "Sensitivity:  0.4 Specificity:  0.6296296296296297 Balanced Accuracy Score:  0.5148148148148148 MCC:  0.022222222222222223 AUC:  0.6074074074074075\n",
      "Sampling:  CondensedNN Scaling:  robust Classifier:  ADA\n",
      "Fitting 5 folds for each of 144 candidates, totalling 720 fits\n",
      "Tuning Done\n",
      "AdaBoostClassifier(learning_rate=1, n_estimators=30, random_state=42)\n",
      "Training done\n"
     ]
    },
    {
     "name": "stderr",
     "output_type": "stream",
     "text": [
      "/Users/zhounan/miniconda3/envs/MODS/lib/python3.8/site-packages/numpy/lib/nanfunctions.py:1217: RuntimeWarning: All-NaN slice encountered\n",
      "  return function_base._ureduce(a, func=_nanmedian, keepdims=keepdims,\n",
      "/Users/zhounan/miniconda3/envs/MODS/lib/python3.8/site-packages/numpy/lib/nanfunctions.py:1556: RuntimeWarning: All-NaN slice encountered\n",
      "  return function_base._ureduce(a,\n"
     ]
    },
    {
     "name": "stdout",
     "output_type": "stream",
     "text": [
      "Threshold:  0.337\n",
      "AUROC:  0.8\n",
      "Sensitivity:  0.8 Specificity:  0.7777777777777778 Balanced Accuracy Score:  0.788888888888889 MCC:  0.4526019054848144 AUC:  0.8\n",
      "Sampling:  OSS Scaling:  robust Classifier:  ADA\n",
      "Fitting 5 folds for each of 144 candidates, totalling 720 fits\n",
      "Tuning Done\n",
      "AdaBoostClassifier(algorithm='SAMME', learning_rate=1, n_estimators=21,\n",
      "                   random_state=42)\n",
      "Training done\n"
     ]
    },
    {
     "name": "stderr",
     "output_type": "stream",
     "text": [
      "/Users/zhounan/miniconda3/envs/MODS/lib/python3.8/site-packages/numpy/lib/nanfunctions.py:1217: RuntimeWarning: All-NaN slice encountered\n",
      "  return function_base._ureduce(a, func=_nanmedian, keepdims=keepdims,\n",
      "/Users/zhounan/miniconda3/envs/MODS/lib/python3.8/site-packages/numpy/lib/nanfunctions.py:1556: RuntimeWarning: All-NaN slice encountered\n",
      "  return function_base._ureduce(a,\n"
     ]
    },
    {
     "name": "stdout",
     "output_type": "stream",
     "text": [
      "Threshold:  0.4\n",
      "AUROC:  0.662962962962963\n",
      "Sensitivity:  0.0 Specificity:  0.9259259259259259 Balanced Accuracy Score:  0.46296296296296297 MCC:  -0.1111111111111111 AUC:  0.662962962962963\n",
      "Sampling:  SMOTE Scaling:  robust Classifier:  ADA\n",
      "Fitting 5 folds for each of 144 candidates, totalling 720 fits\n",
      "Tuning Done\n",
      "AdaBoostClassifier(learning_rate=0.3, n_estimators=100, random_state=42)\n",
      "Training done\n"
     ]
    },
    {
     "name": "stderr",
     "output_type": "stream",
     "text": [
      "/Users/zhounan/miniconda3/envs/MODS/lib/python3.8/site-packages/numpy/lib/nanfunctions.py:1217: RuntimeWarning: All-NaN slice encountered\n",
      "  return function_base._ureduce(a, func=_nanmedian, keepdims=keepdims,\n",
      "/Users/zhounan/miniconda3/envs/MODS/lib/python3.8/site-packages/numpy/lib/nanfunctions.py:1556: RuntimeWarning: All-NaN slice encountered\n",
      "  return function_base._ureduce(a,\n"
     ]
    },
    {
     "name": "stdout",
     "output_type": "stream",
     "text": [
      "Threshold:  0.342\n",
      "AUROC:  0.725925925925926\n",
      "Sensitivity:  0.2 Specificity:  0.7777777777777778 Balanced Accuracy Score:  0.48888888888888893 MCC:  -0.019518001458970664 AUC:  0.725925925925926\n",
      "Sampling:  ROS Scaling:  robust Classifier:  ADA\n",
      "Fitting 5 folds for each of 144 candidates, totalling 720 fits\n",
      "Tuning Done\n",
      "AdaBoostClassifier(algorithm='SAMME', learning_rate=1, n_estimators=500,\n",
      "                   random_state=42)\n",
      "Training done\n"
     ]
    },
    {
     "name": "stderr",
     "output_type": "stream",
     "text": [
      "/Users/zhounan/miniconda3/envs/MODS/lib/python3.8/site-packages/numpy/lib/nanfunctions.py:1217: RuntimeWarning: All-NaN slice encountered\n",
      "  return function_base._ureduce(a, func=_nanmedian, keepdims=keepdims,\n",
      "/Users/zhounan/miniconda3/envs/MODS/lib/python3.8/site-packages/numpy/lib/nanfunctions.py:1556: RuntimeWarning: All-NaN slice encountered\n",
      "  return function_base._ureduce(a,\n"
     ]
    },
    {
     "name": "stdout",
     "output_type": "stream",
     "text": [
      "Threshold:  0.448\n",
      "AUROC:  0.6888888888888889\n",
      "Sensitivity:  0.4 Specificity:  0.7407407407407407 Balanced Accuracy Score:  0.5703703703703704 MCC:  0.11365840154561273 AUC:  0.6888888888888889\n",
      "Sampling:  ADASYN Scaling:  robust Classifier:  ADA\n",
      "Fitting 5 folds for each of 144 candidates, totalling 720 fits\n",
      "Tuning Done\n",
      "AdaBoostClassifier(algorithm='SAMME', learning_rate=0.5, n_estimators=21,\n",
      "                   random_state=42)\n",
      "Training done\n"
     ]
    },
    {
     "name": "stderr",
     "output_type": "stream",
     "text": [
      "/Users/zhounan/miniconda3/envs/MODS/lib/python3.8/site-packages/numpy/lib/nanfunctions.py:1217: RuntimeWarning: All-NaN slice encountered\n",
      "  return function_base._ureduce(a, func=_nanmedian, keepdims=keepdims,\n",
      "/Users/zhounan/miniconda3/envs/MODS/lib/python3.8/site-packages/numpy/lib/nanfunctions.py:1556: RuntimeWarning: All-NaN slice encountered\n",
      "  return function_base._ureduce(a,\n"
     ]
    },
    {
     "name": "stdout",
     "output_type": "stream",
     "text": [
      "Threshold:  0.403\n",
      "AUROC:  0.6074074074074074\n",
      "Sensitivity:  0.0 Specificity:  0.7407407407407407 Balanced Accuracy Score:  0.37037037037037035 MCC:  -0.2277100170213244 AUC:  0.6074074074074074\n",
      "Sampling:  KmeansSmote Scaling:  robust Classifier:  ADA\n",
      "Fitting 5 folds for each of 144 candidates, totalling 720 fits\n",
      "Tuning Done\n",
      "AdaBoostClassifier(algorithm='SAMME', learning_rate=0.1, n_estimators=500,\n",
      "                   random_state=42)\n",
      "Training done\n"
     ]
    },
    {
     "name": "stderr",
     "output_type": "stream",
     "text": [
      "/Users/zhounan/miniconda3/envs/MODS/lib/python3.8/site-packages/numpy/lib/nanfunctions.py:1217: RuntimeWarning: All-NaN slice encountered\n",
      "  return function_base._ureduce(a, func=_nanmedian, keepdims=keepdims,\n",
      "/Users/zhounan/miniconda3/envs/MODS/lib/python3.8/site-packages/numpy/lib/nanfunctions.py:1556: RuntimeWarning: All-NaN slice encountered\n",
      "  return function_base._ureduce(a,\n"
     ]
    },
    {
     "name": "stdout",
     "output_type": "stream",
     "text": [
      "Threshold:  0.459\n",
      "AUROC:  0.7481481481481482\n",
      "Sensitivity:  0.2 Specificity:  0.8888888888888888 Balanced Accuracy Score:  0.5444444444444444 MCC:  0.09759000729485331 AUC:  0.7481481481481482\n",
      "Sampling:  BorderlineSmote Scaling:  robust Classifier:  ADA\n",
      "Fitting 5 folds for each of 144 candidates, totalling 720 fits\n",
      "Tuning Done\n",
      "AdaBoostClassifier(learning_rate=0.1, n_estimators=100, random_state=42)\n",
      "Training done\n"
     ]
    },
    {
     "name": "stderr",
     "output_type": "stream",
     "text": [
      "/Users/zhounan/miniconda3/envs/MODS/lib/python3.8/site-packages/numpy/lib/nanfunctions.py:1217: RuntimeWarning: All-NaN slice encountered\n",
      "  return function_base._ureduce(a, func=_nanmedian, keepdims=keepdims,\n",
      "/Users/zhounan/miniconda3/envs/MODS/lib/python3.8/site-packages/numpy/lib/nanfunctions.py:1556: RuntimeWarning: All-NaN slice encountered\n",
      "  return function_base._ureduce(a,\n"
     ]
    },
    {
     "name": "stdout",
     "output_type": "stream",
     "text": [
      "Threshold:  0.325\n",
      "AUROC:  0.6962962962962964\n",
      "Sensitivity:  0.2 Specificity:  0.8148148148148148 Balanced Accuracy Score:  0.5074074074074074 MCC:  0.013781637176578718 AUC:  0.6962962962962964\n",
      "Sampling:  SVMSmote Scaling:  robust Classifier:  ADA\n",
      "Fitting 5 folds for each of 144 candidates, totalling 720 fits\n",
      "Tuning Done\n",
      "AdaBoostClassifier(learning_rate=0.3, n_estimators=200, random_state=42)\n",
      "Training done\n"
     ]
    },
    {
     "name": "stderr",
     "output_type": "stream",
     "text": [
      "/Users/zhounan/miniconda3/envs/MODS/lib/python3.8/site-packages/numpy/lib/nanfunctions.py:1217: RuntimeWarning: All-NaN slice encountered\n",
      "  return function_base._ureduce(a, func=_nanmedian, keepdims=keepdims,\n",
      "/Users/zhounan/miniconda3/envs/MODS/lib/python3.8/site-packages/numpy/lib/nanfunctions.py:1556: RuntimeWarning: All-NaN slice encountered\n",
      "  return function_base._ureduce(a,\n",
      "100%|██████████| 3/3 [05:01<00:00, 100.50s/it]\n",
      " 22%|██▏       | 2/9 [09:48<34:30, 295.73s/it]"
     ]
    },
    {
     "name": "stdout",
     "output_type": "stream",
     "text": [
      "Threshold:  0.438\n",
      "AUROC:  0.7407407407407407\n",
      "Sensitivity:  0.6 Specificity:  0.7777777777777778 Balanced Accuracy Score:  0.6888888888888889 MCC:  0.30508307783296046 AUC:  0.7407407407407407\n",
      "For  15  genes: \n"
     ]
    },
    {
     "name": "stderr",
     "output_type": "stream",
     "text": []
    },
    {
     "name": "stdout",
     "output_type": "stream",
     "text": [
      "Scaling scheme: minmax\n",
      "Sampling:  RUS Scaling:  minmax Classifier:  ADA\n",
      "Fitting 5 folds for each of 144 candidates, totalling 720 fits\n",
      "Tuning Done\n",
      "AdaBoostClassifier(algorithm='SAMME', learning_rate=0.5, n_estimators=200,\n",
      "                   random_state=42)\n",
      "Training done\n"
     ]
    },
    {
     "name": "stderr",
     "output_type": "stream",
     "text": [
      "/Users/zhounan/miniconda3/envs/MODS/lib/python3.8/site-packages/sklearn/preprocessing/_data.py:479: RuntimeWarning: All-NaN slice encountered\n",
      "  data_min = np.nanmin(X, axis=0)\n",
      "/Users/zhounan/miniconda3/envs/MODS/lib/python3.8/site-packages/sklearn/preprocessing/_data.py:480: RuntimeWarning: All-NaN slice encountered\n",
      "  data_max = np.nanmax(X, axis=0)\n"
     ]
    },
    {
     "name": "stdout",
     "output_type": "stream",
     "text": [
      "Threshold:  0.388\n",
      "AUROC:  0.5074074074074074\n",
      "Sensitivity:  0.0 Specificity:  1.0 Balanced Accuracy Score:  0.5 MCC:  0.0 AUC:  0.5074074074074074\n",
      "Sampling:  REDN Scaling:  minmax Classifier:  ADA\n",
      "Fitting 5 folds for each of 144 candidates, totalling 720 fits\n",
      "Tuning Done\n",
      "AdaBoostClassifier(algorithm='SAMME', learning_rate=0.1, n_estimators=30,\n",
      "                   random_state=42)\n",
      "Training done\n"
     ]
    },
    {
     "name": "stderr",
     "output_type": "stream",
     "text": [
      "/Users/zhounan/miniconda3/envs/MODS/lib/python3.8/site-packages/sklearn/preprocessing/_data.py:479: RuntimeWarning: All-NaN slice encountered\n",
      "  data_min = np.nanmin(X, axis=0)\n",
      "/Users/zhounan/miniconda3/envs/MODS/lib/python3.8/site-packages/sklearn/preprocessing/_data.py:480: RuntimeWarning: All-NaN slice encountered\n",
      "  data_max = np.nanmax(X, axis=0)\n"
     ]
    },
    {
     "name": "stdout",
     "output_type": "stream",
     "text": [
      "Threshold:  0.28\n",
      "AUROC:  0.5296296296296297\n",
      "Sensitivity:  0.0 Specificity:  0.8888888888888888 Balanced Accuracy Score:  0.4444444444444444 MCC:  -0.1384091330895666 AUC:  0.5296296296296297\n",
      "Sampling:  CC Scaling:  minmax Classifier:  ADA\n",
      "Fitting 5 folds for each of 144 candidates, totalling 720 fits\n",
      "Tuning Done\n",
      "AdaBoostClassifier(learning_rate=0.1, n_estimators=21, random_state=42)\n",
      "Training done\n"
     ]
    },
    {
     "name": "stderr",
     "output_type": "stream",
     "text": [
      "/Users/zhounan/miniconda3/envs/MODS/lib/python3.8/site-packages/sklearn/preprocessing/_data.py:479: RuntimeWarning: All-NaN slice encountered\n",
      "  data_min = np.nanmin(X, axis=0)\n",
      "/Users/zhounan/miniconda3/envs/MODS/lib/python3.8/site-packages/sklearn/preprocessing/_data.py:480: RuntimeWarning: All-NaN slice encountered\n",
      "  data_max = np.nanmax(X, axis=0)\n"
     ]
    },
    {
     "name": "stdout",
     "output_type": "stream",
     "text": [
      "Threshold:  0.097\n",
      "AUROC:  0.6111111111111112\n",
      "Sensitivity:  0.0 Specificity:  1.0 Balanced Accuracy Score:  0.5 MCC:  0.0 AUC:  0.6111111111111112\n",
      "Sampling:  IHT Scaling:  minmax Classifier:  ADA\n",
      "Fitting 5 folds for each of 144 candidates, totalling 720 fits\n",
      "Tuning Done\n",
      "AdaBoostClassifier(algorithm='SAMME', learning_rate=0.1, n_estimators=5,\n",
      "                   random_state=42)\n",
      "Training done\n"
     ]
    },
    {
     "name": "stderr",
     "output_type": "stream",
     "text": [
      "/Users/zhounan/miniconda3/envs/MODS/lib/python3.8/site-packages/sklearn/preprocessing/_data.py:479: RuntimeWarning: All-NaN slice encountered\n",
      "  data_min = np.nanmin(X, axis=0)\n",
      "/Users/zhounan/miniconda3/envs/MODS/lib/python3.8/site-packages/sklearn/preprocessing/_data.py:480: RuntimeWarning: All-NaN slice encountered\n",
      "  data_max = np.nanmax(X, axis=0)\n"
     ]
    },
    {
     "name": "stdout",
     "output_type": "stream",
     "text": [
      "Threshold:  0.0\n",
      "AUROC:  0.42592592592592593\n",
      "Sensitivity:  0.0 Specificity:  0.8518518518518519 Balanced Accuracy Score:  0.42592592592592593 MCC:  -0.16265001215808886 AUC:  0.42592592592592593\n",
      "Sampling:  NearMiss Scaling:  minmax Classifier:  ADA\n",
      "Fitting 5 folds for each of 144 candidates, totalling 720 fits\n",
      "Tuning Done\n",
      "AdaBoostClassifier(learning_rate=1, n_estimators=30, random_state=42)\n",
      "Training done\n"
     ]
    },
    {
     "name": "stderr",
     "output_type": "stream",
     "text": [
      "/Users/zhounan/miniconda3/envs/MODS/lib/python3.8/site-packages/sklearn/preprocessing/_data.py:479: RuntimeWarning: All-NaN slice encountered\n",
      "  data_min = np.nanmin(X, axis=0)\n",
      "/Users/zhounan/miniconda3/envs/MODS/lib/python3.8/site-packages/sklearn/preprocessing/_data.py:480: RuntimeWarning: All-NaN slice encountered\n",
      "  data_max = np.nanmax(X, axis=0)\n"
     ]
    },
    {
     "name": "stdout",
     "output_type": "stream",
     "text": [
      "Threshold:  0.292\n",
      "AUROC:  0.6888888888888889\n",
      "Sensitivity:  0.0 Specificity:  0.9259259259259259 Balanced Accuracy Score:  0.46296296296296297 MCC:  -0.1111111111111111 AUC:  0.6888888888888889\n",
      "Sampling:  EDN Scaling:  minmax Classifier:  ADA\n",
      "Fitting 5 folds for each of 144 candidates, totalling 720 fits\n",
      "Tuning Done\n",
      "AdaBoostClassifier(algorithm='SAMME', learning_rate=1, n_estimators=5,\n",
      "                   random_state=42)\n",
      "Training done\n"
     ]
    },
    {
     "name": "stderr",
     "output_type": "stream",
     "text": [
      "/Users/zhounan/miniconda3/envs/MODS/lib/python3.8/site-packages/sklearn/preprocessing/_data.py:479: RuntimeWarning: All-NaN slice encountered\n",
      "  data_min = np.nanmin(X, axis=0)\n",
      "/Users/zhounan/miniconda3/envs/MODS/lib/python3.8/site-packages/sklearn/preprocessing/_data.py:480: RuntimeWarning: All-NaN slice encountered\n",
      "  data_max = np.nanmax(X, axis=0)\n"
     ]
    },
    {
     "name": "stdout",
     "output_type": "stream",
     "text": [
      "Threshold:  0.375\n",
      "AUROC:  0.6037037037037036\n",
      "Sensitivity:  0.0 Specificity:  1.0 Balanced Accuracy Score:  0.5 MCC:  0.0 AUC:  0.6037037037037036\n",
      "Sampling:  Tomek Scaling:  minmax Classifier:  ADA\n",
      "Fitting 5 folds for each of 144 candidates, totalling 720 fits\n",
      "Tuning Done\n",
      "AdaBoostClassifier(learning_rate=0.3, n_estimators=100, random_state=42)\n",
      "Training done\n"
     ]
    },
    {
     "name": "stderr",
     "output_type": "stream",
     "text": [
      "/Users/zhounan/miniconda3/envs/MODS/lib/python3.8/site-packages/sklearn/preprocessing/_data.py:479: RuntimeWarning: All-NaN slice encountered\n",
      "  data_min = np.nanmin(X, axis=0)\n",
      "/Users/zhounan/miniconda3/envs/MODS/lib/python3.8/site-packages/sklearn/preprocessing/_data.py:480: RuntimeWarning: All-NaN slice encountered\n",
      "  data_max = np.nanmax(X, axis=0)\n"
     ]
    },
    {
     "name": "stdout",
     "output_type": "stream",
     "text": [
      "Threshold:  0.219\n",
      "AUROC:  0.5333333333333333\n",
      "Sensitivity:  0.0 Specificity:  1.0 Balanced Accuracy Score:  0.5 MCC:  0.0 AUC:  0.5333333333333333\n",
      "Sampling:  Allknn Scaling:  minmax Classifier:  ADA\n",
      "Fitting 5 folds for each of 144 candidates, totalling 720 fits\n",
      "Tuning Done\n",
      "AdaBoostClassifier(algorithm='SAMME', learning_rate=0.1, n_estimators=30,\n",
      "                   random_state=42)\n",
      "Training done\n"
     ]
    },
    {
     "name": "stderr",
     "output_type": "stream",
     "text": [
      "/Users/zhounan/miniconda3/envs/MODS/lib/python3.8/site-packages/sklearn/preprocessing/_data.py:479: RuntimeWarning: All-NaN slice encountered\n",
      "  data_min = np.nanmin(X, axis=0)\n",
      "/Users/zhounan/miniconda3/envs/MODS/lib/python3.8/site-packages/sklearn/preprocessing/_data.py:480: RuntimeWarning: All-NaN slice encountered\n",
      "  data_max = np.nanmax(X, axis=0)\n"
     ]
    },
    {
     "name": "stdout",
     "output_type": "stream",
     "text": [
      "Threshold:  0.28\n",
      "AUROC:  0.5296296296296297\n",
      "Sensitivity:  0.0 Specificity:  0.8888888888888888 Balanced Accuracy Score:  0.4444444444444444 MCC:  -0.1384091330895666 AUC:  0.5296296296296297\n",
      "Sampling:  CondensedNN Scaling:  minmax Classifier:  ADA\n",
      "Fitting 5 folds for each of 144 candidates, totalling 720 fits\n",
      "Tuning Done\n",
      "AdaBoostClassifier(learning_rate=0.5, n_estimators=5, random_state=42)\n",
      "Training done\n"
     ]
    },
    {
     "name": "stderr",
     "output_type": "stream",
     "text": [
      "/Users/zhounan/miniconda3/envs/MODS/lib/python3.8/site-packages/sklearn/preprocessing/_data.py:479: RuntimeWarning: All-NaN slice encountered\n",
      "  data_min = np.nanmin(X, axis=0)\n",
      "/Users/zhounan/miniconda3/envs/MODS/lib/python3.8/site-packages/sklearn/preprocessing/_data.py:480: RuntimeWarning: All-NaN slice encountered\n",
      "  data_max = np.nanmax(X, axis=0)\n"
     ]
    },
    {
     "name": "stdout",
     "output_type": "stream",
     "text": [
      "Threshold:  0.0\n",
      "AUROC:  0.40740740740740744\n",
      "Sensitivity:  0.0 Specificity:  0.9259259259259259 Balanced Accuracy Score:  0.46296296296296297 MCC:  -0.1111111111111111 AUC:  0.40740740740740744\n",
      "Sampling:  OSS Scaling:  minmax Classifier:  ADA\n",
      "Fitting 5 folds for each of 144 candidates, totalling 720 fits\n",
      "Tuning Done\n",
      "AdaBoostClassifier(learning_rate=0.3, n_estimators=500, random_state=42)\n",
      "Training done\n"
     ]
    },
    {
     "name": "stderr",
     "output_type": "stream",
     "text": [
      "/Users/zhounan/miniconda3/envs/MODS/lib/python3.8/site-packages/sklearn/preprocessing/_data.py:479: RuntimeWarning: All-NaN slice encountered\n",
      "  data_min = np.nanmin(X, axis=0)\n",
      "/Users/zhounan/miniconda3/envs/MODS/lib/python3.8/site-packages/sklearn/preprocessing/_data.py:480: RuntimeWarning: All-NaN slice encountered\n",
      "  data_max = np.nanmax(X, axis=0)\n"
     ]
    },
    {
     "name": "stdout",
     "output_type": "stream",
     "text": [
      "Threshold:  0.232\n",
      "AUROC:  0.5555555555555556\n",
      "Sensitivity:  0.0 Specificity:  0.9629629629629629 Balanced Accuracy Score:  0.48148148148148145 MCC:  -0.07728981596002805 AUC:  0.5555555555555556\n",
      "Sampling:  SMOTE Scaling:  minmax Classifier:  ADA\n",
      "Fitting 5 folds for each of 144 candidates, totalling 720 fits\n",
      "Tuning Done\n",
      "AdaBoostClassifier(algorithm='SAMME', learning_rate=0.5, n_estimators=500,\n",
      "                   random_state=42)\n",
      "Training done\n"
     ]
    },
    {
     "name": "stderr",
     "output_type": "stream",
     "text": [
      "/Users/zhounan/miniconda3/envs/MODS/lib/python3.8/site-packages/sklearn/preprocessing/_data.py:479: RuntimeWarning: All-NaN slice encountered\n",
      "  data_min = np.nanmin(X, axis=0)\n",
      "/Users/zhounan/miniconda3/envs/MODS/lib/python3.8/site-packages/sklearn/preprocessing/_data.py:480: RuntimeWarning: All-NaN slice encountered\n",
      "  data_max = np.nanmax(X, axis=0)\n"
     ]
    },
    {
     "name": "stdout",
     "output_type": "stream",
     "text": [
      "Threshold:  0.418\n",
      "AUROC:  0.5555555555555556\n",
      "Sensitivity:  0.0 Specificity:  1.0 Balanced Accuracy Score:  0.5 MCC:  0.0 AUC:  0.5555555555555556\n",
      "Sampling:  ROS Scaling:  minmax Classifier:  ADA\n",
      "Fitting 5 folds for each of 144 candidates, totalling 720 fits\n",
      "Tuning Done\n",
      "AdaBoostClassifier(learning_rate=0.5, n_estimators=500, random_state=42)\n",
      "Training done\n"
     ]
    },
    {
     "name": "stderr",
     "output_type": "stream",
     "text": [
      "/Users/zhounan/miniconda3/envs/MODS/lib/python3.8/site-packages/sklearn/preprocessing/_data.py:479: RuntimeWarning: All-NaN slice encountered\n",
      "  data_min = np.nanmin(X, axis=0)\n",
      "/Users/zhounan/miniconda3/envs/MODS/lib/python3.8/site-packages/sklearn/preprocessing/_data.py:480: RuntimeWarning: All-NaN slice encountered\n",
      "  data_max = np.nanmax(X, axis=0)\n"
     ]
    },
    {
     "name": "stdout",
     "output_type": "stream",
     "text": [
      "Threshold:  0.34800000000000003\n",
      "AUROC:  0.6000000000000001\n",
      "Sensitivity:  0.0 Specificity:  1.0 Balanced Accuracy Score:  0.5 MCC:  0.0 AUC:  0.6000000000000001\n",
      "Sampling:  ADASYN Scaling:  minmax Classifier:  ADA\n",
      "Fitting 5 folds for each of 144 candidates, totalling 720 fits\n",
      "Tuning Done\n",
      "AdaBoostClassifier(learning_rate=0.3, n_estimators=500, random_state=42)\n",
      "Training done\n"
     ]
    },
    {
     "name": "stderr",
     "output_type": "stream",
     "text": [
      "/Users/zhounan/miniconda3/envs/MODS/lib/python3.8/site-packages/sklearn/preprocessing/_data.py:479: RuntimeWarning: All-NaN slice encountered\n",
      "  data_min = np.nanmin(X, axis=0)\n",
      "/Users/zhounan/miniconda3/envs/MODS/lib/python3.8/site-packages/sklearn/preprocessing/_data.py:480: RuntimeWarning: All-NaN slice encountered\n",
      "  data_max = np.nanmax(X, axis=0)\n"
     ]
    },
    {
     "name": "stdout",
     "output_type": "stream",
     "text": [
      "Threshold:  0.397\n",
      "AUROC:  0.5481481481481482\n",
      "Sensitivity:  0.0 Specificity:  1.0 Balanced Accuracy Score:  0.5 MCC:  0.0 AUC:  0.5481481481481482\n",
      "Sampling:  KmeansSmote Scaling:  minmax Classifier:  ADA\n",
      "Fitting 5 folds for each of 144 candidates, totalling 720 fits\n",
      "Tuning Done\n",
      "AdaBoostClassifier(learning_rate=0.3, n_estimators=100, random_state=42)\n",
      "Training done\n"
     ]
    },
    {
     "name": "stderr",
     "output_type": "stream",
     "text": [
      "/Users/zhounan/miniconda3/envs/MODS/lib/python3.8/site-packages/sklearn/preprocessing/_data.py:479: RuntimeWarning: All-NaN slice encountered\n",
      "  data_min = np.nanmin(X, axis=0)\n",
      "/Users/zhounan/miniconda3/envs/MODS/lib/python3.8/site-packages/sklearn/preprocessing/_data.py:480: RuntimeWarning: All-NaN slice encountered\n",
      "  data_max = np.nanmax(X, axis=0)\n"
     ]
    },
    {
     "name": "stdout",
     "output_type": "stream",
     "text": [
      "Threshold:  0.153\n",
      "AUROC:  0.5555555555555556\n",
      "Sensitivity:  0.0 Specificity:  0.9629629629629629 Balanced Accuracy Score:  0.48148148148148145 MCC:  -0.07728981596002805 AUC:  0.5555555555555556\n",
      "Sampling:  BorderlineSmote Scaling:  minmax Classifier:  ADA\n",
      "Fitting 5 folds for each of 144 candidates, totalling 720 fits\n",
      "Tuning Done\n",
      "AdaBoostClassifier(learning_rate=1, n_estimators=500, random_state=42)\n",
      "Training done\n"
     ]
    },
    {
     "name": "stderr",
     "output_type": "stream",
     "text": [
      "/Users/zhounan/miniconda3/envs/MODS/lib/python3.8/site-packages/sklearn/preprocessing/_data.py:479: RuntimeWarning: All-NaN slice encountered\n",
      "  data_min = np.nanmin(X, axis=0)\n",
      "/Users/zhounan/miniconda3/envs/MODS/lib/python3.8/site-packages/sklearn/preprocessing/_data.py:480: RuntimeWarning: All-NaN slice encountered\n",
      "  data_max = np.nanmax(X, axis=0)\n"
     ]
    },
    {
     "name": "stdout",
     "output_type": "stream",
     "text": [
      "Threshold:  0.376\n",
      "AUROC:  0.5555555555555556\n",
      "Sensitivity:  0.0 Specificity:  0.9629629629629629 Balanced Accuracy Score:  0.48148148148148145 MCC:  -0.07728981596002805 AUC:  0.5555555555555556\n",
      "Sampling:  SVMSmote Scaling:  minmax Classifier:  ADA\n",
      "Fitting 5 folds for each of 144 candidates, totalling 720 fits\n",
      "Tuning Done\n",
      "AdaBoostClassifier(learning_rate=1, n_estimators=100, random_state=42)\n",
      "Training done\n"
     ]
    },
    {
     "name": "stderr",
     "output_type": "stream",
     "text": [
      "/Users/zhounan/miniconda3/envs/MODS/lib/python3.8/site-packages/sklearn/preprocessing/_data.py:479: RuntimeWarning: All-NaN slice encountered\n",
      "  data_min = np.nanmin(X, axis=0)\n",
      "/Users/zhounan/miniconda3/envs/MODS/lib/python3.8/site-packages/sklearn/preprocessing/_data.py:480: RuntimeWarning: All-NaN slice encountered\n",
      "  data_max = np.nanmax(X, axis=0)\n"
     ]
    },
    {
     "name": "stdout",
     "output_type": "stream",
     "text": [
      "Threshold:  0.179\n",
      "AUROC:  0.5185185185185186\n",
      "Sensitivity:  0.0 Specificity:  0.9629629629629629 Balanced Accuracy Score:  0.48148148148148145 MCC:  -0.07728981596002805 AUC:  0.5185185185185186\n",
      "Scaling scheme: std\n",
      "Sampling:  RUS Scaling:  std Classifier:  ADA\n",
      "Fitting 5 folds for each of 144 candidates, totalling 720 fits\n",
      "Tuning Done\n",
      "AdaBoostClassifier(algorithm='SAMME', learning_rate=0.5, n_estimators=200,\n",
      "                   random_state=42)\n",
      "Training done\n"
     ]
    },
    {
     "name": "stderr",
     "output_type": "stream",
     "text": [
      "/Users/zhounan/miniconda3/envs/MODS/lib/python3.8/site-packages/sklearn/utils/extmath.py:1051: RuntimeWarning: invalid value encountered in divide\n",
      "  updated_mean = (last_sum + new_sum) / updated_sample_count\n",
      "/Users/zhounan/miniconda3/envs/MODS/lib/python3.8/site-packages/sklearn/utils/extmath.py:1056: RuntimeWarning: invalid value encountered in divide\n",
      "  T = new_sum / new_sample_count\n",
      "/Users/zhounan/miniconda3/envs/MODS/lib/python3.8/site-packages/sklearn/utils/extmath.py:1076: RuntimeWarning: invalid value encountered in divide\n",
      "  new_unnormalized_variance -= correction**2 / new_sample_count\n"
     ]
    },
    {
     "name": "stdout",
     "output_type": "stream",
     "text": [
      "Threshold:  0.388\n",
      "AUROC:  0.5111111111111111\n",
      "Sensitivity:  0.0 Specificity:  0.8518518518518519 Balanced Accuracy Score:  0.42592592592592593 MCC:  -0.16265001215808886 AUC:  0.5111111111111111\n",
      "Sampling:  REDN Scaling:  std Classifier:  ADA\n",
      "Fitting 5 folds for each of 144 candidates, totalling 720 fits\n",
      "Tuning Done\n",
      "AdaBoostClassifier(algorithm='SAMME', learning_rate=1, n_estimators=21,\n",
      "                   random_state=42)\n",
      "Training done\n"
     ]
    },
    {
     "name": "stderr",
     "output_type": "stream",
     "text": [
      "/Users/zhounan/miniconda3/envs/MODS/lib/python3.8/site-packages/sklearn/utils/extmath.py:1051: RuntimeWarning: invalid value encountered in divide\n",
      "  updated_mean = (last_sum + new_sum) / updated_sample_count\n",
      "/Users/zhounan/miniconda3/envs/MODS/lib/python3.8/site-packages/sklearn/utils/extmath.py:1056: RuntimeWarning: invalid value encountered in divide\n",
      "  T = new_sum / new_sample_count\n",
      "/Users/zhounan/miniconda3/envs/MODS/lib/python3.8/site-packages/sklearn/utils/extmath.py:1076: RuntimeWarning: invalid value encountered in divide\n",
      "  new_unnormalized_variance -= correction**2 / new_sample_count\n"
     ]
    },
    {
     "name": "stdout",
     "output_type": "stream",
     "text": [
      "Threshold:  0.367\n",
      "AUROC:  0.725925925925926\n",
      "Sensitivity:  0.2 Specificity:  0.8148148148148148 Balanced Accuracy Score:  0.5074074074074074 MCC:  0.013781637176578718 AUC:  0.725925925925926\n",
      "Sampling:  CC Scaling:  std Classifier:  ADA\n",
      "Fitting 5 folds for each of 144 candidates, totalling 720 fits\n",
      "Tuning Done\n",
      "AdaBoostClassifier(learning_rate=0.1, n_estimators=100, random_state=42)\n",
      "Training done\n"
     ]
    },
    {
     "name": "stderr",
     "output_type": "stream",
     "text": [
      "/Users/zhounan/miniconda3/envs/MODS/lib/python3.8/site-packages/sklearn/utils/extmath.py:1051: RuntimeWarning: invalid value encountered in divide\n",
      "  updated_mean = (last_sum + new_sum) / updated_sample_count\n",
      "/Users/zhounan/miniconda3/envs/MODS/lib/python3.8/site-packages/sklearn/utils/extmath.py:1056: RuntimeWarning: invalid value encountered in divide\n",
      "  T = new_sum / new_sample_count\n",
      "/Users/zhounan/miniconda3/envs/MODS/lib/python3.8/site-packages/sklearn/utils/extmath.py:1076: RuntimeWarning: invalid value encountered in divide\n",
      "  new_unnormalized_variance -= correction**2 / new_sample_count\n"
     ]
    },
    {
     "name": "stdout",
     "output_type": "stream",
     "text": [
      "Threshold:  0.34500000000000003\n",
      "AUROC:  0.7407407407407408\n",
      "Sensitivity:  0.0 Specificity:  0.8888888888888888 Balanced Accuracy Score:  0.4444444444444444 MCC:  -0.1384091330895666 AUC:  0.7407407407407408\n",
      "Sampling:  IHT Scaling:  std Classifier:  ADA\n",
      "Fitting 5 folds for each of 144 candidates, totalling 720 fits\n",
      "Tuning Done\n",
      "AdaBoostClassifier(algorithm='SAMME', learning_rate=0.1, n_estimators=5,\n",
      "                   random_state=42)\n",
      "Training done\n"
     ]
    },
    {
     "name": "stderr",
     "output_type": "stream",
     "text": [
      "/Users/zhounan/miniconda3/envs/MODS/lib/python3.8/site-packages/sklearn/utils/extmath.py:1051: RuntimeWarning: invalid value encountered in divide\n",
      "  updated_mean = (last_sum + new_sum) / updated_sample_count\n",
      "/Users/zhounan/miniconda3/envs/MODS/lib/python3.8/site-packages/sklearn/utils/extmath.py:1056: RuntimeWarning: invalid value encountered in divide\n",
      "  T = new_sum / new_sample_count\n",
      "/Users/zhounan/miniconda3/envs/MODS/lib/python3.8/site-packages/sklearn/utils/extmath.py:1076: RuntimeWarning: invalid value encountered in divide\n",
      "  new_unnormalized_variance -= correction**2 / new_sample_count\n"
     ]
    },
    {
     "name": "stdout",
     "output_type": "stream",
     "text": [
      "Threshold:  0.0\n",
      "AUROC:  0.4888888888888889\n",
      "Sensitivity:  0.2 Specificity:  0.7777777777777778 Balanced Accuracy Score:  0.48888888888888893 MCC:  -0.019518001458970664 AUC:  0.4888888888888889\n",
      "Sampling:  NearMiss Scaling:  std Classifier:  ADA\n",
      "Fitting 5 folds for each of 144 candidates, totalling 720 fits\n",
      "Tuning Done\n",
      "AdaBoostClassifier(algorithm='SAMME', learning_rate=0.1, n_estimators=100,\n",
      "                   random_state=42)\n",
      "Training done\n"
     ]
    },
    {
     "name": "stderr",
     "output_type": "stream",
     "text": [
      "/Users/zhounan/miniconda3/envs/MODS/lib/python3.8/site-packages/sklearn/utils/extmath.py:1051: RuntimeWarning: invalid value encountered in divide\n",
      "  updated_mean = (last_sum + new_sum) / updated_sample_count\n",
      "/Users/zhounan/miniconda3/envs/MODS/lib/python3.8/site-packages/sklearn/utils/extmath.py:1056: RuntimeWarning: invalid value encountered in divide\n",
      "  T = new_sum / new_sample_count\n",
      "/Users/zhounan/miniconda3/envs/MODS/lib/python3.8/site-packages/sklearn/utils/extmath.py:1076: RuntimeWarning: invalid value encountered in divide\n",
      "  new_unnormalized_variance -= correction**2 / new_sample_count\n"
     ]
    },
    {
     "name": "stdout",
     "output_type": "stream",
     "text": [
      "Threshold:  0.423\n",
      "AUROC:  0.7074074074074073\n",
      "Sensitivity:  0.2 Specificity:  0.8148148148148148 Balanced Accuracy Score:  0.5074074074074074 MCC:  0.013781637176578718 AUC:  0.7074074074074073\n",
      "Sampling:  EDN Scaling:  std Classifier:  ADA\n",
      "Fitting 5 folds for each of 144 candidates, totalling 720 fits\n",
      "Tuning Done\n",
      "AdaBoostClassifier(learning_rate=1, n_estimators=10, random_state=42)\n",
      "Training done\n"
     ]
    },
    {
     "name": "stderr",
     "output_type": "stream",
     "text": [
      "/Users/zhounan/miniconda3/envs/MODS/lib/python3.8/site-packages/sklearn/utils/extmath.py:1051: RuntimeWarning: invalid value encountered in divide\n",
      "  updated_mean = (last_sum + new_sum) / updated_sample_count\n",
      "/Users/zhounan/miniconda3/envs/MODS/lib/python3.8/site-packages/sklearn/utils/extmath.py:1056: RuntimeWarning: invalid value encountered in divide\n",
      "  T = new_sum / new_sample_count\n",
      "/Users/zhounan/miniconda3/envs/MODS/lib/python3.8/site-packages/sklearn/utils/extmath.py:1076: RuntimeWarning: invalid value encountered in divide\n",
      "  new_unnormalized_variance -= correction**2 / new_sample_count\n"
     ]
    },
    {
     "name": "stdout",
     "output_type": "stream",
     "text": [
      "Threshold:  0.011\n",
      "AUROC:  0.6592592592592593\n",
      "Sensitivity:  0.2 Specificity:  0.8518518518518519 Balanced Accuracy Score:  0.5259259259259259 MCC:  0.05185185185185185 AUC:  0.6592592592592593\n",
      "Sampling:  Tomek Scaling:  std Classifier:  ADA\n",
      "Fitting 5 folds for each of 144 candidates, totalling 720 fits\n",
      "Tuning Done\n",
      "AdaBoostClassifier(learning_rate=0.3, n_estimators=21, random_state=42)\n",
      "Training done\n"
     ]
    },
    {
     "name": "stderr",
     "output_type": "stream",
     "text": [
      "/Users/zhounan/miniconda3/envs/MODS/lib/python3.8/site-packages/sklearn/utils/extmath.py:1051: RuntimeWarning: invalid value encountered in divide\n",
      "  updated_mean = (last_sum + new_sum) / updated_sample_count\n",
      "/Users/zhounan/miniconda3/envs/MODS/lib/python3.8/site-packages/sklearn/utils/extmath.py:1056: RuntimeWarning: invalid value encountered in divide\n",
      "  T = new_sum / new_sample_count\n",
      "/Users/zhounan/miniconda3/envs/MODS/lib/python3.8/site-packages/sklearn/utils/extmath.py:1076: RuntimeWarning: invalid value encountered in divide\n",
      "  new_unnormalized_variance -= correction**2 / new_sample_count\n"
     ]
    },
    {
     "name": "stdout",
     "output_type": "stream",
     "text": [
      "Threshold:  0.127\n",
      "AUROC:  0.4\n",
      "Sensitivity:  0.0 Specificity:  0.8888888888888888 Balanced Accuracy Score:  0.4444444444444444 MCC:  -0.1384091330895666 AUC:  0.4\n",
      "Sampling:  Allknn Scaling:  std Classifier:  ADA\n",
      "Fitting 5 folds for each of 144 candidates, totalling 720 fits\n",
      "Tuning Done\n",
      "AdaBoostClassifier(algorithm='SAMME', learning_rate=0.5, n_estimators=100,\n",
      "                   random_state=42)\n",
      "Training done\n"
     ]
    },
    {
     "name": "stderr",
     "output_type": "stream",
     "text": [
      "/Users/zhounan/miniconda3/envs/MODS/lib/python3.8/site-packages/sklearn/utils/extmath.py:1051: RuntimeWarning: invalid value encountered in divide\n",
      "  updated_mean = (last_sum + new_sum) / updated_sample_count\n",
      "/Users/zhounan/miniconda3/envs/MODS/lib/python3.8/site-packages/sklearn/utils/extmath.py:1056: RuntimeWarning: invalid value encountered in divide\n",
      "  T = new_sum / new_sample_count\n",
      "/Users/zhounan/miniconda3/envs/MODS/lib/python3.8/site-packages/sklearn/utils/extmath.py:1076: RuntimeWarning: invalid value encountered in divide\n",
      "  new_unnormalized_variance -= correction**2 / new_sample_count\n"
     ]
    },
    {
     "name": "stdout",
     "output_type": "stream",
     "text": [
      "Threshold:  0.381\n",
      "AUROC:  0.7037037037037037\n",
      "Sensitivity:  0.4 Specificity:  0.7777777777777778 Balanced Accuracy Score:  0.5888888888888889 MCC:  0.14907119849998599 AUC:  0.7037037037037037\n",
      "Sampling:  CondensedNN Scaling:  std Classifier:  ADA\n",
      "Fitting 5 folds for each of 144 candidates, totalling 720 fits\n",
      "Tuning Done\n",
      "AdaBoostClassifier(algorithm='SAMME', learning_rate=0.5, n_estimators=100,\n",
      "                   random_state=42)\n",
      "Training done\n"
     ]
    },
    {
     "name": "stderr",
     "output_type": "stream",
     "text": [
      "/Users/zhounan/miniconda3/envs/MODS/lib/python3.8/site-packages/sklearn/utils/extmath.py:1051: RuntimeWarning: invalid value encountered in divide\n",
      "  updated_mean = (last_sum + new_sum) / updated_sample_count\n",
      "/Users/zhounan/miniconda3/envs/MODS/lib/python3.8/site-packages/sklearn/utils/extmath.py:1056: RuntimeWarning: invalid value encountered in divide\n",
      "  T = new_sum / new_sample_count\n",
      "/Users/zhounan/miniconda3/envs/MODS/lib/python3.8/site-packages/sklearn/utils/extmath.py:1076: RuntimeWarning: invalid value encountered in divide\n",
      "  new_unnormalized_variance -= correction**2 / new_sample_count\n"
     ]
    },
    {
     "name": "stdout",
     "output_type": "stream",
     "text": [
      "Threshold:  0.463\n",
      "AUROC:  0.6518518518518518\n",
      "Sensitivity:  0.0 Specificity:  0.8518518518518519 Balanced Accuracy Score:  0.42592592592592593 MCC:  -0.16265001215808886 AUC:  0.6518518518518518\n",
      "Sampling:  OSS Scaling:  std Classifier:  ADA\n",
      "Fitting 5 folds for each of 144 candidates, totalling 720 fits\n",
      "Tuning Done\n",
      "AdaBoostClassifier(algorithm='SAMME', learning_rate=1, n_estimators=30,\n",
      "                   random_state=42)\n",
      "Training done\n"
     ]
    },
    {
     "name": "stderr",
     "output_type": "stream",
     "text": [
      "/Users/zhounan/miniconda3/envs/MODS/lib/python3.8/site-packages/sklearn/utils/extmath.py:1051: RuntimeWarning: invalid value encountered in divide\n",
      "  updated_mean = (last_sum + new_sum) / updated_sample_count\n",
      "/Users/zhounan/miniconda3/envs/MODS/lib/python3.8/site-packages/sklearn/utils/extmath.py:1056: RuntimeWarning: invalid value encountered in divide\n",
      "  T = new_sum / new_sample_count\n",
      "/Users/zhounan/miniconda3/envs/MODS/lib/python3.8/site-packages/sklearn/utils/extmath.py:1076: RuntimeWarning: invalid value encountered in divide\n",
      "  new_unnormalized_variance -= correction**2 / new_sample_count\n"
     ]
    },
    {
     "name": "stdout",
     "output_type": "stream",
     "text": [
      "Threshold:  0.375\n",
      "AUROC:  0.6518518518518519\n",
      "Sensitivity:  0.0 Specificity:  1.0 Balanced Accuracy Score:  0.5 MCC:  0.0 AUC:  0.6518518518518519\n",
      "Sampling:  SMOTE Scaling:  std Classifier:  ADA\n",
      "Fitting 5 folds for each of 144 candidates, totalling 720 fits\n",
      "Tuning Done\n",
      "AdaBoostClassifier(algorithm='SAMME', learning_rate=1, n_estimators=200,\n",
      "                   random_state=42)\n",
      "Training done\n"
     ]
    },
    {
     "name": "stderr",
     "output_type": "stream",
     "text": [
      "/Users/zhounan/miniconda3/envs/MODS/lib/python3.8/site-packages/sklearn/utils/extmath.py:1051: RuntimeWarning: invalid value encountered in divide\n",
      "  updated_mean = (last_sum + new_sum) / updated_sample_count\n",
      "/Users/zhounan/miniconda3/envs/MODS/lib/python3.8/site-packages/sklearn/utils/extmath.py:1056: RuntimeWarning: invalid value encountered in divide\n",
      "  T = new_sum / new_sample_count\n",
      "/Users/zhounan/miniconda3/envs/MODS/lib/python3.8/site-packages/sklearn/utils/extmath.py:1076: RuntimeWarning: invalid value encountered in divide\n",
      "  new_unnormalized_variance -= correction**2 / new_sample_count\n"
     ]
    },
    {
     "name": "stdout",
     "output_type": "stream",
     "text": [
      "Threshold:  0.448\n",
      "AUROC:  0.6592592592592593\n",
      "Sensitivity:  0.2 Specificity:  0.8518518518518519 Balanced Accuracy Score:  0.5259259259259259 MCC:  0.05185185185185185 AUC:  0.6592592592592593\n",
      "Sampling:  ROS Scaling:  std Classifier:  ADA\n",
      "Fitting 5 folds for each of 144 candidates, totalling 720 fits\n",
      "Tuning Done\n",
      "AdaBoostClassifier(learning_rate=0.5, n_estimators=500, random_state=42)\n",
      "Training done\n"
     ]
    },
    {
     "name": "stderr",
     "output_type": "stream",
     "text": [
      "/Users/zhounan/miniconda3/envs/MODS/lib/python3.8/site-packages/sklearn/utils/extmath.py:1051: RuntimeWarning: invalid value encountered in divide\n",
      "  updated_mean = (last_sum + new_sum) / updated_sample_count\n",
      "/Users/zhounan/miniconda3/envs/MODS/lib/python3.8/site-packages/sklearn/utils/extmath.py:1056: RuntimeWarning: invalid value encountered in divide\n",
      "  T = new_sum / new_sample_count\n",
      "/Users/zhounan/miniconda3/envs/MODS/lib/python3.8/site-packages/sklearn/utils/extmath.py:1076: RuntimeWarning: invalid value encountered in divide\n",
      "  new_unnormalized_variance -= correction**2 / new_sample_count\n"
     ]
    },
    {
     "name": "stdout",
     "output_type": "stream",
     "text": [
      "Threshold:  0.427\n",
      "AUROC:  0.6074074074074075\n",
      "Sensitivity:  0.2 Specificity:  0.9259259259259259 Balanced Accuracy Score:  0.562962962962963 MCC:  0.15686368416817548 AUC:  0.6074074074074075\n",
      "Sampling:  ADASYN Scaling:  std Classifier:  ADA\n",
      "Fitting 5 folds for each of 144 candidates, totalling 720 fits\n",
      "Tuning Done\n",
      "AdaBoostClassifier(learning_rate=0.3, n_estimators=100, random_state=42)\n",
      "Training done\n"
     ]
    },
    {
     "name": "stderr",
     "output_type": "stream",
     "text": [
      "/Users/zhounan/miniconda3/envs/MODS/lib/python3.8/site-packages/sklearn/utils/extmath.py:1051: RuntimeWarning: invalid value encountered in divide\n",
      "  updated_mean = (last_sum + new_sum) / updated_sample_count\n",
      "/Users/zhounan/miniconda3/envs/MODS/lib/python3.8/site-packages/sklearn/utils/extmath.py:1056: RuntimeWarning: invalid value encountered in divide\n",
      "  T = new_sum / new_sample_count\n",
      "/Users/zhounan/miniconda3/envs/MODS/lib/python3.8/site-packages/sklearn/utils/extmath.py:1076: RuntimeWarning: invalid value encountered in divide\n",
      "  new_unnormalized_variance -= correction**2 / new_sample_count\n"
     ]
    },
    {
     "name": "stdout",
     "output_type": "stream",
     "text": [
      "Threshold:  0.34400000000000003\n",
      "AUROC:  0.5925925925925926\n",
      "Sensitivity:  0.0 Specificity:  0.8888888888888888 Balanced Accuracy Score:  0.4444444444444444 MCC:  -0.1384091330895666 AUC:  0.5925925925925926\n",
      "Sampling:  KmeansSmote Scaling:  std Classifier:  ADA\n",
      "Fitting 5 folds for each of 144 candidates, totalling 720 fits\n",
      "Tuning Done\n",
      "AdaBoostClassifier(learning_rate=0.3, n_estimators=100, random_state=42)\n",
      "Training done\n"
     ]
    },
    {
     "name": "stderr",
     "output_type": "stream",
     "text": [
      "/Users/zhounan/miniconda3/envs/MODS/lib/python3.8/site-packages/sklearn/utils/extmath.py:1051: RuntimeWarning: invalid value encountered in divide\n",
      "  updated_mean = (last_sum + new_sum) / updated_sample_count\n",
      "/Users/zhounan/miniconda3/envs/MODS/lib/python3.8/site-packages/sklearn/utils/extmath.py:1056: RuntimeWarning: invalid value encountered in divide\n",
      "  T = new_sum / new_sample_count\n",
      "/Users/zhounan/miniconda3/envs/MODS/lib/python3.8/site-packages/sklearn/utils/extmath.py:1076: RuntimeWarning: invalid value encountered in divide\n",
      "  new_unnormalized_variance -= correction**2 / new_sample_count\n"
     ]
    },
    {
     "name": "stdout",
     "output_type": "stream",
     "text": [
      "Threshold:  0.364\n",
      "AUROC:  0.6222222222222223\n",
      "Sensitivity:  0.0 Specificity:  0.9259259259259259 Balanced Accuracy Score:  0.46296296296296297 MCC:  -0.1111111111111111 AUC:  0.6222222222222223\n",
      "Sampling:  BorderlineSmote Scaling:  std Classifier:  ADA\n",
      "Fitting 5 folds for each of 144 candidates, totalling 720 fits\n",
      "Tuning Done\n",
      "AdaBoostClassifier(learning_rate=0.1, n_estimators=500, random_state=42)\n",
      "Training done\n"
     ]
    },
    {
     "name": "stderr",
     "output_type": "stream",
     "text": [
      "/Users/zhounan/miniconda3/envs/MODS/lib/python3.8/site-packages/sklearn/utils/extmath.py:1051: RuntimeWarning: invalid value encountered in divide\n",
      "  updated_mean = (last_sum + new_sum) / updated_sample_count\n",
      "/Users/zhounan/miniconda3/envs/MODS/lib/python3.8/site-packages/sklearn/utils/extmath.py:1056: RuntimeWarning: invalid value encountered in divide\n",
      "  T = new_sum / new_sample_count\n",
      "/Users/zhounan/miniconda3/envs/MODS/lib/python3.8/site-packages/sklearn/utils/extmath.py:1076: RuntimeWarning: invalid value encountered in divide\n",
      "  new_unnormalized_variance -= correction**2 / new_sample_count\n"
     ]
    },
    {
     "name": "stdout",
     "output_type": "stream",
     "text": [
      "Threshold:  0.47800000000000004\n",
      "AUROC:  0.5185185185185185\n",
      "Sensitivity:  0.0 Specificity:  0.8888888888888888 Balanced Accuracy Score:  0.4444444444444444 MCC:  -0.1384091330895666 AUC:  0.5185185185185185\n",
      "Sampling:  SVMSmote Scaling:  std Classifier:  ADA\n",
      "Fitting 5 folds for each of 144 candidates, totalling 720 fits\n",
      "Tuning Done\n",
      "AdaBoostClassifier(learning_rate=0.3, n_estimators=500, random_state=42)\n",
      "Training done\n"
     ]
    },
    {
     "name": "stderr",
     "output_type": "stream",
     "text": [
      "/Users/zhounan/miniconda3/envs/MODS/lib/python3.8/site-packages/sklearn/utils/extmath.py:1051: RuntimeWarning: invalid value encountered in divide\n",
      "  updated_mean = (last_sum + new_sum) / updated_sample_count\n",
      "/Users/zhounan/miniconda3/envs/MODS/lib/python3.8/site-packages/sklearn/utils/extmath.py:1056: RuntimeWarning: invalid value encountered in divide\n",
      "  T = new_sum / new_sample_count\n",
      "/Users/zhounan/miniconda3/envs/MODS/lib/python3.8/site-packages/sklearn/utils/extmath.py:1076: RuntimeWarning: invalid value encountered in divide\n",
      "  new_unnormalized_variance -= correction**2 / new_sample_count\n"
     ]
    },
    {
     "name": "stdout",
     "output_type": "stream",
     "text": [
      "Threshold:  0.375\n",
      "AUROC:  0.5111111111111111\n",
      "Sensitivity:  0.0 Specificity:  0.9259259259259259 Balanced Accuracy Score:  0.46296296296296297 MCC:  -0.1111111111111111 AUC:  0.5111111111111111\n",
      "Scaling scheme: robust\n",
      "Sampling:  RUS Scaling:  robust Classifier:  ADA\n",
      "Fitting 5 folds for each of 144 candidates, totalling 720 fits\n",
      "Tuning Done\n",
      "AdaBoostClassifier(algorithm='SAMME', learning_rate=0.5, n_estimators=200,\n",
      "                   random_state=42)\n",
      "Training done\n"
     ]
    },
    {
     "name": "stderr",
     "output_type": "stream",
     "text": [
      "/Users/zhounan/miniconda3/envs/MODS/lib/python3.8/site-packages/numpy/lib/nanfunctions.py:1217: RuntimeWarning: All-NaN slice encountered\n",
      "  return function_base._ureduce(a, func=_nanmedian, keepdims=keepdims,\n",
      "/Users/zhounan/miniconda3/envs/MODS/lib/python3.8/site-packages/numpy/lib/nanfunctions.py:1556: RuntimeWarning: All-NaN slice encountered\n",
      "  return function_base._ureduce(a,\n"
     ]
    },
    {
     "name": "stdout",
     "output_type": "stream",
     "text": [
      "Threshold:  0.421\n",
      "AUROC:  0.5333333333333333\n",
      "Sensitivity:  0.2 Specificity:  0.5925925925925926 Balanced Accuracy Score:  0.39629629629629626 MCC:  -0.15555555555555556 AUC:  0.5333333333333333\n",
      "Sampling:  REDN Scaling:  robust Classifier:  ADA\n",
      "Fitting 5 folds for each of 144 candidates, totalling 720 fits\n",
      "Tuning Done\n",
      "AdaBoostClassifier(algorithm='SAMME', learning_rate=0.1, n_estimators=100,\n",
      "                   random_state=42)\n",
      "Training done\n"
     ]
    },
    {
     "name": "stderr",
     "output_type": "stream",
     "text": [
      "/Users/zhounan/miniconda3/envs/MODS/lib/python3.8/site-packages/numpy/lib/nanfunctions.py:1217: RuntimeWarning: All-NaN slice encountered\n",
      "  return function_base._ureduce(a, func=_nanmedian, keepdims=keepdims,\n",
      "/Users/zhounan/miniconda3/envs/MODS/lib/python3.8/site-packages/numpy/lib/nanfunctions.py:1556: RuntimeWarning: All-NaN slice encountered\n",
      "  return function_base._ureduce(a,\n"
     ]
    },
    {
     "name": "stdout",
     "output_type": "stream",
     "text": [
      "Threshold:  0.454\n",
      "AUROC:  0.6814814814814815\n",
      "Sensitivity:  0.4 Specificity:  0.6296296296296297 Balanced Accuracy Score:  0.5148148148148148 MCC:  0.022222222222222223 AUC:  0.6814814814814815\n",
      "Sampling:  CC Scaling:  robust Classifier:  ADA\n",
      "Fitting 5 folds for each of 144 candidates, totalling 720 fits\n",
      "Tuning Done\n",
      "AdaBoostClassifier(algorithm='SAMME', learning_rate=1, n_estimators=30,\n",
      "                   random_state=42)\n",
      "Training done\n"
     ]
    },
    {
     "name": "stderr",
     "output_type": "stream",
     "text": [
      "/Users/zhounan/miniconda3/envs/MODS/lib/python3.8/site-packages/numpy/lib/nanfunctions.py:1217: RuntimeWarning: All-NaN slice encountered\n",
      "  return function_base._ureduce(a, func=_nanmedian, keepdims=keepdims,\n",
      "/Users/zhounan/miniconda3/envs/MODS/lib/python3.8/site-packages/numpy/lib/nanfunctions.py:1556: RuntimeWarning: All-NaN slice encountered\n",
      "  return function_base._ureduce(a,\n"
     ]
    },
    {
     "name": "stdout",
     "output_type": "stream",
     "text": [
      "Threshold:  0.483\n",
      "AUROC:  0.5629629629629629\n",
      "Sensitivity:  0.4 Specificity:  0.7037037037037037 Balanced Accuracy Score:  0.5518518518518518 MCC:  0.08123623944599233 AUC:  0.5629629629629629\n",
      "Sampling:  IHT Scaling:  robust Classifier:  ADA\n",
      "Fitting 5 folds for each of 144 candidates, totalling 720 fits\n",
      "Tuning Done\n",
      "AdaBoostClassifier(algorithm='SAMME', learning_rate=0.1, n_estimators=5,\n",
      "                   random_state=42)\n",
      "Training done\n"
     ]
    },
    {
     "name": "stderr",
     "output_type": "stream",
     "text": [
      "/Users/zhounan/miniconda3/envs/MODS/lib/python3.8/site-packages/numpy/lib/nanfunctions.py:1217: RuntimeWarning: All-NaN slice encountered\n",
      "  return function_base._ureduce(a, func=_nanmedian, keepdims=keepdims,\n",
      "/Users/zhounan/miniconda3/envs/MODS/lib/python3.8/site-packages/numpy/lib/nanfunctions.py:1556: RuntimeWarning: All-NaN slice encountered\n",
      "  return function_base._ureduce(a,\n"
     ]
    },
    {
     "name": "stdout",
     "output_type": "stream",
     "text": [
      "Threshold:  0.269\n",
      "AUROC:  0.6222222222222222\n",
      "Sensitivity:  0.8 Specificity:  0.4444444444444444 Balanced Accuracy Score:  0.6222222222222222 MCC:  0.18071682129971955 AUC:  0.6222222222222222\n",
      "Sampling:  NearMiss Scaling:  robust Classifier:  ADA\n",
      "Fitting 5 folds for each of 144 candidates, totalling 720 fits\n",
      "Tuning Done\n",
      "AdaBoostClassifier(learning_rate=0.1, n_estimators=5, random_state=42)\n",
      "Training done\n"
     ]
    },
    {
     "name": "stderr",
     "output_type": "stream",
     "text": [
      "/Users/zhounan/miniconda3/envs/MODS/lib/python3.8/site-packages/numpy/lib/nanfunctions.py:1217: RuntimeWarning: All-NaN slice encountered\n",
      "  return function_base._ureduce(a, func=_nanmedian, keepdims=keepdims,\n",
      "/Users/zhounan/miniconda3/envs/MODS/lib/python3.8/site-packages/numpy/lib/nanfunctions.py:1556: RuntimeWarning: All-NaN slice encountered\n",
      "  return function_base._ureduce(a,\n"
     ]
    },
    {
     "name": "stdout",
     "output_type": "stream",
     "text": [
      "Threshold:  0.309\n",
      "AUROC:  0.6481481481481483\n",
      "Sensitivity:  0.4 Specificity:  0.7037037037037037 Balanced Accuracy Score:  0.5518518518518518 MCC:  0.08123623944599233 AUC:  0.6481481481481483\n",
      "Sampling:  EDN Scaling:  robust Classifier:  ADA\n",
      "Fitting 5 folds for each of 144 candidates, totalling 720 fits\n",
      "Tuning Done\n",
      "AdaBoostClassifier(algorithm='SAMME', learning_rate=1, n_estimators=30,\n",
      "                   random_state=42)\n",
      "Training done\n"
     ]
    },
    {
     "name": "stderr",
     "output_type": "stream",
     "text": [
      "/Users/zhounan/miniconda3/envs/MODS/lib/python3.8/site-packages/numpy/lib/nanfunctions.py:1217: RuntimeWarning: All-NaN slice encountered\n",
      "  return function_base._ureduce(a, func=_nanmedian, keepdims=keepdims,\n",
      "/Users/zhounan/miniconda3/envs/MODS/lib/python3.8/site-packages/numpy/lib/nanfunctions.py:1556: RuntimeWarning: All-NaN slice encountered\n",
      "  return function_base._ureduce(a,\n"
     ]
    },
    {
     "name": "stdout",
     "output_type": "stream",
     "text": [
      "Threshold:  0.557\n",
      "AUROC:  0.7111111111111111\n",
      "Sensitivity:  0.6 Specificity:  0.6666666666666666 Balanced Accuracy Score:  0.6333333333333333 MCC:  0.2 AUC:  0.7111111111111111\n",
      "Sampling:  Tomek Scaling:  robust Classifier:  ADA\n",
      "Fitting 5 folds for each of 144 candidates, totalling 720 fits\n",
      "Tuning Done\n",
      "AdaBoostClassifier(algorithm='SAMME', learning_rate=1, n_estimators=100,\n",
      "                   random_state=42)\n",
      "Training done\n"
     ]
    },
    {
     "name": "stderr",
     "output_type": "stream",
     "text": [
      "/Users/zhounan/miniconda3/envs/MODS/lib/python3.8/site-packages/numpy/lib/nanfunctions.py:1217: RuntimeWarning: All-NaN slice encountered\n",
      "  return function_base._ureduce(a, func=_nanmedian, keepdims=keepdims,\n",
      "/Users/zhounan/miniconda3/envs/MODS/lib/python3.8/site-packages/numpy/lib/nanfunctions.py:1556: RuntimeWarning: All-NaN slice encountered\n",
      "  return function_base._ureduce(a,\n"
     ]
    },
    {
     "name": "stdout",
     "output_type": "stream",
     "text": [
      "Threshold:  0.443\n",
      "AUROC:  0.6296296296296297\n",
      "Sensitivity:  0.4 Specificity:  0.8518518518518519 Balanced Accuracy Score:  0.625925925925926 MCC:  0.2342878320018382 AUC:  0.6296296296296297\n",
      "Sampling:  Allknn Scaling:  robust Classifier:  ADA\n",
      "Fitting 5 folds for each of 144 candidates, totalling 720 fits\n",
      "Tuning Done\n",
      "AdaBoostClassifier(algorithm='SAMME', learning_rate=0.1, n_estimators=100,\n",
      "                   random_state=42)\n",
      "Training done\n"
     ]
    },
    {
     "name": "stderr",
     "output_type": "stream",
     "text": [
      "/Users/zhounan/miniconda3/envs/MODS/lib/python3.8/site-packages/numpy/lib/nanfunctions.py:1217: RuntimeWarning: All-NaN slice encountered\n",
      "  return function_base._ureduce(a, func=_nanmedian, keepdims=keepdims,\n",
      "/Users/zhounan/miniconda3/envs/MODS/lib/python3.8/site-packages/numpy/lib/nanfunctions.py:1556: RuntimeWarning: All-NaN slice encountered\n",
      "  return function_base._ureduce(a,\n"
     ]
    },
    {
     "name": "stdout",
     "output_type": "stream",
     "text": [
      "Threshold:  0.439\n",
      "AUROC:  0.6962962962962963\n",
      "Sensitivity:  0.6 Specificity:  0.6296296296296297 Balanced Accuracy Score:  0.6148148148148148 MCC:  0.16976428667549412 AUC:  0.6962962962962963\n",
      "Sampling:  CondensedNN Scaling:  robust Classifier:  ADA\n",
      "Fitting 5 folds for each of 144 candidates, totalling 720 fits\n",
      "Tuning Done\n",
      "AdaBoostClassifier(learning_rate=0.5, n_estimators=30, random_state=42)\n",
      "Training done\n"
     ]
    },
    {
     "name": "stderr",
     "output_type": "stream",
     "text": [
      "/Users/zhounan/miniconda3/envs/MODS/lib/python3.8/site-packages/numpy/lib/nanfunctions.py:1217: RuntimeWarning: All-NaN slice encountered\n",
      "  return function_base._ureduce(a, func=_nanmedian, keepdims=keepdims,\n",
      "/Users/zhounan/miniconda3/envs/MODS/lib/python3.8/site-packages/numpy/lib/nanfunctions.py:1556: RuntimeWarning: All-NaN slice encountered\n",
      "  return function_base._ureduce(a,\n"
     ]
    },
    {
     "name": "stdout",
     "output_type": "stream",
     "text": [
      "Threshold:  0.34700000000000003\n",
      "AUROC:  0.6518518518518519\n",
      "Sensitivity:  0.2 Specificity:  0.9259259259259259 Balanced Accuracy Score:  0.562962962962963 MCC:  0.15686368416817548 AUC:  0.6518518518518519\n",
      "Sampling:  OSS Scaling:  robust Classifier:  ADA\n",
      "Fitting 5 folds for each of 144 candidates, totalling 720 fits\n",
      "Tuning Done\n",
      "AdaBoostClassifier(learning_rate=0.5, n_estimators=30, random_state=42)\n",
      "Training done\n"
     ]
    },
    {
     "name": "stderr",
     "output_type": "stream",
     "text": [
      "/Users/zhounan/miniconda3/envs/MODS/lib/python3.8/site-packages/numpy/lib/nanfunctions.py:1217: RuntimeWarning: All-NaN slice encountered\n",
      "  return function_base._ureduce(a, func=_nanmedian, keepdims=keepdims,\n",
      "/Users/zhounan/miniconda3/envs/MODS/lib/python3.8/site-packages/numpy/lib/nanfunctions.py:1556: RuntimeWarning: All-NaN slice encountered\n",
      "  return function_base._ureduce(a,\n"
     ]
    },
    {
     "name": "stdout",
     "output_type": "stream",
     "text": [
      "Threshold:  0.422\n",
      "AUROC:  0.48888888888888893\n",
      "Sensitivity:  0.2 Specificity:  0.7777777777777778 Balanced Accuracy Score:  0.48888888888888893 MCC:  -0.019518001458970664 AUC:  0.48888888888888893\n",
      "Sampling:  SMOTE Scaling:  robust Classifier:  ADA\n",
      "Fitting 5 folds for each of 144 candidates, totalling 720 fits\n",
      "Tuning Done\n",
      "AdaBoostClassifier(learning_rate=0.3, random_state=42)\n",
      "Training done\n"
     ]
    },
    {
     "name": "stderr",
     "output_type": "stream",
     "text": [
      "/Users/zhounan/miniconda3/envs/MODS/lib/python3.8/site-packages/numpy/lib/nanfunctions.py:1217: RuntimeWarning: All-NaN slice encountered\n",
      "  return function_base._ureduce(a, func=_nanmedian, keepdims=keepdims,\n",
      "/Users/zhounan/miniconda3/envs/MODS/lib/python3.8/site-packages/numpy/lib/nanfunctions.py:1556: RuntimeWarning: All-NaN slice encountered\n",
      "  return function_base._ureduce(a,\n"
     ]
    },
    {
     "name": "stdout",
     "output_type": "stream",
     "text": [
      "Threshold:  0.273\n",
      "AUROC:  0.6074074074074074\n",
      "Sensitivity:  0.2 Specificity:  0.7037037037037037 Balanced Accuracy Score:  0.45185185185185184 MCC:  -0.07776627474173502 AUC:  0.6074074074074074\n",
      "Sampling:  ROS Scaling:  robust Classifier:  ADA\n",
      "Fitting 5 folds for each of 144 candidates, totalling 720 fits\n",
      "Tuning Done\n",
      "AdaBoostClassifier(learning_rate=0.5, n_estimators=500, random_state=42)\n",
      "Training done\n"
     ]
    },
    {
     "name": "stderr",
     "output_type": "stream",
     "text": [
      "/Users/zhounan/miniconda3/envs/MODS/lib/python3.8/site-packages/numpy/lib/nanfunctions.py:1217: RuntimeWarning: All-NaN slice encountered\n",
      "  return function_base._ureduce(a, func=_nanmedian, keepdims=keepdims,\n",
      "/Users/zhounan/miniconda3/envs/MODS/lib/python3.8/site-packages/numpy/lib/nanfunctions.py:1556: RuntimeWarning: All-NaN slice encountered\n",
      "  return function_base._ureduce(a,\n"
     ]
    },
    {
     "name": "stdout",
     "output_type": "stream",
     "text": [
      "Threshold:  0.511\n",
      "AUROC:  0.6370370370370371\n",
      "Sensitivity:  0.4 Specificity:  0.8518518518518519 Balanced Accuracy Score:  0.625925925925926 MCC:  0.2342878320018382 AUC:  0.6370370370370371\n",
      "Sampling:  ADASYN Scaling:  robust Classifier:  ADA\n",
      "Fitting 5 folds for each of 144 candidates, totalling 720 fits\n",
      "Tuning Done\n",
      "AdaBoostClassifier(learning_rate=0.5, random_state=42)\n",
      "Training done\n"
     ]
    },
    {
     "name": "stderr",
     "output_type": "stream",
     "text": [
      "/Users/zhounan/miniconda3/envs/MODS/lib/python3.8/site-packages/numpy/lib/nanfunctions.py:1217: RuntimeWarning: All-NaN slice encountered\n",
      "  return function_base._ureduce(a, func=_nanmedian, keepdims=keepdims,\n",
      "/Users/zhounan/miniconda3/envs/MODS/lib/python3.8/site-packages/numpy/lib/nanfunctions.py:1556: RuntimeWarning: All-NaN slice encountered\n",
      "  return function_base._ureduce(a,\n"
     ]
    },
    {
     "name": "stdout",
     "output_type": "stream",
     "text": [
      "Threshold:  0.26\n",
      "AUROC:  0.5851851851851853\n",
      "Sensitivity:  0.2 Specificity:  0.7777777777777778 Balanced Accuracy Score:  0.48888888888888893 MCC:  -0.019518001458970664 AUC:  0.5851851851851853\n",
      "Sampling:  KmeansSmote Scaling:  robust Classifier:  ADA\n",
      "Fitting 5 folds for each of 144 candidates, totalling 720 fits\n",
      "Tuning Done\n",
      "AdaBoostClassifier(learning_rate=0.5, n_estimators=500, random_state=42)\n",
      "Training done\n"
     ]
    },
    {
     "name": "stderr",
     "output_type": "stream",
     "text": [
      "/Users/zhounan/miniconda3/envs/MODS/lib/python3.8/site-packages/numpy/lib/nanfunctions.py:1217: RuntimeWarning: All-NaN slice encountered\n",
      "  return function_base._ureduce(a, func=_nanmedian, keepdims=keepdims,\n",
      "/Users/zhounan/miniconda3/envs/MODS/lib/python3.8/site-packages/numpy/lib/nanfunctions.py:1556: RuntimeWarning: All-NaN slice encountered\n",
      "  return function_base._ureduce(a,\n"
     ]
    },
    {
     "name": "stdout",
     "output_type": "stream",
     "text": [
      "Threshold:  0.381\n",
      "AUROC:  0.4888888888888889\n",
      "Sensitivity:  0.2 Specificity:  0.8148148148148148 Balanced Accuracy Score:  0.5074074074074074 MCC:  0.013781637176578718 AUC:  0.4888888888888889\n",
      "Sampling:  BorderlineSmote Scaling:  robust Classifier:  ADA\n",
      "Fitting 5 folds for each of 144 candidates, totalling 720 fits\n",
      "Tuning Done\n",
      "AdaBoostClassifier(learning_rate=1, n_estimators=200, random_state=42)\n",
      "Training done\n"
     ]
    },
    {
     "name": "stderr",
     "output_type": "stream",
     "text": [
      "/Users/zhounan/miniconda3/envs/MODS/lib/python3.8/site-packages/numpy/lib/nanfunctions.py:1217: RuntimeWarning: All-NaN slice encountered\n",
      "  return function_base._ureduce(a, func=_nanmedian, keepdims=keepdims,\n",
      "/Users/zhounan/miniconda3/envs/MODS/lib/python3.8/site-packages/numpy/lib/nanfunctions.py:1556: RuntimeWarning: All-NaN slice encountered\n",
      "  return function_base._ureduce(a,\n"
     ]
    },
    {
     "name": "stdout",
     "output_type": "stream",
     "text": [
      "Threshold:  0.444\n",
      "AUROC:  0.6666666666666667\n",
      "Sensitivity:  0.2 Specificity:  0.8148148148148148 Balanced Accuracy Score:  0.5074074074074074 MCC:  0.013781637176578718 AUC:  0.6666666666666667\n",
      "Sampling:  SVMSmote Scaling:  robust Classifier:  ADA\n",
      "Fitting 5 folds for each of 144 candidates, totalling 720 fits\n",
      "Tuning Done\n",
      "AdaBoostClassifier(learning_rate=0.3, n_estimators=100, random_state=42)\n",
      "Training done\n"
     ]
    },
    {
     "name": "stderr",
     "output_type": "stream",
     "text": [
      "/Users/zhounan/miniconda3/envs/MODS/lib/python3.8/site-packages/numpy/lib/nanfunctions.py:1217: RuntimeWarning: All-NaN slice encountered\n",
      "  return function_base._ureduce(a, func=_nanmedian, keepdims=keepdims,\n",
      "/Users/zhounan/miniconda3/envs/MODS/lib/python3.8/site-packages/numpy/lib/nanfunctions.py:1556: RuntimeWarning: All-NaN slice encountered\n",
      "  return function_base._ureduce(a,\n",
      "100%|██████████| 3/3 [05:27<00:00, 109.11s/it]\n",
      " 33%|███▎      | 3/9 [15:16<31:00, 310.16s/it]"
     ]
    },
    {
     "name": "stdout",
     "output_type": "stream",
     "text": [
      "Threshold:  0.3\n",
      "AUROC:  0.5555555555555556\n",
      "Sensitivity:  0.2 Specificity:  0.7777777777777778 Balanced Accuracy Score:  0.48888888888888893 MCC:  -0.019518001458970664 AUC:  0.5555555555555556\n",
      "For  20  genes: \n"
     ]
    },
    {
     "name": "stderr",
     "output_type": "stream",
     "text": []
    },
    {
     "name": "stdout",
     "output_type": "stream",
     "text": [
      "Scaling scheme: minmax\n",
      "Sampling:  RUS Scaling:  minmax Classifier:  ADA\n",
      "Fitting 5 folds for each of 144 candidates, totalling 720 fits\n",
      "Tuning Done\n",
      "AdaBoostClassifier(learning_rate=0.5, n_estimators=100, random_state=42)\n",
      "Training done\n"
     ]
    },
    {
     "name": "stderr",
     "output_type": "stream",
     "text": [
      "/Users/zhounan/miniconda3/envs/MODS/lib/python3.8/site-packages/sklearn/preprocessing/_data.py:479: RuntimeWarning: All-NaN slice encountered\n",
      "  data_min = np.nanmin(X, axis=0)\n",
      "/Users/zhounan/miniconda3/envs/MODS/lib/python3.8/site-packages/sklearn/preprocessing/_data.py:480: RuntimeWarning: All-NaN slice encountered\n",
      "  data_max = np.nanmax(X, axis=0)\n"
     ]
    },
    {
     "name": "stdout",
     "output_type": "stream",
     "text": [
      "Threshold:  0.166\n",
      "AUROC:  0.37777777777777777\n",
      "Sensitivity:  0.0 Specificity:  1.0 Balanced Accuracy Score:  0.5 MCC:  0.0 AUC:  0.37777777777777777\n",
      "Sampling:  REDN Scaling:  minmax Classifier:  ADA\n",
      "Fitting 5 folds for each of 144 candidates, totalling 720 fits\n",
      "Tuning Done\n",
      "AdaBoostClassifier(algorithm='SAMME', learning_rate=0.1, n_estimators=100,\n",
      "                   random_state=42)\n",
      "Training done\n"
     ]
    },
    {
     "name": "stderr",
     "output_type": "stream",
     "text": [
      "/Users/zhounan/miniconda3/envs/MODS/lib/python3.8/site-packages/sklearn/preprocessing/_data.py:479: RuntimeWarning: All-NaN slice encountered\n",
      "  data_min = np.nanmin(X, axis=0)\n",
      "/Users/zhounan/miniconda3/envs/MODS/lib/python3.8/site-packages/sklearn/preprocessing/_data.py:480: RuntimeWarning: All-NaN slice encountered\n",
      "  data_max = np.nanmax(X, axis=0)\n"
     ]
    },
    {
     "name": "stdout",
     "output_type": "stream",
     "text": [
      "Threshold:  0.385\n",
      "AUROC:  0.5518518518518519\n",
      "Sensitivity:  0.0 Specificity:  0.8888888888888888 Balanced Accuracy Score:  0.4444444444444444 MCC:  -0.1384091330895666 AUC:  0.5518518518518519\n",
      "Sampling:  CC Scaling:  minmax Classifier:  ADA\n",
      "Fitting 5 folds for each of 144 candidates, totalling 720 fits\n",
      "Tuning Done\n",
      "AdaBoostClassifier(algorithm='SAMME', learning_rate=1, n_estimators=100,\n",
      "                   random_state=42)\n",
      "Training done\n"
     ]
    },
    {
     "name": "stderr",
     "output_type": "stream",
     "text": [
      "/Users/zhounan/miniconda3/envs/MODS/lib/python3.8/site-packages/sklearn/preprocessing/_data.py:479: RuntimeWarning: All-NaN slice encountered\n",
      "  data_min = np.nanmin(X, axis=0)\n",
      "/Users/zhounan/miniconda3/envs/MODS/lib/python3.8/site-packages/sklearn/preprocessing/_data.py:480: RuntimeWarning: All-NaN slice encountered\n",
      "  data_max = np.nanmax(X, axis=0)\n"
     ]
    },
    {
     "name": "stdout",
     "output_type": "stream",
     "text": [
      "Threshold:  0.389\n",
      "AUROC:  0.6444444444444445\n",
      "Sensitivity:  0.0 Specificity:  1.0 Balanced Accuracy Score:  0.5 MCC:  0.0 AUC:  0.6444444444444445\n",
      "Sampling:  IHT Scaling:  minmax Classifier:  ADA\n",
      "Fitting 5 folds for each of 144 candidates, totalling 720 fits\n",
      "Tuning Done\n",
      "AdaBoostClassifier(algorithm='SAMME', learning_rate=0.1, n_estimators=5,\n",
      "                   random_state=42)\n",
      "Training done\n"
     ]
    },
    {
     "name": "stderr",
     "output_type": "stream",
     "text": [
      "/Users/zhounan/miniconda3/envs/MODS/lib/python3.8/site-packages/sklearn/preprocessing/_data.py:479: RuntimeWarning: All-NaN slice encountered\n",
      "  data_min = np.nanmin(X, axis=0)\n",
      "/Users/zhounan/miniconda3/envs/MODS/lib/python3.8/site-packages/sklearn/preprocessing/_data.py:480: RuntimeWarning: All-NaN slice encountered\n",
      "  data_max = np.nanmax(X, axis=0)\n"
     ]
    },
    {
     "name": "stdout",
     "output_type": "stream",
     "text": [
      "Threshold:  0.0\n",
      "AUROC:  0.42592592592592593\n",
      "Sensitivity:  0.0 Specificity:  0.8518518518518519 Balanced Accuracy Score:  0.42592592592592593 MCC:  -0.16265001215808886 AUC:  0.42592592592592593\n",
      "Sampling:  NearMiss Scaling:  minmax Classifier:  ADA\n",
      "Fitting 5 folds for each of 144 candidates, totalling 720 fits\n",
      "Tuning Done\n",
      "AdaBoostClassifier(algorithm='SAMME', learning_rate=1, n_estimators=500,\n",
      "                   random_state=42)\n",
      "Training done\n"
     ]
    },
    {
     "name": "stderr",
     "output_type": "stream",
     "text": [
      "/Users/zhounan/miniconda3/envs/MODS/lib/python3.8/site-packages/sklearn/preprocessing/_data.py:479: RuntimeWarning: All-NaN slice encountered\n",
      "  data_min = np.nanmin(X, axis=0)\n",
      "/Users/zhounan/miniconda3/envs/MODS/lib/python3.8/site-packages/sklearn/preprocessing/_data.py:480: RuntimeWarning: All-NaN slice encountered\n",
      "  data_max = np.nanmax(X, axis=0)\n"
     ]
    },
    {
     "name": "stdout",
     "output_type": "stream",
     "text": [
      "Threshold:  0.454\n",
      "AUROC:  0.6296296296296295\n",
      "Sensitivity:  0.0 Specificity:  0.9629629629629629 Balanced Accuracy Score:  0.48148148148148145 MCC:  -0.07728981596002805 AUC:  0.6296296296296295\n",
      "Sampling:  EDN Scaling:  minmax Classifier:  ADA\n",
      "Fitting 5 folds for each of 144 candidates, totalling 720 fits\n",
      "Tuning Done\n",
      "AdaBoostClassifier(learning_rate=1, n_estimators=200, random_state=42)\n",
      "Training done\n"
     ]
    },
    {
     "name": "stderr",
     "output_type": "stream",
     "text": [
      "/Users/zhounan/miniconda3/envs/MODS/lib/python3.8/site-packages/sklearn/preprocessing/_data.py:479: RuntimeWarning: All-NaN slice encountered\n",
      "  data_min = np.nanmin(X, axis=0)\n",
      "/Users/zhounan/miniconda3/envs/MODS/lib/python3.8/site-packages/sklearn/preprocessing/_data.py:480: RuntimeWarning: All-NaN slice encountered\n",
      "  data_max = np.nanmax(X, axis=0)\n"
     ]
    },
    {
     "name": "stdout",
     "output_type": "stream",
     "text": [
      "Threshold:  0.032\n",
      "AUROC:  0.5777777777777777\n",
      "Sensitivity:  0.0 Specificity:  0.9629629629629629 Balanced Accuracy Score:  0.48148148148148145 MCC:  -0.07728981596002805 AUC:  0.5777777777777777\n",
      "Sampling:  Tomek Scaling:  minmax Classifier:  ADA\n",
      "Fitting 5 folds for each of 144 candidates, totalling 720 fits\n",
      "Tuning Done\n",
      "AdaBoostClassifier(learning_rate=0.5, n_estimators=20, random_state=42)\n",
      "Training done\n"
     ]
    },
    {
     "name": "stderr",
     "output_type": "stream",
     "text": [
      "/Users/zhounan/miniconda3/envs/MODS/lib/python3.8/site-packages/sklearn/preprocessing/_data.py:479: RuntimeWarning: All-NaN slice encountered\n",
      "  data_min = np.nanmin(X, axis=0)\n",
      "/Users/zhounan/miniconda3/envs/MODS/lib/python3.8/site-packages/sklearn/preprocessing/_data.py:480: RuntimeWarning: All-NaN slice encountered\n",
      "  data_max = np.nanmax(X, axis=0)\n"
     ]
    },
    {
     "name": "stdout",
     "output_type": "stream",
     "text": [
      "Threshold:  0.053\n",
      "AUROC:  0.4814814814814815\n",
      "Sensitivity:  0.0 Specificity:  1.0 Balanced Accuracy Score:  0.5 MCC:  0.0 AUC:  0.4814814814814815\n",
      "Sampling:  Allknn Scaling:  minmax Classifier:  ADA\n",
      "Fitting 5 folds for each of 144 candidates, totalling 720 fits\n",
      "Tuning Done\n",
      "AdaBoostClassifier(algorithm='SAMME', learning_rate=0.1, n_estimators=200,\n",
      "                   random_state=42)\n",
      "Training done\n"
     ]
    },
    {
     "name": "stderr",
     "output_type": "stream",
     "text": [
      "/Users/zhounan/miniconda3/envs/MODS/lib/python3.8/site-packages/sklearn/preprocessing/_data.py:479: RuntimeWarning: All-NaN slice encountered\n",
      "  data_min = np.nanmin(X, axis=0)\n",
      "/Users/zhounan/miniconda3/envs/MODS/lib/python3.8/site-packages/sklearn/preprocessing/_data.py:480: RuntimeWarning: All-NaN slice encountered\n",
      "  data_max = np.nanmax(X, axis=0)\n"
     ]
    },
    {
     "name": "stdout",
     "output_type": "stream",
     "text": [
      "Threshold:  0.386\n",
      "AUROC:  0.5777777777777778\n",
      "Sensitivity:  0.0 Specificity:  0.8518518518518519 Balanced Accuracy Score:  0.42592592592592593 MCC:  -0.16265001215808886 AUC:  0.5777777777777778\n",
      "Sampling:  CondensedNN Scaling:  minmax Classifier:  ADA\n",
      "Fitting 5 folds for each of 144 candidates, totalling 720 fits\n",
      "Tuning Done\n",
      "AdaBoostClassifier(learning_rate=0.3, n_estimators=21, random_state=42)\n",
      "Training done\n"
     ]
    },
    {
     "name": "stderr",
     "output_type": "stream",
     "text": [
      "/Users/zhounan/miniconda3/envs/MODS/lib/python3.8/site-packages/sklearn/preprocessing/_data.py:479: RuntimeWarning: All-NaN slice encountered\n",
      "  data_min = np.nanmin(X, axis=0)\n",
      "/Users/zhounan/miniconda3/envs/MODS/lib/python3.8/site-packages/sklearn/preprocessing/_data.py:480: RuntimeWarning: All-NaN slice encountered\n",
      "  data_max = np.nanmax(X, axis=0)\n"
     ]
    },
    {
     "name": "stdout",
     "output_type": "stream",
     "text": [
      "Threshold:  0.123\n",
      "AUROC:  0.6111111111111112\n",
      "Sensitivity:  0.2 Specificity:  0.9259259259259259 Balanced Accuracy Score:  0.562962962962963 MCC:  0.15686368416817548 AUC:  0.6111111111111112\n",
      "Sampling:  OSS Scaling:  minmax Classifier:  ADA\n",
      "Fitting 5 folds for each of 144 candidates, totalling 720 fits\n",
      "Tuning Done\n",
      "AdaBoostClassifier(learning_rate=0.5, n_estimators=200, random_state=42)\n",
      "Training done\n"
     ]
    },
    {
     "name": "stderr",
     "output_type": "stream",
     "text": [
      "/Users/zhounan/miniconda3/envs/MODS/lib/python3.8/site-packages/sklearn/preprocessing/_data.py:479: RuntimeWarning: All-NaN slice encountered\n",
      "  data_min = np.nanmin(X, axis=0)\n",
      "/Users/zhounan/miniconda3/envs/MODS/lib/python3.8/site-packages/sklearn/preprocessing/_data.py:480: RuntimeWarning: All-NaN slice encountered\n",
      "  data_max = np.nanmax(X, axis=0)\n"
     ]
    },
    {
     "name": "stdout",
     "output_type": "stream",
     "text": [
      "Threshold:  0.336\n",
      "AUROC:  0.49629629629629635\n",
      "Sensitivity:  0.0 Specificity:  1.0 Balanced Accuracy Score:  0.5 MCC:  0.0 AUC:  0.49629629629629635\n",
      "Sampling:  SMOTE Scaling:  minmax Classifier:  ADA\n",
      "Fitting 5 folds for each of 144 candidates, totalling 720 fits\n",
      "Tuning Done\n",
      "AdaBoostClassifier(learning_rate=0.1, n_estimators=100, random_state=42)\n",
      "Training done\n"
     ]
    },
    {
     "name": "stderr",
     "output_type": "stream",
     "text": [
      "/Users/zhounan/miniconda3/envs/MODS/lib/python3.8/site-packages/sklearn/preprocessing/_data.py:479: RuntimeWarning: All-NaN slice encountered\n",
      "  data_min = np.nanmin(X, axis=0)\n",
      "/Users/zhounan/miniconda3/envs/MODS/lib/python3.8/site-packages/sklearn/preprocessing/_data.py:480: RuntimeWarning: All-NaN slice encountered\n",
      "  data_max = np.nanmax(X, axis=0)\n"
     ]
    },
    {
     "name": "stdout",
     "output_type": "stream",
     "text": [
      "Threshold:  0.246\n",
      "AUROC:  0.562962962962963\n",
      "Sensitivity:  0.0 Specificity:  1.0 Balanced Accuracy Score:  0.5 MCC:  0.0 AUC:  0.562962962962963\n",
      "Sampling:  ROS Scaling:  minmax Classifier:  ADA\n",
      "Fitting 5 folds for each of 144 candidates, totalling 720 fits\n",
      "Tuning Done\n",
      "AdaBoostClassifier(learning_rate=1, n_estimators=500, random_state=42)\n",
      "Training done\n"
     ]
    },
    {
     "name": "stderr",
     "output_type": "stream",
     "text": [
      "/Users/zhounan/miniconda3/envs/MODS/lib/python3.8/site-packages/sklearn/preprocessing/_data.py:479: RuntimeWarning: All-NaN slice encountered\n",
      "  data_min = np.nanmin(X, axis=0)\n",
      "/Users/zhounan/miniconda3/envs/MODS/lib/python3.8/site-packages/sklearn/preprocessing/_data.py:480: RuntimeWarning: All-NaN slice encountered\n",
      "  data_max = np.nanmax(X, axis=0)\n"
     ]
    },
    {
     "name": "stdout",
     "output_type": "stream",
     "text": [
      "Threshold:  0.321\n",
      "AUROC:  0.562962962962963\n",
      "Sensitivity:  0.0 Specificity:  0.9629629629629629 Balanced Accuracy Score:  0.48148148148148145 MCC:  -0.07728981596002805 AUC:  0.562962962962963\n",
      "Sampling:  ADASYN Scaling:  minmax Classifier:  ADA\n",
      "Fitting 5 folds for each of 144 candidates, totalling 720 fits\n",
      "Tuning Done\n",
      "AdaBoostClassifier(algorithm='SAMME', learning_rate=1, n_estimators=200,\n",
      "                   random_state=42)\n",
      "Training done\n"
     ]
    },
    {
     "name": "stderr",
     "output_type": "stream",
     "text": [
      "/Users/zhounan/miniconda3/envs/MODS/lib/python3.8/site-packages/sklearn/preprocessing/_data.py:479: RuntimeWarning: All-NaN slice encountered\n",
      "  data_min = np.nanmin(X, axis=0)\n",
      "/Users/zhounan/miniconda3/envs/MODS/lib/python3.8/site-packages/sklearn/preprocessing/_data.py:480: RuntimeWarning: All-NaN slice encountered\n",
      "  data_max = np.nanmax(X, axis=0)\n"
     ]
    },
    {
     "name": "stdout",
     "output_type": "stream",
     "text": [
      "Threshold:  0.424\n",
      "AUROC:  0.5407407407407407\n",
      "Sensitivity:  0.0 Specificity:  1.0 Balanced Accuracy Score:  0.5 MCC:  0.0 AUC:  0.5407407407407407\n",
      "Sampling:  KmeansSmote Scaling:  minmax Classifier:  ADA\n",
      "Fitting 5 folds for each of 144 candidates, totalling 720 fits\n"
     ]
    },
    {
     "name": "stderr",
     "output_type": "stream",
     "text": [
      "  0%|          | 0/3 [01:45<?, ?it/s]\n",
      " 33%|███▎      | 3/9 [17:02<34:04, 340.76s/it]\n"
     ]
    },
    {
     "ename": "KeyboardInterrupt",
     "evalue": "",
     "output_type": "error",
     "traceback": [
      "\u001b[0;31m---------------------------------------------------------------------------\u001b[0m",
      "\u001b[0;31mKeyboardInterrupt\u001b[0m                         Traceback (most recent call last)",
      "Cell \u001b[0;32mIn[16], line 33\u001b[0m\n\u001b[1;32m     31\u001b[0m name_id \u001b[38;5;241m=\u001b[39m \u001b[38;5;124m\"\u001b[39m\u001b[38;5;124mFeatures_\u001b[39m\u001b[38;5;124m\"\u001b[39m\u001b[38;5;241m+\u001b[39m\u001b[38;5;28mstr\u001b[39m(feats[n])\u001b[38;5;241m+\u001b[39m\u001b[38;5;124m\"\u001b[39m\u001b[38;5;124m_\u001b[39m\u001b[38;5;124m\"\u001b[39m\u001b[38;5;241m+\u001b[39m scaler_names[s]\u001b[38;5;241m+\u001b[39m\u001b[38;5;124m\"\u001b[39m\u001b[38;5;124m_\u001b[39m\u001b[38;5;124m\"\u001b[39m\u001b[38;5;241m+\u001b[39msampling_names[samp]\u001b[38;5;241m+\u001b[39m\u001b[38;5;124m\"\u001b[39m\u001b[38;5;124m_\u001b[39m\u001b[38;5;124m\"\u001b[39m\u001b[38;5;241m+\u001b[39mclassifier_names[\u001b[38;5;241m0\u001b[39m]\n\u001b[1;32m     32\u001b[0m \u001b[38;5;66;03m#tuning KNN classifier\u001b[39;00m\n\u001b[0;32m---> 33\u001b[0m best_model \u001b[38;5;241m=\u001b[39m \u001b[43mmodel_tune_ada\u001b[49m\u001b[43m(\u001b[49m\u001b[43mX_samp\u001b[49m\u001b[43m,\u001b[49m\u001b[43m \u001b[49m\u001b[43my_samp\u001b[49m\u001b[43m)\u001b[49m\n\u001b[1;32m     34\u001b[0m \u001b[38;5;28mprint\u001b[39m(best_model)\n\u001b[1;32m     35\u001b[0m model\u001b[38;5;241m.\u001b[39mappend(best_model)\n",
      "Cell \u001b[0;32mIn[12], line 23\u001b[0m, in \u001b[0;36mmodel_tune_ada\u001b[0;34m(X_samp, y_samp)\u001b[0m\n\u001b[1;32m     21\u001b[0m clf \u001b[38;5;241m=\u001b[39m GridSearchCV(rf, grid_params, verbose\u001b[38;5;241m=\u001b[39m\u001b[38;5;241m1\u001b[39m, cv\u001b[38;5;241m=\u001b[39m\u001b[38;5;241m5\u001b[39m, n_jobs\u001b[38;5;241m=\u001b[39m\u001b[38;5;241m110\u001b[39m)\n\u001b[1;32m     22\u001b[0m \u001b[38;5;66;03m# 执行网格搜索，拟合数据\u001b[39;00m\n\u001b[0;32m---> 23\u001b[0m \u001b[43mclf\u001b[49m\u001b[38;5;241;43m.\u001b[39;49m\u001b[43mfit\u001b[49m\u001b[43m(\u001b[49m\u001b[43mX_samp\u001b[49m\u001b[43m,\u001b[49m\u001b[43m \u001b[49m\u001b[43my_samp\u001b[49m\u001b[43m)\u001b[49m\n\u001b[1;32m     24\u001b[0m \u001b[38;5;28mprint\u001b[39m(\u001b[38;5;124m\"\u001b[39m\u001b[38;5;124mTuning Done\u001b[39m\u001b[38;5;124m\"\u001b[39m)\n\u001b[1;32m     25\u001b[0m \u001b[38;5;66;03m# 获取最佳模型\u001b[39;00m\n",
      "File \u001b[0;32m~/miniconda3/envs/MODS/lib/python3.8/site-packages/sklearn/base.py:1151\u001b[0m, in \u001b[0;36m_fit_context.<locals>.decorator.<locals>.wrapper\u001b[0;34m(estimator, *args, **kwargs)\u001b[0m\n\u001b[1;32m   1144\u001b[0m     estimator\u001b[38;5;241m.\u001b[39m_validate_params()\n\u001b[1;32m   1146\u001b[0m \u001b[38;5;28;01mwith\u001b[39;00m config_context(\n\u001b[1;32m   1147\u001b[0m     skip_parameter_validation\u001b[38;5;241m=\u001b[39m(\n\u001b[1;32m   1148\u001b[0m         prefer_skip_nested_validation \u001b[38;5;129;01mor\u001b[39;00m global_skip_validation\n\u001b[1;32m   1149\u001b[0m     )\n\u001b[1;32m   1150\u001b[0m ):\n\u001b[0;32m-> 1151\u001b[0m     \u001b[38;5;28;01mreturn\u001b[39;00m \u001b[43mfit_method\u001b[49m\u001b[43m(\u001b[49m\u001b[43mestimator\u001b[49m\u001b[43m,\u001b[49m\u001b[43m \u001b[49m\u001b[38;5;241;43m*\u001b[39;49m\u001b[43margs\u001b[49m\u001b[43m,\u001b[49m\u001b[43m \u001b[49m\u001b[38;5;241;43m*\u001b[39;49m\u001b[38;5;241;43m*\u001b[39;49m\u001b[43mkwargs\u001b[49m\u001b[43m)\u001b[49m\n",
      "File \u001b[0;32m~/miniconda3/envs/MODS/lib/python3.8/site-packages/sklearn/model_selection/_search.py:898\u001b[0m, in \u001b[0;36mBaseSearchCV.fit\u001b[0;34m(self, X, y, groups, **fit_params)\u001b[0m\n\u001b[1;32m    892\u001b[0m     results \u001b[38;5;241m=\u001b[39m \u001b[38;5;28mself\u001b[39m\u001b[38;5;241m.\u001b[39m_format_results(\n\u001b[1;32m    893\u001b[0m         all_candidate_params, n_splits, all_out, all_more_results\n\u001b[1;32m    894\u001b[0m     )\n\u001b[1;32m    896\u001b[0m     \u001b[38;5;28;01mreturn\u001b[39;00m results\n\u001b[0;32m--> 898\u001b[0m \u001b[38;5;28;43mself\u001b[39;49m\u001b[38;5;241;43m.\u001b[39;49m\u001b[43m_run_search\u001b[49m\u001b[43m(\u001b[49m\u001b[43mevaluate_candidates\u001b[49m\u001b[43m)\u001b[49m\n\u001b[1;32m    900\u001b[0m \u001b[38;5;66;03m# multimetric is determined here because in the case of a callable\u001b[39;00m\n\u001b[1;32m    901\u001b[0m \u001b[38;5;66;03m# self.scoring the return type is only known after calling\u001b[39;00m\n\u001b[1;32m    902\u001b[0m first_test_score \u001b[38;5;241m=\u001b[39m all_out[\u001b[38;5;241m0\u001b[39m][\u001b[38;5;124m\"\u001b[39m\u001b[38;5;124mtest_scores\u001b[39m\u001b[38;5;124m\"\u001b[39m]\n",
      "File \u001b[0;32m~/miniconda3/envs/MODS/lib/python3.8/site-packages/sklearn/model_selection/_search.py:1419\u001b[0m, in \u001b[0;36mGridSearchCV._run_search\u001b[0;34m(self, evaluate_candidates)\u001b[0m\n\u001b[1;32m   1417\u001b[0m \u001b[38;5;28;01mdef\u001b[39;00m \u001b[38;5;21m_run_search\u001b[39m(\u001b[38;5;28mself\u001b[39m, evaluate_candidates):\n\u001b[1;32m   1418\u001b[0m \u001b[38;5;250m    \u001b[39m\u001b[38;5;124;03m\"\"\"Search all candidates in param_grid\"\"\"\u001b[39;00m\n\u001b[0;32m-> 1419\u001b[0m     \u001b[43mevaluate_candidates\u001b[49m\u001b[43m(\u001b[49m\u001b[43mParameterGrid\u001b[49m\u001b[43m(\u001b[49m\u001b[38;5;28;43mself\u001b[39;49m\u001b[38;5;241;43m.\u001b[39;49m\u001b[43mparam_grid\u001b[49m\u001b[43m)\u001b[49m\u001b[43m)\u001b[49m\n",
      "File \u001b[0;32m~/miniconda3/envs/MODS/lib/python3.8/site-packages/sklearn/model_selection/_search.py:845\u001b[0m, in \u001b[0;36mBaseSearchCV.fit.<locals>.evaluate_candidates\u001b[0;34m(candidate_params, cv, more_results)\u001b[0m\n\u001b[1;32m    837\u001b[0m \u001b[38;5;28;01mif\u001b[39;00m \u001b[38;5;28mself\u001b[39m\u001b[38;5;241m.\u001b[39mverbose \u001b[38;5;241m>\u001b[39m \u001b[38;5;241m0\u001b[39m:\n\u001b[1;32m    838\u001b[0m     \u001b[38;5;28mprint\u001b[39m(\n\u001b[1;32m    839\u001b[0m         \u001b[38;5;124m\"\u001b[39m\u001b[38;5;124mFitting \u001b[39m\u001b[38;5;132;01m{0}\u001b[39;00m\u001b[38;5;124m folds for each of \u001b[39m\u001b[38;5;132;01m{1}\u001b[39;00m\u001b[38;5;124m candidates,\u001b[39m\u001b[38;5;124m\"\u001b[39m\n\u001b[1;32m    840\u001b[0m         \u001b[38;5;124m\"\u001b[39m\u001b[38;5;124m totalling \u001b[39m\u001b[38;5;132;01m{2}\u001b[39;00m\u001b[38;5;124m fits\u001b[39m\u001b[38;5;124m\"\u001b[39m\u001b[38;5;241m.\u001b[39mformat(\n\u001b[1;32m    841\u001b[0m             n_splits, n_candidates, n_candidates \u001b[38;5;241m*\u001b[39m n_splits\n\u001b[1;32m    842\u001b[0m         )\n\u001b[1;32m    843\u001b[0m     )\n\u001b[0;32m--> 845\u001b[0m out \u001b[38;5;241m=\u001b[39m \u001b[43mparallel\u001b[49m\u001b[43m(\u001b[49m\n\u001b[1;32m    846\u001b[0m \u001b[43m    \u001b[49m\u001b[43mdelayed\u001b[49m\u001b[43m(\u001b[49m\u001b[43m_fit_and_score\u001b[49m\u001b[43m)\u001b[49m\u001b[43m(\u001b[49m\n\u001b[1;32m    847\u001b[0m \u001b[43m        \u001b[49m\u001b[43mclone\u001b[49m\u001b[43m(\u001b[49m\u001b[43mbase_estimator\u001b[49m\u001b[43m)\u001b[49m\u001b[43m,\u001b[49m\n\u001b[1;32m    848\u001b[0m \u001b[43m        \u001b[49m\u001b[43mX\u001b[49m\u001b[43m,\u001b[49m\n\u001b[1;32m    849\u001b[0m \u001b[43m        \u001b[49m\u001b[43my\u001b[49m\u001b[43m,\u001b[49m\n\u001b[1;32m    850\u001b[0m \u001b[43m        \u001b[49m\u001b[43mtrain\u001b[49m\u001b[38;5;241;43m=\u001b[39;49m\u001b[43mtrain\u001b[49m\u001b[43m,\u001b[49m\n\u001b[1;32m    851\u001b[0m \u001b[43m        \u001b[49m\u001b[43mtest\u001b[49m\u001b[38;5;241;43m=\u001b[39;49m\u001b[43mtest\u001b[49m\u001b[43m,\u001b[49m\n\u001b[1;32m    852\u001b[0m \u001b[43m        \u001b[49m\u001b[43mparameters\u001b[49m\u001b[38;5;241;43m=\u001b[39;49m\u001b[43mparameters\u001b[49m\u001b[43m,\u001b[49m\n\u001b[1;32m    853\u001b[0m \u001b[43m        \u001b[49m\u001b[43msplit_progress\u001b[49m\u001b[38;5;241;43m=\u001b[39;49m\u001b[43m(\u001b[49m\u001b[43msplit_idx\u001b[49m\u001b[43m,\u001b[49m\u001b[43m \u001b[49m\u001b[43mn_splits\u001b[49m\u001b[43m)\u001b[49m\u001b[43m,\u001b[49m\n\u001b[1;32m    854\u001b[0m \u001b[43m        \u001b[49m\u001b[43mcandidate_progress\u001b[49m\u001b[38;5;241;43m=\u001b[39;49m\u001b[43m(\u001b[49m\u001b[43mcand_idx\u001b[49m\u001b[43m,\u001b[49m\u001b[43m \u001b[49m\u001b[43mn_candidates\u001b[49m\u001b[43m)\u001b[49m\u001b[43m,\u001b[49m\n\u001b[1;32m    855\u001b[0m \u001b[43m        \u001b[49m\u001b[38;5;241;43m*\u001b[39;49m\u001b[38;5;241;43m*\u001b[39;49m\u001b[43mfit_and_score_kwargs\u001b[49m\u001b[43m,\u001b[49m\n\u001b[1;32m    856\u001b[0m \u001b[43m    \u001b[49m\u001b[43m)\u001b[49m\n\u001b[1;32m    857\u001b[0m \u001b[43m    \u001b[49m\u001b[38;5;28;43;01mfor\u001b[39;49;00m\u001b[43m \u001b[49m\u001b[43m(\u001b[49m\u001b[43mcand_idx\u001b[49m\u001b[43m,\u001b[49m\u001b[43m \u001b[49m\u001b[43mparameters\u001b[49m\u001b[43m)\u001b[49m\u001b[43m,\u001b[49m\u001b[43m \u001b[49m\u001b[43m(\u001b[49m\u001b[43msplit_idx\u001b[49m\u001b[43m,\u001b[49m\u001b[43m \u001b[49m\u001b[43m(\u001b[49m\u001b[43mtrain\u001b[49m\u001b[43m,\u001b[49m\u001b[43m \u001b[49m\u001b[43mtest\u001b[49m\u001b[43m)\u001b[49m\u001b[43m)\u001b[49m\u001b[43m \u001b[49m\u001b[38;5;129;43;01min\u001b[39;49;00m\u001b[43m \u001b[49m\u001b[43mproduct\u001b[49m\u001b[43m(\u001b[49m\n\u001b[1;32m    858\u001b[0m \u001b[43m        \u001b[49m\u001b[38;5;28;43menumerate\u001b[39;49m\u001b[43m(\u001b[49m\u001b[43mcandidate_params\u001b[49m\u001b[43m)\u001b[49m\u001b[43m,\u001b[49m\u001b[43m \u001b[49m\u001b[38;5;28;43menumerate\u001b[39;49m\u001b[43m(\u001b[49m\u001b[43mcv\u001b[49m\u001b[38;5;241;43m.\u001b[39;49m\u001b[43msplit\u001b[49m\u001b[43m(\u001b[49m\u001b[43mX\u001b[49m\u001b[43m,\u001b[49m\u001b[43m \u001b[49m\u001b[43my\u001b[49m\u001b[43m,\u001b[49m\u001b[43m \u001b[49m\u001b[43mgroups\u001b[49m\u001b[43m)\u001b[49m\u001b[43m)\u001b[49m\n\u001b[1;32m    859\u001b[0m \u001b[43m    \u001b[49m\u001b[43m)\u001b[49m\n\u001b[1;32m    860\u001b[0m \u001b[43m\u001b[49m\u001b[43m)\u001b[49m\n\u001b[1;32m    862\u001b[0m \u001b[38;5;28;01mif\u001b[39;00m \u001b[38;5;28mlen\u001b[39m(out) \u001b[38;5;241m<\u001b[39m \u001b[38;5;241m1\u001b[39m:\n\u001b[1;32m    863\u001b[0m     \u001b[38;5;28;01mraise\u001b[39;00m \u001b[38;5;167;01mValueError\u001b[39;00m(\n\u001b[1;32m    864\u001b[0m         \u001b[38;5;124m\"\u001b[39m\u001b[38;5;124mNo fits were performed. \u001b[39m\u001b[38;5;124m\"\u001b[39m\n\u001b[1;32m    865\u001b[0m         \u001b[38;5;124m\"\u001b[39m\u001b[38;5;124mWas the CV iterator empty? \u001b[39m\u001b[38;5;124m\"\u001b[39m\n\u001b[1;32m    866\u001b[0m         \u001b[38;5;124m\"\u001b[39m\u001b[38;5;124mWere there no candidates?\u001b[39m\u001b[38;5;124m\"\u001b[39m\n\u001b[1;32m    867\u001b[0m     )\n",
      "File \u001b[0;32m~/miniconda3/envs/MODS/lib/python3.8/site-packages/sklearn/utils/parallel.py:65\u001b[0m, in \u001b[0;36mParallel.__call__\u001b[0;34m(self, iterable)\u001b[0m\n\u001b[1;32m     60\u001b[0m config \u001b[38;5;241m=\u001b[39m get_config()\n\u001b[1;32m     61\u001b[0m iterable_with_config \u001b[38;5;241m=\u001b[39m (\n\u001b[1;32m     62\u001b[0m     (_with_config(delayed_func, config), args, kwargs)\n\u001b[1;32m     63\u001b[0m     \u001b[38;5;28;01mfor\u001b[39;00m delayed_func, args, kwargs \u001b[38;5;129;01min\u001b[39;00m iterable\n\u001b[1;32m     64\u001b[0m )\n\u001b[0;32m---> 65\u001b[0m \u001b[38;5;28;01mreturn\u001b[39;00m \u001b[38;5;28;43msuper\u001b[39;49m\u001b[43m(\u001b[49m\u001b[43m)\u001b[49m\u001b[38;5;241;43m.\u001b[39;49m\u001b[38;5;21;43m__call__\u001b[39;49m\u001b[43m(\u001b[49m\u001b[43miterable_with_config\u001b[49m\u001b[43m)\u001b[49m\n",
      "File \u001b[0;32m~/miniconda3/envs/MODS/lib/python3.8/site-packages/joblib/parallel.py:2007\u001b[0m, in \u001b[0;36mParallel.__call__\u001b[0;34m(self, iterable)\u001b[0m\n\u001b[1;32m   2001\u001b[0m \u001b[38;5;66;03m# The first item from the output is blank, but it makes the interpreter\u001b[39;00m\n\u001b[1;32m   2002\u001b[0m \u001b[38;5;66;03m# progress until it enters the Try/Except block of the generator and\u001b[39;00m\n\u001b[1;32m   2003\u001b[0m \u001b[38;5;66;03m# reach the first `yield` statement. This starts the aynchronous\u001b[39;00m\n\u001b[1;32m   2004\u001b[0m \u001b[38;5;66;03m# dispatch of the tasks to the workers.\u001b[39;00m\n\u001b[1;32m   2005\u001b[0m \u001b[38;5;28mnext\u001b[39m(output)\n\u001b[0;32m-> 2007\u001b[0m \u001b[38;5;28;01mreturn\u001b[39;00m output \u001b[38;5;28;01mif\u001b[39;00m \u001b[38;5;28mself\u001b[39m\u001b[38;5;241m.\u001b[39mreturn_generator \u001b[38;5;28;01melse\u001b[39;00m \u001b[38;5;28;43mlist\u001b[39;49m\u001b[43m(\u001b[49m\u001b[43moutput\u001b[49m\u001b[43m)\u001b[49m\n",
      "File \u001b[0;32m~/miniconda3/envs/MODS/lib/python3.8/site-packages/joblib/parallel.py:1650\u001b[0m, in \u001b[0;36mParallel._get_outputs\u001b[0;34m(self, iterator, pre_dispatch)\u001b[0m\n\u001b[1;32m   1647\u001b[0m     \u001b[38;5;28;01myield\u001b[39;00m\n\u001b[1;32m   1649\u001b[0m     \u001b[38;5;28;01mwith\u001b[39;00m \u001b[38;5;28mself\u001b[39m\u001b[38;5;241m.\u001b[39m_backend\u001b[38;5;241m.\u001b[39mretrieval_context():\n\u001b[0;32m-> 1650\u001b[0m         \u001b[38;5;28;01myield from\u001b[39;00m \u001b[38;5;28mself\u001b[39m\u001b[38;5;241m.\u001b[39m_retrieve()\n\u001b[1;32m   1652\u001b[0m \u001b[38;5;28;01mexcept\u001b[39;00m \u001b[38;5;167;01mGeneratorExit\u001b[39;00m:\n\u001b[1;32m   1653\u001b[0m     \u001b[38;5;66;03m# The generator has been garbage collected before being fully\u001b[39;00m\n\u001b[1;32m   1654\u001b[0m     \u001b[38;5;66;03m# consumed. This aborts the remaining tasks if possible and warn\u001b[39;00m\n\u001b[1;32m   1655\u001b[0m     \u001b[38;5;66;03m# the user if necessary.\u001b[39;00m\n\u001b[1;32m   1656\u001b[0m     \u001b[38;5;28mself\u001b[39m\u001b[38;5;241m.\u001b[39m_exception \u001b[38;5;241m=\u001b[39m \u001b[38;5;28;01mTrue\u001b[39;00m\n",
      "File \u001b[0;32m~/miniconda3/envs/MODS/lib/python3.8/site-packages/joblib/parallel.py:1762\u001b[0m, in \u001b[0;36mParallel._retrieve\u001b[0;34m(self)\u001b[0m\n\u001b[1;32m   1757\u001b[0m \u001b[38;5;66;03m# If the next job is not ready for retrieval yet, we just wait for\u001b[39;00m\n\u001b[1;32m   1758\u001b[0m \u001b[38;5;66;03m# async callbacks to progress.\u001b[39;00m\n\u001b[1;32m   1759\u001b[0m \u001b[38;5;28;01mif\u001b[39;00m ((\u001b[38;5;28mlen\u001b[39m(\u001b[38;5;28mself\u001b[39m\u001b[38;5;241m.\u001b[39m_jobs) \u001b[38;5;241m==\u001b[39m \u001b[38;5;241m0\u001b[39m) \u001b[38;5;129;01mor\u001b[39;00m\n\u001b[1;32m   1760\u001b[0m     (\u001b[38;5;28mself\u001b[39m\u001b[38;5;241m.\u001b[39m_jobs[\u001b[38;5;241m0\u001b[39m]\u001b[38;5;241m.\u001b[39mget_status(\n\u001b[1;32m   1761\u001b[0m         timeout\u001b[38;5;241m=\u001b[39m\u001b[38;5;28mself\u001b[39m\u001b[38;5;241m.\u001b[39mtimeout) \u001b[38;5;241m==\u001b[39m TASK_PENDING)):\n\u001b[0;32m-> 1762\u001b[0m     \u001b[43mtime\u001b[49m\u001b[38;5;241;43m.\u001b[39;49m\u001b[43msleep\u001b[49m\u001b[43m(\u001b[49m\u001b[38;5;241;43m0.01\u001b[39;49m\u001b[43m)\u001b[49m\n\u001b[1;32m   1763\u001b[0m     \u001b[38;5;28;01mcontinue\u001b[39;00m\n\u001b[1;32m   1765\u001b[0m \u001b[38;5;66;03m# We need to be careful: the job list can be filling up as\u001b[39;00m\n\u001b[1;32m   1766\u001b[0m \u001b[38;5;66;03m# we empty it and Python list are not thread-safe by\u001b[39;00m\n\u001b[1;32m   1767\u001b[0m \u001b[38;5;66;03m# default hence the use of the lock\u001b[39;00m\n",
      "\u001b[0;31mKeyboardInterrupt\u001b[0m: "
     ]
    }
   ],
   "source": [
    "#Running validation analysis\n",
    "\n",
    "# The best classifier-sampling technique combination was obtained using CV - ADA-RF\n",
    "#This section is tuning only for number of features based on auroc as a metric only and using the validation set\n",
    "auroc=[];  models=[]\n",
    "sampling_names = [\"RUS\", \"REDN\", \"CC\", \"IHT\", \"NearMiss\", \"EDN\", \"Tomek\", \"Allknn\",\"CondensedNN\", \"OSS\", \"SMOTE\", \"ROS\", \"ADASYN\", \"KmeansSmote\", \"BorderlineSmote\", \"SVMSmote\"]\n",
    "#sampling_names = [\"BorderlineSmote\"]\n",
    "#sampling_techniuqes=[BorderlineSMOTE(random_state=42)]\n",
    "sampling_techniuqes = [RandomUnderSampler(random_state=42), RepeatedEditedNearestNeighbours(), ClusterCentroids(random_state=42), InstanceHardnessThreshold(random_state=42), NearMiss(), EditedNearestNeighbours(), TomekLinks(), AllKNN(), CondensedNearestNeighbour(random_state=42), OneSidedSelection(random_state=42), SMOTE(random_state=42), RandomOverSampler(random_state=42), ADASYN(random_state=42), KMeansSMOTE(random_state=42),BorderlineSMOTE(random_state=42), SVMSMOTE(random_state=42)]\n",
    "classifier_names = [\"ADA\"]; model =[]\n",
    "model_index = 0\n",
    "df=pd.DataFrame()\n",
    "feats = [5,10,15,20,25,30,35,45,50]; auroc=[]\n",
    "#feats = [30]; auroc=[]\n",
    "\n",
    "from tqdm import tqdm\n",
    "\n",
    "for n in tqdm(range(0,len(feats))): \n",
    "    print(\"For \",feats[n],\" genes: \") \n",
    "    #subsetiing n+1 genes and sampling technique -> REDN \n",
    "    X_train_sel = gene_only_66099[deg_final[0:feats[n]]] #GSE66099 as training set\n",
    "    scaler = [MinMaxScaler(), StandardScaler(), RobustScaler()]\n",
    "    scaler_names = [\"minmax\", \"std\", \"robust\"]\n",
    "    for s in tqdm(range(0, len(scaler))):\n",
    "        print(\"Scaling scheme:\", scaler_names[s])\n",
    "        for samp in range(0,len(sampling_techniuqes)):\n",
    "            print(\"Sampling: \", sampling_names[samp], \"Scaling: \", scaler_names[s], \"Classifier: \", classifier_names[0])\n",
    "            X_train_sel = pd.DataFrame(scaler[s].fit_transform(X_train_sel),columns = X_train_sel.columns)\n",
    "            X_samp,y_samp=sampling_techniuqes[samp].fit_resample(X_train_sel,labs_train)\n",
    "            X_samp = pd.DataFrame(X_samp, columns = X_train_sel.columns)\n",
    "            name_id = \"Features_\"+str(feats[n])+\"_\"+ scaler_names[s]+\"_\"+sampling_names[samp]+\"_\"+classifier_names[0]\n",
    "            #tuning KNN classifier\n",
    "            best_model = model_tune_ada(X_samp, y_samp)\n",
    "            print(best_model)\n",
    "            model.append(best_model)\n",
    "            #print(best_model_et.get_params())\n",
    "            print(\"Training done\")\n",
    "             #results on 10938 - validation set\n",
    "            y_test=labs_test_10938\n",
    "            X_test=combined_test_10938  #EMTAB10938 as validation \n",
    "            X_test = pd.DataFrame(scaler[s].fit_transform(X_test),columns = X_test.columns)\n",
    "            y_probs = best_model.predict_proba(X_test[X_samp.columns])[:,1]\n",
    "            thresholds = arange(0, 1, 0.001)\n",
    "            scores = [roc_auc_score(y_test, convert_to_labels(y_probs, t)) for t in thresholds]\n",
    "            ix= argmax(scores)\n",
    "            print(\"Threshold: \", thresholds[ix])\n",
    "            y_test_predictions = np.where(best_model.predict_proba(X_test[deg_final[0:feats[n]]])[:,1] > thresholds[ix], 1, 0)\n",
    "            fp_rate, tp_rate, thresh = roc_curve(y_test, y_probs)\n",
    "            y_test_predictions = best_model.predict(X_test[X_samp.columns])\n",
    "            auc = roc_auc_score(y_test, y_probs)\n",
    "            auroc.append(auc)\n",
    "            print(\"AUROC: \", auc)\n",
    "            sen= sensitivity_score(y_test, y_test_predictions, pos_label=1)\n",
    "            spe=specificity_score(y_test,y_test_predictions,pos_label=1)\n",
    "            acc=balanced_accuracy_score(y_test,y_test_predictions)\n",
    "            mcc=matthews_corrcoef(y_test, y_test_predictions)\n",
    "            l=[model_index, name_id, sen, spe, acc, mcc, auc, thresholds[ix]]\n",
    "            row=pd.Series(l,['Model_index','name','sen','spe','acc','mcc','auc','threshold'])\n",
    "            df=df.append([row],ignore_index=True)\n",
    "            model_index = model_index + 1\n",
    "            print(\"Sensitivity: \", sen, \"Specificity: \", spe, \"Balanced Accuracy Score: \", acc, \"MCC: \", mcc,\"AUC: \", auc)"
   ]
  }
 ],
 "metadata": {
  "kernelspec": {
   "display_name": "MODS",
   "language": "python",
   "name": "python3"
  },
  "language_info": {
   "codemirror_mode": {
    "name": "ipython",
    "version": 3
   },
   "file_extension": ".py",
   "mimetype": "text/x-python",
   "name": "python",
   "nbconvert_exporter": "python",
   "pygments_lexer": "ipython3",
   "version": "3.8.19"
  }
 },
 "nbformat": 4,
 "nbformat_minor": 2
}
